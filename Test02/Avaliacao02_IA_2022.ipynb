{
  "cells": [
    {
      "cell_type": "markdown",
      "id": "2fecce09-b387-46c7-bd88-75196508f194",
      "metadata": {
        "id": "2fecce09-b387-46c7-bd88-75196508f194"
      },
      "source": [
        "## <center> Prova [02] - Inteligência Artificial / UFPB - 2021.2 </center>\n",
        "**Discente:** Lucas Gomes Dantas <br>\n",
        "**Matrícula:** 20200082925 <br>\n",
        "**Dataset:** <a href=\"https://www.kaggle.com/datasets/csafrit2/higher-education-students-performance-evaluation\">Higher Education Students Performance Evaluation</a>\n"
      ]
    },
    {
      "cell_type": "markdown",
      "id": "d56ebe78",
      "metadata": {
        "id": "d56ebe78"
      },
      "source": [
        "***"
      ]
    },
    {
      "cell_type": "markdown",
      "id": "423c162e",
      "metadata": {
        "id": "423c162e"
      },
      "source": [
        "> **[*] Ambiente e Dependências**"
      ]
    },
    {
      "cell_type": "code",
      "execution_count": 197,
      "id": "2c2e15dc",
      "metadata": {
        "id": "2c2e15dc"
      },
      "outputs": [],
      "source": [
        "from statistics import mode\n",
        "\n",
        "import pandas as pd\n",
        "import numpy as np\n",
        "import matplotlib.pyplot as plt\n",
        "import seaborn as sns\n",
        "import six\n",
        "import sys\n",
        "import pickle\n",
        "import warnings \n",
        "\n",
        "sys.modules['sklearn.externals.six'] = six\n",
        "\n",
        "import sklearn.neighbors._base\n",
        "sys.modules['sklearn.neighbors.base'] = sklearn.neighbors._base\n",
        "\n",
        "from pandas import DataFrame\n",
        "from warnings import simplefilter\n",
        "from sklearn.model_selection import train_test_split\n",
        "from sklearn.metrics import (accuracy_score, precision_score, recall_score, confusion_matrix, classification_report)\n",
        "from sklearn.metrics import classification_report, accuracy_score, ConfusionMatrixDisplay\n",
        "\n",
        "simplefilter(\"ignore\")\n",
        "warnings.filterwarnings(\"ignore\")\n",
        "\n",
        "from autosklearn import regression, classification\n",
        "from autosklearn.classification import AutoSklearnClassifier\n",
        "from sklearn.svm import SVC\n",
        "\n",
        "from imblearn.over_sampling import SMOTE, KMeansSMOTE\n",
        "\n",
        "from collections import Counter"
      ]
    },
    {
      "cell_type": "markdown",
      "id": "b7c4710b",
      "metadata": {
        "id": "b7c4710b"
      },
      "source": [
        "\n",
        "**1 -** Utilizando a base de dados de <a href=\"https://www.kaggle.com/datasets/csafrit2/higher-education-students-performance-evaluation\">Higher Education Students Performance Evaluation</a>, elabore uma solução para identificar o OUTPUT Grade do estudante.  <br>\n"
      ]
    },
    {
      "cell_type": "markdown",
      "id": "ae6d23e7",
      "metadata": {
        "id": "ae6d23e7"
      },
      "source": [
        "> **[#] Dataset**"
      ]
    },
    {
      "cell_type": "code",
      "execution_count": 198,
      "id": "9d50513d",
      "metadata": {
        "colab": {
          "base_uri": "https://localhost:8080/",
          "height": 317
        },
        "id": "9d50513d",
        "outputId": "0fb971c7-fca6-4558-bb64-e23d07161f1a"
      },
      "outputs": [
        {
          "data": {
            "text/html": [
              "<div>\n",
              "<style scoped>\n",
              "    .dataframe tbody tr th:only-of-type {\n",
              "        vertical-align: middle;\n",
              "    }\n",
              "\n",
              "    .dataframe tbody tr th {\n",
              "        vertical-align: top;\n",
              "    }\n",
              "\n",
              "    .dataframe thead th {\n",
              "        text-align: right;\n",
              "    }\n",
              "</style>\n",
              "<table border=\"1\" class=\"dataframe\">\n",
              "  <thead>\n",
              "    <tr style=\"text-align: right;\">\n",
              "      <th></th>\n",
              "      <th>STUDENTID</th>\n",
              "      <th>AGE</th>\n",
              "      <th>GENDER</th>\n",
              "      <th>HS_TYPE</th>\n",
              "      <th>SCHOLARSHIP</th>\n",
              "      <th>WORK</th>\n",
              "      <th>ACTIVITY</th>\n",
              "      <th>PARTNER</th>\n",
              "      <th>SALARY</th>\n",
              "      <th>TRANSPORT</th>\n",
              "      <th>...</th>\n",
              "      <th>PREP_STUDY</th>\n",
              "      <th>PREP_EXAM</th>\n",
              "      <th>NOTES</th>\n",
              "      <th>LISTENS</th>\n",
              "      <th>LIKES_DISCUSS</th>\n",
              "      <th>CLASSROOM</th>\n",
              "      <th>CUML_GPA</th>\n",
              "      <th>EXP_GPA</th>\n",
              "      <th>COURSE ID</th>\n",
              "      <th>GRADE</th>\n",
              "    </tr>\n",
              "  </thead>\n",
              "  <tbody>\n",
              "    <tr>\n",
              "      <th>0</th>\n",
              "      <td>STUDENT1</td>\n",
              "      <td>2</td>\n",
              "      <td>2</td>\n",
              "      <td>3</td>\n",
              "      <td>3</td>\n",
              "      <td>1</td>\n",
              "      <td>2</td>\n",
              "      <td>2</td>\n",
              "      <td>1</td>\n",
              "      <td>1</td>\n",
              "      <td>...</td>\n",
              "      <td>1</td>\n",
              "      <td>1</td>\n",
              "      <td>3</td>\n",
              "      <td>2</td>\n",
              "      <td>1</td>\n",
              "      <td>2</td>\n",
              "      <td>1</td>\n",
              "      <td>1</td>\n",
              "      <td>1</td>\n",
              "      <td>1</td>\n",
              "    </tr>\n",
              "    <tr>\n",
              "      <th>1</th>\n",
              "      <td>STUDENT2</td>\n",
              "      <td>2</td>\n",
              "      <td>2</td>\n",
              "      <td>3</td>\n",
              "      <td>3</td>\n",
              "      <td>1</td>\n",
              "      <td>2</td>\n",
              "      <td>2</td>\n",
              "      <td>1</td>\n",
              "      <td>1</td>\n",
              "      <td>...</td>\n",
              "      <td>1</td>\n",
              "      <td>1</td>\n",
              "      <td>3</td>\n",
              "      <td>2</td>\n",
              "      <td>3</td>\n",
              "      <td>2</td>\n",
              "      <td>2</td>\n",
              "      <td>3</td>\n",
              "      <td>1</td>\n",
              "      <td>1</td>\n",
              "    </tr>\n",
              "    <tr>\n",
              "      <th>2</th>\n",
              "      <td>STUDENT3</td>\n",
              "      <td>2</td>\n",
              "      <td>2</td>\n",
              "      <td>2</td>\n",
              "      <td>3</td>\n",
              "      <td>2</td>\n",
              "      <td>2</td>\n",
              "      <td>2</td>\n",
              "      <td>2</td>\n",
              "      <td>4</td>\n",
              "      <td>...</td>\n",
              "      <td>1</td>\n",
              "      <td>1</td>\n",
              "      <td>2</td>\n",
              "      <td>2</td>\n",
              "      <td>1</td>\n",
              "      <td>1</td>\n",
              "      <td>2</td>\n",
              "      <td>2</td>\n",
              "      <td>1</td>\n",
              "      <td>1</td>\n",
              "    </tr>\n",
              "    <tr>\n",
              "      <th>3</th>\n",
              "      <td>STUDENT4</td>\n",
              "      <td>1</td>\n",
              "      <td>1</td>\n",
              "      <td>1</td>\n",
              "      <td>3</td>\n",
              "      <td>1</td>\n",
              "      <td>2</td>\n",
              "      <td>1</td>\n",
              "      <td>2</td>\n",
              "      <td>1</td>\n",
              "      <td>...</td>\n",
              "      <td>1</td>\n",
              "      <td>2</td>\n",
              "      <td>3</td>\n",
              "      <td>2</td>\n",
              "      <td>2</td>\n",
              "      <td>1</td>\n",
              "      <td>3</td>\n",
              "      <td>2</td>\n",
              "      <td>1</td>\n",
              "      <td>1</td>\n",
              "    </tr>\n",
              "    <tr>\n",
              "      <th>4</th>\n",
              "      <td>STUDENT5</td>\n",
              "      <td>2</td>\n",
              "      <td>2</td>\n",
              "      <td>1</td>\n",
              "      <td>3</td>\n",
              "      <td>2</td>\n",
              "      <td>2</td>\n",
              "      <td>1</td>\n",
              "      <td>3</td>\n",
              "      <td>1</td>\n",
              "      <td>...</td>\n",
              "      <td>2</td>\n",
              "      <td>1</td>\n",
              "      <td>2</td>\n",
              "      <td>2</td>\n",
              "      <td>2</td>\n",
              "      <td>1</td>\n",
              "      <td>2</td>\n",
              "      <td>2</td>\n",
              "      <td>1</td>\n",
              "      <td>1</td>\n",
              "    </tr>\n",
              "  </tbody>\n",
              "</table>\n",
              "<p>5 rows × 33 columns</p>\n",
              "</div>"
            ],
            "text/plain": [
              "  STUDENTID  AGE  GENDER  HS_TYPE  SCHOLARSHIP  WORK  ACTIVITY  PARTNER  \\\n",
              "0  STUDENT1    2       2        3            3     1         2        2   \n",
              "1  STUDENT2    2       2        3            3     1         2        2   \n",
              "2  STUDENT3    2       2        2            3     2         2        2   \n",
              "3  STUDENT4    1       1        1            3     1         2        1   \n",
              "4  STUDENT5    2       2        1            3     2         2        1   \n",
              "\n",
              "   SALARY  TRANSPORT  ...  PREP_STUDY  PREP_EXAM  NOTES  LISTENS  \\\n",
              "0       1          1  ...           1          1      3        2   \n",
              "1       1          1  ...           1          1      3        2   \n",
              "2       2          4  ...           1          1      2        2   \n",
              "3       2          1  ...           1          2      3        2   \n",
              "4       3          1  ...           2          1      2        2   \n",
              "\n",
              "   LIKES_DISCUSS  CLASSROOM  CUML_GPA  EXP_GPA  COURSE ID  GRADE  \n",
              "0              1          2         1        1          1      1  \n",
              "1              3          2         2        3          1      1  \n",
              "2              1          1         2        2          1      1  \n",
              "3              2          1         3        2          1      1  \n",
              "4              2          1         2        2          1      1  \n",
              "\n",
              "[5 rows x 33 columns]"
            ]
          },
          "execution_count": 198,
          "metadata": {},
          "output_type": "execute_result"
        }
      ],
      "source": [
        "dstudent = pd.read_csv('student_prediction.csv')\n",
        "dstudent.head()"
      ]
    },
    {
      "cell_type": "code",
      "execution_count": 199,
      "id": "2a0f6594",
      "metadata": {
        "colab": {
          "base_uri": "https://localhost:8080/",
          "height": 285
        },
        "id": "2a0f6594",
        "outputId": "e57c3eb5-f8d2-48d7-bc44-6e8262224904"
      },
      "outputs": [
        {
          "data": {
            "image/png": "[encoded data removed]",
            "text/plain": [
              "<Figure size 432x288 with 1 Axes>"
            ]
          },
          "metadata": {},
          "output_type": "display_data"
        }
      ],
      "source": [
        "graphstd = sns.countplot(dstudent['GRADE'], label = 'Count')\n",
        "plt.show()"
      ]
    },
    {
      "cell_type": "markdown",
      "id": "7c8594fb",
      "metadata": {
        "id": "7c8594fb"
      },
      "source": [
        "> **1 [A]** - Faça o pré-processamento dos dados (limpeza, engenharia de variáveis, etc) e deixe os seus dados preparados para aplicar o modelo.<br>\n",
        "\n",
        "> **1 [A - a]** Utilize pelo menos uma forma de redimensionamento de atributos (selecionando ou agregando) e avalie o resultado de utilizar todas eles e essa amostra.\n"
      ]
    },
    {
      "cell_type": "markdown",
      "id": "41ee7d86",
      "metadata": {
        "id": "41ee7d86"
      },
      "source": [
        ">> **[#] Pré-processamento**"
      ]
    },
    {
      "cell_type": "code",
      "execution_count": 200,
      "id": "16fab3b6",
      "metadata": {
        "colab": {
          "base_uri": "https://localhost:8080/"
        },
        "id": "16fab3b6",
        "outputId": "466f0368-22fd-4434-e2de-d157da2cbc60"
      },
      "outputs": [
        {
          "name": "stdout",
          "output_type": "stream",
          "text": [
            "<class 'pandas.core.frame.DataFrame'>\n",
            "RangeIndex: 145 entries, 0 to 144\n",
            "Data columns (total 33 columns):\n",
            " #   Column         Non-Null Count  Dtype \n",
            "---  ------         --------------  ----- \n",
            " 0   STUDENTID      145 non-null    object\n",
            " 1   AGE            145 non-null    int64 \n",
            " 2   GENDER         145 non-null    int64 \n",
            " 3   HS_TYPE        145 non-null    int64 \n",
            " 4   SCHOLARSHIP    145 non-null    int64 \n",
            " 5   WORK           145 non-null    int64 \n",
            " 6   ACTIVITY       145 non-null    int64 \n",
            " 7   PARTNER        145 non-null    int64 \n",
            " 8   SALARY         145 non-null    int64 \n",
            " 9   TRANSPORT      145 non-null    int64 \n",
            " 10  LIVING         145 non-null    int64 \n",
            " 11  MOTHER_EDU     145 non-null    int64 \n",
            " 12  FATHER_EDU     145 non-null    int64 \n",
            " 13  #_SIBLINGS     145 non-null    int64 \n",
            " 14  KIDS           145 non-null    int64 \n",
            " 15  MOTHER_JOB     145 non-null    int64 \n",
            " 16  FATHER_JOB     145 non-null    int64 \n",
            " 17  STUDY_HRS      145 non-null    int64 \n",
            " 18  READ_FREQ      145 non-null    int64 \n",
            " 19  READ_FREQ_SCI  145 non-null    int64 \n",
            " 20  ATTEND_DEPT    145 non-null    int64 \n",
            " 21  IMPACT         145 non-null    int64 \n",
            " 22  ATTEND         145 non-null    int64 \n",
            " 23  PREP_STUDY     145 non-null    int64 \n",
            " 24  PREP_EXAM      145 non-null    int64 \n",
            " 25  NOTES          145 non-null    int64 \n",
            " 26  LISTENS        145 non-null    int64 \n",
            " 27  LIKES_DISCUSS  145 non-null    int64 \n",
            " 28  CLASSROOM      145 non-null    int64 \n",
            " 29  CUML_GPA       145 non-null    int64 \n",
            " 30  EXP_GPA        145 non-null    int64 \n",
            " 31  COURSE ID      145 non-null    int64 \n",
            " 32  GRADE          145 non-null    int64 \n",
            "dtypes: int64(32), object(1)\n",
            "memory usage: 37.5+ KB\n"
          ]
        }
      ],
      "source": [
        "dstudent.info()"
      ]
    },
    {
      "cell_type": "markdown",
      "id": "HSdE1VyPXfvr",
      "metadata": {
        "id": "HSdE1VyPXfvr"
      },
      "source": [
        ">> Todos os dados são numéricos, então não há necessidade de conversão."
      ]
    },
    {
      "cell_type": "code",
      "execution_count": 201,
      "id": "0941a671",
      "metadata": {
        "colab": {
          "base_uri": "https://localhost:8080/"
        },
        "id": "0941a671",
        "outputId": "23c35f5f-fe0f-42b0-d098-4132fbef624d"
      },
      "outputs": [
        {
          "data": {
            "text/plain": [
              "(145, 33)"
            ]
          },
          "execution_count": 201,
          "metadata": {},
          "output_type": "execute_result"
        }
      ],
      "source": [
        "dstudent.shape"
      ]
    },
    {
      "cell_type": "code",
      "execution_count": 202,
      "id": "99af49f6",
      "metadata": {
        "colab": {
          "base_uri": "https://localhost:8080/",
          "height": 175
        },
        "id": "99af49f6",
        "outputId": "de6c6fdc-5145-4bbe-b843-33bdaab653ac"
      },
      "outputs": [
        {
          "data": {
            "text/html": [
              "<div>\n",
              "<style scoped>\n",
              "    .dataframe tbody tr th:only-of-type {\n",
              "        vertical-align: middle;\n",
              "    }\n",
              "\n",
              "    .dataframe tbody tr th {\n",
              "        vertical-align: top;\n",
              "    }\n",
              "\n",
              "    .dataframe thead th {\n",
              "        text-align: right;\n",
              "    }\n",
              "</style>\n",
              "<table border=\"1\" class=\"dataframe\">\n",
              "  <thead>\n",
              "    <tr style=\"text-align: right;\">\n",
              "      <th></th>\n",
              "      <th>STUDENTID</th>\n",
              "    </tr>\n",
              "  </thead>\n",
              "  <tbody>\n",
              "    <tr>\n",
              "      <th>count</th>\n",
              "      <td>145</td>\n",
              "    </tr>\n",
              "    <tr>\n",
              "      <th>unique</th>\n",
              "      <td>145</td>\n",
              "    </tr>\n",
              "    <tr>\n",
              "      <th>top</th>\n",
              "      <td>STUDENT1</td>\n",
              "    </tr>\n",
              "    <tr>\n",
              "      <th>freq</th>\n",
              "      <td>1</td>\n",
              "    </tr>\n",
              "  </tbody>\n",
              "</table>\n",
              "</div>"
            ],
            "text/plain": [
              "       STUDENTID\n",
              "count        145\n",
              "unique       145\n",
              "top     STUDENT1\n",
              "freq           1"
            ]
          },
          "execution_count": 202,
          "metadata": {},
          "output_type": "execute_result"
        }
      ],
      "source": [
        "dstudent.describe(include=object)"
      ]
    },
    {
      "cell_type": "markdown",
      "id": "0233ecd7",
      "metadata": {
        "id": "0233ecd7"
      },
      "source": [
        ">>> Apresenta a disposição dos dados para os atributos do tipo object e sua incidência de valores e singularidade."
      ]
    },
    {
      "cell_type": "code",
      "execution_count": 203,
      "id": "e27bdbfc",
      "metadata": {
        "id": "e27bdbfc"
      },
      "outputs": [],
      "source": [
        "dstudent = dstudent.drop(['STUDENTID', 'COURSE ID'], axis = 1)"
      ]
    },
    {
      "cell_type": "markdown",
      "id": "aa9fd0ad",
      "metadata": {
        "id": "aa9fd0ad"
      },
      "source": [
        ">>> Removendo atributos de ID, pois é irrelevante ao contexto."
      ]
    },
    {
      "cell_type": "code",
      "execution_count": 204,
      "id": "JgbvU8E-YEAG",
      "metadata": {
        "id": "JgbvU8E-YEAG"
      },
      "outputs": [],
      "source": [
        "dstudent = dstudent.drop_duplicates()\n",
        "dstudent = dstudent.dropna()"
      ]
    },
    {
      "cell_type": "markdown",
      "id": "mfqgFmbLYTrA",
      "metadata": {
        "id": "mfqgFmbLYTrA"
      },
      "source": [
        ">>> Removendos dados duplicados e nulos."
      ]
    },
    {
      "cell_type": "code",
      "execution_count": 205,
      "id": "acb4786c",
      "metadata": {
        "colab": {
          "base_uri": "https://localhost:8080/",
          "height": 143
        },
        "id": "acb4786c",
        "outputId": "6f04e573-e165-4a8d-d289-8dcdce6804b6"
      },
      "outputs": [
        {
          "data": {
            "text/html": [
              "<div>\n",
              "<style scoped>\n",
              "    .dataframe tbody tr th:only-of-type {\n",
              "        vertical-align: middle;\n",
              "    }\n",
              "\n",
              "    .dataframe tbody tr th {\n",
              "        vertical-align: top;\n",
              "    }\n",
              "\n",
              "    .dataframe thead th {\n",
              "        text-align: right;\n",
              "    }\n",
              "</style>\n",
              "<table border=\"1\" class=\"dataframe\">\n",
              "  <thead>\n",
              "    <tr style=\"text-align: right;\">\n",
              "      <th></th>\n",
              "      <th>AGE</th>\n",
              "      <th>GENDER</th>\n",
              "      <th>HS_TYPE</th>\n",
              "      <th>SCHOLARSHIP</th>\n",
              "      <th>WORK</th>\n",
              "      <th>ACTIVITY</th>\n",
              "      <th>PARTNER</th>\n",
              "      <th>SALARY</th>\n",
              "      <th>TRANSPORT</th>\n",
              "      <th>LIVING</th>\n",
              "      <th>...</th>\n",
              "      <th>ATTEND</th>\n",
              "      <th>PREP_STUDY</th>\n",
              "      <th>PREP_EXAM</th>\n",
              "      <th>NOTES</th>\n",
              "      <th>LISTENS</th>\n",
              "      <th>LIKES_DISCUSS</th>\n",
              "      <th>CLASSROOM</th>\n",
              "      <th>CUML_GPA</th>\n",
              "      <th>EXP_GPA</th>\n",
              "      <th>GRADE</th>\n",
              "    </tr>\n",
              "  </thead>\n",
              "  <tbody>\n",
              "  </tbody>\n",
              "</table>\n",
              "<p>0 rows × 31 columns</p>\n",
              "</div>"
            ],
            "text/plain": [
              "Empty DataFrame\n",
              "Columns: [AGE, GENDER, HS_TYPE, SCHOLARSHIP, WORK, ACTIVITY, PARTNER, SALARY, TRANSPORT, LIVING, MOTHER_EDU, FATHER_EDU, #_SIBLINGS, KIDS, MOTHER_JOB, FATHER_JOB, STUDY_HRS, READ_FREQ, READ_FREQ_SCI, ATTEND_DEPT, IMPACT, ATTEND, PREP_STUDY, PREP_EXAM, NOTES, LISTENS, LIKES_DISCUSS, CLASSROOM, CUML_GPA, EXP_GPA, GRADE]\n",
              "Index: []\n",
              "\n",
              "[0 rows x 31 columns]"
            ]
          },
          "execution_count": 205,
          "metadata": {},
          "output_type": "execute_result"
        }
      ],
      "source": [
        "double = dstudent[dstudent.duplicated()]\n",
        "double"
      ]
    },
    {
      "cell_type": "code",
      "execution_count": 206,
      "id": "c39ea481",
      "metadata": {
        "colab": {
          "base_uri": "https://localhost:8080/",
          "height": 677
        },
        "id": "c39ea481",
        "outputId": "e53bc6f0-21a5-495f-ad67-40eb68f694c6"
      },
      "outputs": [
        {
          "data": {
            "image/png": "[encoded data removed]",
            "text/plain": [
              "<Figure size 1008x720 with 2 Axes>"
            ]
          },
          "metadata": {},
          "output_type": "display_data"
        }
      ],
      "source": [
        "plt.figure(figsize=(14, 10))\n",
        "sns.heatmap(dstudent.corr(), cmap = \"icefire\")\n",
        "plt.show()"
      ]
    },
    {
      "cell_type": "markdown",
      "id": "cac3e8f4",
      "metadata": {
        "id": "cac3e8f4"
      },
      "source": [
        ">>> Ao avaliar o gráfico é possível identificar uma incidência maior de correlação entre \"EXP_GPA\" em relação ao \"CUML_GPA\". <br>\n",
        "\n",
        ">>> Após alguns testes foi possível perceber que há um impacto considerável na remoção de um desses atributos, por mais que exista uma relação mais pontual que nos outros. Dessa forma, irão permanecer no dataset.\n",
        "\n"
      ]
    },
    {
      "cell_type": "markdown",
      "id": "a405f654",
      "metadata": {
        "id": "a405f654"
      },
      "source": [
        "> **1 [B]** - Faça uma análise exploratória dos dados de saída, utilizando box plot, mostrando a aplicação de técnicas de under ou oversampling para que as classes tenham o mesmo tamanho. <br>"
      ]
    },
    {
      "cell_type": "code",
      "execution_count": 211,
      "id": "1qqfZ058Xn7A",
      "metadata": {
        "id": "1qqfZ058Xn7A"
      },
      "outputs": [],
      "source": [
        "sns.set_theme(style=\"whitegrid\")"
      ]
    },
    {
      "cell_type": "code",
      "execution_count": 212,
      "id": "a122b9b6",
      "metadata": {
        "colab": {
          "base_uri": "https://localhost:8080/",
          "height": 268
        },
        "id": "a122b9b6",
        "outputId": "af97a74a-8eb4-4324-ea46-693730665c33"
      },
      "outputs": [
        {
          "data": {
            "image/png": "[encoded data removed]",
            "text/plain": [
              "<Figure size 432x288 with 1 Axes>"
            ]
          },
          "metadata": {},
          "output_type": "display_data"
        }
      ],
      "source": [
        "dstudent.boxplot(column=['GRADE'], vert = False)\n",
        "plt.show()"
      ]
    },
    {
      "cell_type": "markdown",
      "id": "60644ef6",
      "metadata": {
        "id": "60644ef6"
      },
      "source": [
        ">> O boxplot indica uma concentração maior de notas onde incide os menores valores, tendenciando os dados. Diante desse cenário, será aplicada a técnica de oversampling para igualar as menores notas em sentido quantitativo de elementos."
      ]
    },
    {
      "cell_type": "code",
      "execution_count": 213,
      "id": "2bd6358b",
      "metadata": {
        "colab": {
          "base_uri": "https://localhost:8080/"
        },
        "id": "2bd6358b",
        "outputId": "37c2ca70-9908-4ba2-f9ca-f9cfb6a05056"
      },
      "outputs": [
        {
          "data": {
            "text/plain": [
              "1    35\n",
              "2    24\n",
              "3    21\n",
              "5    17\n",
              "7    17\n",
              "6    13\n",
              "4    10\n",
              "0     8\n",
              "Name: GRADE, dtype: int64"
            ]
          },
          "execution_count": 213,
          "metadata": {},
          "output_type": "execute_result"
        }
      ],
      "source": [
        "dstudent['GRADE'].value_counts()"
      ]
    },
    {
      "cell_type": "code",
      "execution_count": 214,
      "id": "v8P27_MHO-DY",
      "metadata": {
        "id": "v8P27_MHO-DY"
      },
      "outputs": [],
      "source": [
        "## Balanceador\n",
        "\n",
        "k_smt = KMeansSMOTE(kmeans_estimator=1, n_jobs=-1, random_state=42, cluster_balance_threshold=0)"
      ]
    },
    {
      "cell_type": "code",
      "execution_count": 215,
      "id": "9EMCOSjD6fBH",
      "metadata": {
        "id": "9EMCOSjD6fBH"
      },
      "outputs": [],
      "source": [
        "dstudent_anon = dstudent.drop(labels=['GRADE'], axis=1)\n",
        "\n",
        "dstudent_anon, dstudent_grade = k_smt.fit_resample(dstudent_anon, dstudent['GRADE'])\n",
        "dstudent_balanced = pd.concat([dstudent_anon, dstudent_grade], axis=1)"
      ]
    },
    {
      "cell_type": "code",
      "execution_count": 216,
      "id": "tHgVXApI588z",
      "metadata": {
        "colab": {
          "base_uri": "https://localhost:8080/",
          "height": 268
        },
        "id": "tHgVXApI588z",
        "outputId": "77332255-db10-4c4c-c5b1-fcf0c192a3e2"
      },
      "outputs": [
        {
          "data": {
            "image/png": "[encoded data removed]",
            "text/plain": [
              "<Figure size 432x288 with 1 Axes>"
            ]
          },
          "metadata": {},
          "output_type": "display_data"
        }
      ],
      "source": [
        "dstudent_balanced.boxplot(column=['GRADE'], vert = False)\n",
        "plt.show()"
      ]
    },
    {
      "cell_type": "markdown",
      "id": "QjTurUIzcmRN",
      "metadata": {
        "id": "QjTurUIzcmRN"
      },
      "source": [
        ">> Após a aplicação do oversampling aos dados, a mediana agora está localizada no centro, estando devidamente balanceada."
      ]
    },
    {
      "cell_type": "markdown",
      "id": "1a998cb4",
      "metadata": {
        "id": "1a998cb4"
      },
      "source": [
        "> **1 [C]** - Utilize a biblioteca AUTOML para fazer a previsão. Para o melhor algoritmo, teste 3 variações de um dos seus hiperparâmetros. <br>\n",
        "\n",
        "> **1 [D]** - Para avaliar os resultados, utilize e explique a matriz de confusão. Além disso, escolha 2 métricas de sua preferência e o que o seu resultado significa. <br>"
      ]
    },
    {
      "cell_type": "code",
      "execution_count": 217,
      "id": "cdf2e40b",
      "metadata": {
        "colab": {
          "base_uri": "https://localhost:8080/"
        },
        "id": "cdf2e40b",
        "outputId": "ba4a4b5b-61e0-4059-ca34-9d44f435300a"
      },
      "outputs": [
        {
          "data": {
            "text/plain": [
              "((280, 30), (280,))"
            ]
          },
          "execution_count": 217,
          "metadata": {},
          "output_type": "execute_result"
        }
      ],
      "source": [
        "dstudent_x = dstudent_balanced.iloc[:, :-1].values\n",
        "dstudent_y = dstudent_balanced.iloc[:, -1].values\n",
        "\n",
        "(dstudent_x.shape, dstudent_y.shape)"
      ]
    },
    {
      "cell_type": "markdown",
      "id": "JjGymct6WzHZ",
      "metadata": {
        "id": "JjGymct6WzHZ"
      },
      "source": [
        ">> Definindo os dados de treinamento e teste."
      ]
    },
    {
      "cell_type": "code",
      "execution_count": 218,
      "id": "137440be",
      "metadata": {
        "id": "137440be"
      },
      "outputs": [],
      "source": [
        "X_train, X_test, y_train, y_test = train_test_split(dstudent_x, dstudent_y, test_size=0.33, random_state=42, stratify=dstudent_y)"
      ]
    },
    {
      "cell_type": "code",
      "execution_count": 219,
      "id": "d4a4640f",
      "metadata": {
        "colab": {
          "base_uri": "https://localhost:8080/"
        },
        "id": "d4a4640f",
        "outputId": "f57f5694-4000-4a4d-deba-cc6ed79f5d09"
      },
      "outputs": [
        {
          "data": {
            "text/plain": [
              "(((187, 30), (187,)), ((93, 30), (93,)))"
            ]
          },
          "execution_count": 219,
          "metadata": {},
          "output_type": "execute_result"
        }
      ],
      "source": [
        "(X_train.shape, y_train.shape), (X_test.shape, y_test.shape)"
      ]
    },
    {
      "cell_type": "markdown",
      "id": "3553213c",
      "metadata": {},
      "source": [
        ">>> Criando modelo do AUTOML settando configurações prévias."
      ]
    },
    {
      "cell_type": "code",
      "execution_count": null,
      "id": "Go2deL91_qHf",
      "metadata": {
        "colab": {
          "base_uri": "https://localhost:8080/"
        },
        "id": "Go2deL91_qHf",
        "outputId": "11641b27-cf23-4617-b343-24914278a87a"
      },
      "outputs": [],
      "source": [
        "autosk = AutoSklearnClassifier(\n",
        "    time_left_for_this_task=60 * (5),\n",
        "    per_run_time_limit=20,\n",
        "    resampling_strategy=\"cv\",\n",
        "    resampling_strategy_arguments={\"folds\": 10},\n",
        "    n_jobs =-1\n",
        ")\n",
        "\n",
        "autosk.fit(X_train, y_train)\n",
        "autosk.refit(X_train, y_train)"
      ]
    },
    {
      "cell_type": "code",
      "execution_count": 414,
      "id": "8c65226d",
      "metadata": {},
      "outputs": [],
      "source": [
        "# Grava o modelo e seus respectivos hiperparâmetros\n",
        "\n",
        "with open('predict-grade.pkl', 'wb')  as f:\n",
        "    pickle.dump(autosk, f)"
      ]
    },
    {
      "cell_type": "code",
      "execution_count": 415,
      "id": "f609bf53",
      "metadata": {},
      "outputs": [],
      "source": [
        "# Carrega o modelo e seus respectivos hiperparâmetros\n",
        "\n",
        "with open('predict-grade.pkl', 'rb') as f:\n",
        "    loaded_classifier = pickle.load(f)"
      ]
    },
    {
      "cell_type": "code",
      "execution_count": 422,
      "id": "64f240c5",
      "metadata": {},
      "outputs": [
        {
          "name": "stdout",
          "output_type": "stream",
          "text": [
            "Melhor modelo de testes - Radom-forest\n",
            "\n",
            "Melhor acurácia: 0.7956989247311828\n"
          ]
        }
      ],
      "source": [
        "y_true = y_test\n",
        "y_pred = loaded_classifier.predict(X_test)\n",
        "\n",
        "print(\"Melhor modelo de testes - Radom-forest\")\n",
        "print(\"\")\n",
        "\n",
        "print(f\"Melhor acurácia: {accuracy_score(y_true, y_pred)}\")"
      ]
    },
    {
      "cell_type": "markdown",
      "id": "6f6af193",
      "metadata": {},
      "source": [
        ">>> O melhor modelo escolhido pelo AUTOML foi Random Forest, com uma acurácia de 0.80, mas sofrendo variações pontuais devido seu random_state, variando de 0.70 a 0.80. Irei coletar os hiperparâmetros e aplicar nos modelos seguintes."
      ]
    },
    {
      "cell_type": "code",
      "execution_count": 416,
      "id": "HwozDK37SddL",
      "metadata": {
        "colab": {
          "base_uri": "https://localhost:8080/"
        },
        "id": "HwozDK37SddL",
        "outputId": "83e93dc5-539a-4b59-ec0d-ebdae18d45c0"
      },
      "outputs": [
        {
          "name": "stdout",
          "output_type": "stream",
          "text": [
            "Acurácia: 0.7956989247311828\n",
            "\n"
          ]
        }
      ],
      "source": [
        "predictions = autosk.predict(X_test)\n",
        "\n",
        "print(f\"Acurácia: {accuracy_score(y_test, predictions)}\")\n",
        "print(\"\")"
      ]
    },
    {
      "cell_type": "code",
      "execution_count": 334,
      "id": "4676a70e",
      "metadata": {},
      "outputs": [
        {
          "name": "stdout",
          "output_type": "stream",
          "text": [
            "          rank  ensemble_weight           type      cost   duration\n",
            "model_id                                                           \n",
            "2            1             0.02  random_forest  0.315508  17.334102\n",
            "39           2             0.02            lda  0.331551   6.495830\n",
            "32           3             0.44            sgd  0.427807   9.734589\n",
            "59           4             0.02    extra_trees  0.433155  13.857466\n",
            "49           5             0.02            qda  0.556150   9.404188\n",
            "36           6             0.10       adaboost  0.631016  12.028801\n",
            "62           7             0.38            sgd  0.631016  14.543917\n"
          ]
        }
      ],
      "source": [
        "print(autosk.leaderboard())"
      ]
    },
    {
      "cell_type": "code",
      "execution_count": 252,
      "id": "q3YAEWa8Mh0O",
      "metadata": {
        "colab": {
          "base_uri": "https://localhost:8080/"
        },
        "id": "q3YAEWa8Mh0O",
        "outputId": "f6f26746-7fee-452d-d121-5d4279a8a5f3"
      },
      "outputs": [
        {
          "name": "stdout",
          "output_type": "stream",
          "text": [
            "              precision    recall  f1-score   support\n",
            "\n",
            "           0       0.91      0.91      0.91        11\n",
            "           1       0.44      0.73      0.55        11\n",
            "           2       0.89      0.67      0.76        12\n",
            "           3       0.73      0.67      0.70        12\n",
            "           4       0.91      0.83      0.87        12\n",
            "           5       1.00      0.73      0.84        11\n",
            "           6       0.92      0.92      0.92        12\n",
            "           7       0.85      0.92      0.88        12\n",
            "\n",
            "    accuracy                           0.80        93\n",
            "   macro avg       0.83      0.80      0.80        93\n",
            "weighted avg       0.83      0.80      0.80        93\n",
            "\n"
          ]
        }
      ],
      "source": [
        "print(classification_report(y_test, predictions))"
      ]
    },
    {
      "cell_type": "code",
      "execution_count": 337,
      "id": "ac0bbebd",
      "metadata": {},
      "outputs": [
        {
          "data": {
            "text/plain": [
              "0"
            ]
          },
          "execution_count": 337,
          "metadata": {},
          "output_type": "execute_result"
        }
      ],
      "source": [
        "np.argmax(autosk.cv_results_['mean_test_score'])"
      ]
    },
    {
      "cell_type": "markdown",
      "id": "3b82d184",
      "metadata": {},
      "source": [
        ">>> Hiperparâmetros do AUTOML"
      ]
    },
    {
      "cell_type": "code",
      "execution_count": 421,
      "id": "b367beca",
      "metadata": {},
      "outputs": [
        {
          "data": {
            "text/html": [
              "<div>\n",
              "<style scoped>\n",
              "    .dataframe tbody tr th:only-of-type {\n",
              "        vertical-align: middle;\n",
              "    }\n",
              "\n",
              "    .dataframe tbody tr th {\n",
              "        vertical-align: top;\n",
              "    }\n",
              "\n",
              "    .dataframe thead th {\n",
              "        text-align: right;\n",
              "    }\n",
              "</style>\n",
              "<table border=\"1\" class=\"dataframe\">\n",
              "  <thead>\n",
              "    <tr style=\"text-align: right;\">\n",
              "      <th></th>\n",
              "      <th>0</th>\n",
              "      <th>1</th>\n",
              "    </tr>\n",
              "  </thead>\n",
              "  <tbody>\n",
              "    <tr>\n",
              "      <th>0</th>\n",
              "      <td>balancing:strategy</td>\n",
              "      <td>none</td>\n",
              "    </tr>\n",
              "    <tr>\n",
              "      <th>1</th>\n",
              "      <td>classifier:__choice__</td>\n",
              "      <td>random_forest</td>\n",
              "    </tr>\n",
              "    <tr>\n",
              "      <th>2</th>\n",
              "      <td>data_preprocessor:__choice__</td>\n",
              "      <td>feature_type</td>\n",
              "    </tr>\n",
              "    <tr>\n",
              "      <th>3</th>\n",
              "      <td>feature_preprocessor:__choice__</td>\n",
              "      <td>no_preprocessing</td>\n",
              "    </tr>\n",
              "    <tr>\n",
              "      <th>4</th>\n",
              "      <td>classifier:random_forest:bootstrap</td>\n",
              "      <td>True</td>\n",
              "    </tr>\n",
              "    <tr>\n",
              "      <th>5</th>\n",
              "      <td>classifier:random_forest:criterion</td>\n",
              "      <td>gini</td>\n",
              "    </tr>\n",
              "    <tr>\n",
              "      <th>6</th>\n",
              "      <td>classifier:random_forest:max_depth</td>\n",
              "      <td>None</td>\n",
              "    </tr>\n",
              "    <tr>\n",
              "      <th>7</th>\n",
              "      <td>classifier:random_forest:max_features</td>\n",
              "      <td>0.5</td>\n",
              "    </tr>\n",
              "    <tr>\n",
              "      <th>8</th>\n",
              "      <td>classifier:random_forest:max_leaf_nodes</td>\n",
              "      <td>None</td>\n",
              "    </tr>\n",
              "    <tr>\n",
              "      <th>9</th>\n",
              "      <td>classifier:random_forest:min_impurity_decrease</td>\n",
              "      <td>0.0</td>\n",
              "    </tr>\n",
              "    <tr>\n",
              "      <th>10</th>\n",
              "      <td>classifier:random_forest:min_samples_leaf</td>\n",
              "      <td>1</td>\n",
              "    </tr>\n",
              "    <tr>\n",
              "      <th>11</th>\n",
              "      <td>classifier:random_forest:min_samples_split</td>\n",
              "      <td>2</td>\n",
              "    </tr>\n",
              "    <tr>\n",
              "      <th>12</th>\n",
              "      <td>classifier:random_forest:min_weight_fraction_leaf</td>\n",
              "      <td>0.0</td>\n",
              "    </tr>\n",
              "    <tr>\n",
              "      <th>13</th>\n",
              "      <td>data_preprocessor:feature_type:categorical_tra...</td>\n",
              "      <td>one_hot_encoding</td>\n",
              "    </tr>\n",
              "    <tr>\n",
              "      <th>14</th>\n",
              "      <td>data_preprocessor:feature_type:categorical_tra...</td>\n",
              "      <td>minority_coalescer</td>\n",
              "    </tr>\n",
              "    <tr>\n",
              "      <th>15</th>\n",
              "      <td>data_preprocessor:feature_type:numerical_trans...</td>\n",
              "      <td>mean</td>\n",
              "    </tr>\n",
              "    <tr>\n",
              "      <th>16</th>\n",
              "      <td>data_preprocessor:feature_type:numerical_trans...</td>\n",
              "      <td>standardize</td>\n",
              "    </tr>\n",
              "    <tr>\n",
              "      <th>17</th>\n",
              "      <td>data_preprocessor:feature_type:categorical_tra...</td>\n",
              "      <td>0.01</td>\n",
              "    </tr>\n",
              "  </tbody>\n",
              "</table>\n",
              "</div>"
            ],
            "text/plain": [
              "                                                    0                   1\n",
              "0                                  balancing:strategy                none\n",
              "1                               classifier:__choice__       random_forest\n",
              "2                        data_preprocessor:__choice__        feature_type\n",
              "3                     feature_preprocessor:__choice__    no_preprocessing\n",
              "4                  classifier:random_forest:bootstrap                True\n",
              "5                  classifier:random_forest:criterion                gini\n",
              "6                  classifier:random_forest:max_depth                None\n",
              "7               classifier:random_forest:max_features                 0.5\n",
              "8             classifier:random_forest:max_leaf_nodes                None\n",
              "9      classifier:random_forest:min_impurity_decrease                 0.0\n",
              "10          classifier:random_forest:min_samples_leaf                   1\n",
              "11         classifier:random_forest:min_samples_split                   2\n",
              "12  classifier:random_forest:min_weight_fraction_leaf                 0.0\n",
              "13  data_preprocessor:feature_type:categorical_tra...    one_hot_encoding\n",
              "14  data_preprocessor:feature_type:categorical_tra...  minority_coalescer\n",
              "15  data_preprocessor:feature_type:numerical_trans...                mean\n",
              "16  data_preprocessor:feature_type:numerical_trans...         standardize\n",
              "17  data_preprocessor:feature_type:categorical_tra...                0.01"
            ]
          },
          "execution_count": 421,
          "metadata": {},
          "output_type": "execute_result"
        }
      ],
      "source": [
        "report = DataFrame(autosk.cv_results_).sort_values(by=[\"rank_test_scores\"])\n",
        "\n",
        "bestParams = report.loc[report.rank_test_scores == 1, \"params\"].squeeze()\n",
        "\n",
        "dparams_items = bestParams.items()\n",
        "dparams = pd.DataFrame(dparams_items)\n",
        "\n",
        "dparams"
      ]
    },
    {
      "cell_type": "markdown",
      "id": "f31825a6",
      "metadata": {},
      "source": [
        ">>> Através desta tabela é possível coletar os hiperparâmetros utilizados no modelo do autosklearn. Como não há gerenciamento automático dessas condições, irei replica-los manualmente."
      ]
    },
    {
      "cell_type": "markdown",
      "id": "7bdfc034",
      "metadata": {},
      "source": [
        ">>> Aplicando os teste em 3 modelos alterando seus hiperparâmetros."
      ]
    },
    {
      "cell_type": "code",
      "execution_count": 401,
      "id": "3d508876",
      "metadata": {},
      "outputs": [],
      "source": [
        "from sklearn.ensemble import RandomForestClassifier\n",
        "\n",
        "## Melhores parâmetros do autosklearn\n",
        "\n",
        "best_params = {\n",
        "    \"bootstrap\": True,\n",
        "    \"criterion\": \"gini\",\n",
        "    \"max_depth\": None,\n",
        "    \"random_state\": 42,\n",
        "    \"max_features\": 0.5,\n",
        "    \"max_leaf_nodes\": None,\n",
        "    \"min_impurity_decrease\": 0.00,\n",
        "    \"min_samples_leaf\": 1,\n",
        "    \"min_samples_split\": 2,\n",
        "    \"min_weight_fraction_leaf\": 0.00,\n",
        "}\n",
        "\n",
        "p = [best_params.copy(), best_params.copy(), best_params.copy()]\n",
        "\n",
        "# Modelo 1\n",
        "p[0].update({\"max_features\": 0.8})\n",
        "# Modelo 2\n",
        "p[1].update({\"max_features\": 0.9})\n",
        "# Modelo 3\n",
        "p[2].update({\"max_features\": 1.0})\n",
        "\n",
        "rf = RandomForestClassifier(**best_params)"
      ]
    },
    {
      "cell_type": "markdown",
      "id": "322220cd",
      "metadata": {},
      "source": [
        ">>> Criando um dicionário com base nos hiperparâmetros dados pelo AUTOML."
      ]
    },
    {
      "cell_type": "code",
      "execution_count": 412,
      "id": "f20f1379",
      "metadata": {},
      "outputs": [
        {
          "name": "stdout",
          "output_type": "stream",
          "text": [
            "Acurácia: 0.7311827956989247\n",
            "Precisão: 0.7265890359640359\n"
          ]
        }
      ],
      "source": [
        "## Modelo base\n",
        "\n",
        "rf.fit(X_train, y_train)\n",
        "predict = rf.predict(X_test)\n",
        "\n",
        "print(f\"Acurácia: {accuracy_score(y_test, predict)}\")\n",
        "print(f\"Precisão: {precision_score(y_test, predict, average='macro')}\")"
      ]
    },
    {
      "cell_type": "code",
      "execution_count": 403,
      "id": "a347722a",
      "metadata": {},
      "outputs": [
        {
          "data": {
            "image/png": "[encoded data removed]",
            "text/plain": [
              "<Figure size 432x288 with 2 Axes>"
            ]
          },
          "metadata": {},
          "output_type": "display_data"
        }
      ],
      "source": [
        "matrix = confusion_matrix(y_test, predictions)\n",
        "ConfusionMatrixDisplay(confusion_matrix=matrix, display_labels = [\"Fail\", \"DD\", \"DC\", \"CC\", \"CB\", \"BB\", \"BA\", \"AA\"]).plot()\n",
        "plt.show()"
      ]
    },
    {
      "cell_type": "code",
      "execution_count": 404,
      "id": "941558fb",
      "metadata": {},
      "outputs": [
        {
          "name": "stdout",
          "output_type": "stream",
          "text": [
            "Acurácia: 0.7526881720430108\n",
            "Precisão: 0.7439685314685316\n"
          ]
        }
      ],
      "source": [
        "## Modelo 1\n",
        "\n",
        "rf = RandomForestClassifier(**p[0])\n",
        "\n",
        "rf.fit(X_train, y_train)\n",
        "predict1 = rf.predict(X_test)\n",
        "\n",
        "print(f\"Acurácia: {accuracy_score(y_test, predict1)}\")\n",
        "print(f\"Precisão: {precision_score(y_test, predict1 , average='macro')}\")"
      ]
    },
    {
      "cell_type": "code",
      "execution_count": 406,
      "id": "e0f99e1f",
      "metadata": {},
      "outputs": [
        {
          "data": {
            "image/png": "[encoded data removed]",
            "text/plain": [
              "<Figure size 432x288 with 2 Axes>"
            ]
          },
          "metadata": {},
          "output_type": "display_data"
        }
      ],
      "source": [
        "matrix1 = confusion_matrix(y_test, predict1)\n",
        "ConfusionMatrixDisplay(confusion_matrix=matrix1, display_labels = [\"Fail\", \"DD\", \"DC\", \"CC\", \"CB\", \"BB\", \"BA\", \"AA\"]).plot()\n",
        "plt.show()"
      ]
    },
    {
      "cell_type": "code",
      "execution_count": 407,
      "id": "24db4cdf",
      "metadata": {},
      "outputs": [
        {
          "name": "stdout",
          "output_type": "stream",
          "text": [
            "Acurácia: 0.7311827956989247\n",
            "Precisão: 0.6947099775224775\n"
          ]
        }
      ],
      "source": [
        "## Modelo 2\n",
        "\n",
        "rf = RandomForestClassifier(**p[1])\n",
        "\n",
        "rf.fit(X_train, y_train)\n",
        "predict2 = rf.predict(X_test)\n",
        "\n",
        "print(f\"Acurácia: {accuracy_score(y_test, predict2)}\")\n",
        "print(f\"Precisão: {precision_score(y_test, predict2 , average='macro')}\")"
      ]
    },
    {
      "cell_type": "code",
      "execution_count": 408,
      "id": "de3ec54d",
      "metadata": {},
      "outputs": [
        {
          "data": {
            "image/png": "[encoded data removed]",
            "text/plain": [
              "<Figure size 432x288 with 2 Axes>"
            ]
          },
          "metadata": {},
          "output_type": "display_data"
        }
      ],
      "source": [
        "matrix2 = confusion_matrix(y_test, predict2)\n",
        "ConfusionMatrixDisplay(confusion_matrix=matrix2, display_labels = [\"Fail\", \"DD\", \"DC\", \"CC\", \"CB\", \"BB\", \"BA\", \"AA\"]).plot()\n",
        "plt.show()"
      ]
    },
    {
      "cell_type": "code",
      "execution_count": 409,
      "id": "9e43aedc",
      "metadata": {},
      "outputs": [
        {
          "name": "stdout",
          "output_type": "stream",
          "text": [
            "Acurácia: 0.7311827956989247\n",
            "Precisão: 0.7265890359640359\n"
          ]
        }
      ],
      "source": [
        "## Modelo 3\n",
        "\n",
        "rf = RandomForestClassifier(**p[2])\n",
        "\n",
        "rf.fit(X_train, y_train)\n",
        "predict3 = rf.predict(X_test)\n",
        "\n",
        "print(f\"Acurácia: {accuracy_score(y_test, predict3)}\")\n",
        "print(f\"Precisão: {precision_score(y_test, predict3, average='macro')}\")"
      ]
    },
    {
      "cell_type": "code",
      "execution_count": 410,
      "id": "b254e11d",
      "metadata": {},
      "outputs": [
        {
          "data": {
            "image/png": "[encoded data removed]",
            "text/plain": [
              "<Figure size 432x288 with 2 Axes>"
            ]
          },
          "metadata": {},
          "output_type": "display_data"
        }
      ],
      "source": [
        "matrix3 = confusion_matrix(y_test, predict3)\n",
        "ConfusionMatrixDisplay(confusion_matrix=matrix3, display_labels = [\"Fail\", \"DD\", \"DC\", \"CC\", \"CB\", \"BB\", \"BA\", \"AA\"]).plot()\n",
        "plt.show()"
      ]
    },
    {
      "cell_type": "markdown",
      "id": "6ee9b9ad",
      "metadata": {},
      "source": [
        ">> ### Conclusões </br>\n",
        "\n",
        "Como dito anteriormente, o melhor modelo escolhido pelo AUTOML foi o **Random-Forest**, com uma acurácia de **0.80**. Devido ao **random_state** que é settado automaticamente, a acurácia sofre variações ao ser executado novamente na máquina, definido-se em um intervalo de **0.70** e **0.80**; através dessa condição é estabelecido um **random_state** padrão de **42** para uma melhor avaliação. <br>\n",
        "\n",
        "Ao condicionar o **random_state** a permanecer nesse valor, foi possível identificar uma melhora métrica em relação aos testes com outros hiperparâmetros, onde o **modelo de teste 1** obteve uma acurácia de **0.75** e uma sensibilidade de **0.74** e o modelo original **0.73** e **0.72**. Em seguida, são avaliadas as matrizes de confusão onde no modelo base é notada uma estabilidade de acertos entre as classes, mesmo com a taxa de acerto de **\"DD\", \"DC\" e \"CC\"** serem de 72%, a flutuação no **modelo 1** é bem maior, com apenas 36% acertos na classe **\"DD\"**. <br>\n",
        "\n",
        "É concluído que de fato o Random Forest é um bom modelo para o contexto e a definição de um random state torna mais estável o desenvolvimento, onde **max_features = 0.8** obteve um valor estável de **0.75** de acurácia, mas ainda estando apto para um maior refinamento.\n",
        "\n"
      ]
    },
    {
      "cell_type": "markdown",
      "id": "68eaacfa",
      "metadata": {
        "id": "68eaacfa"
      },
      "source": [
        "**2 -** Utilize a mesma base de dados (lembrem de tirar o rótulo, obviamente) da questão anterior de forma que:"
      ]
    },
    {
      "cell_type": "markdown",
      "id": "2380e88f",
      "metadata": {
        "id": "2380e88f"
      },
      "source": [
        "> **2 [A]** - Execute o K-means e Hierárquico. <br>"
      ]
    },
    {
      "cell_type": "markdown",
      "id": "bd7a0e75",
      "metadata": {
        "id": "bd7a0e75"
      },
      "source": [
        "> **2 [B]** - Teste o K igual à 5 e 7. <br>"
      ]
    },
    {
      "cell_type": "markdown",
      "id": "ffa6fda7",
      "metadata": {
        "id": "ffa6fda7"
      },
      "source": [
        "> **2 [C]** - Na execução do Hierárquico, varie 2 métodos do linkage. <br>"
      ]
    },
    {
      "cell_type": "markdown",
      "id": "4e8d68c7",
      "metadata": {
        "id": "4e8d68c7"
      },
      "source": [
        "> **2 [D]** - Por fim, faça uma comparação entre os 2 resultados das execuções anteriores e adote uma medida de avaliação própria para clusterização. <br>"
      ]
    },
    {
      "cell_type": "markdown",
      "id": "1bde6fab",
      "metadata": {
        "id": "1bde6fab"
      },
      "source": [
        "**BÔNUS** - Diga vantagens e desvantagens do uso do AUTOML e como você faria para usá-lo, garantindo os melhores resultados possíveis. <br>"
      ]
    },
    {
      "cell_type": "markdown",
      "id": "be5aaa51",
      "metadata": {
        "id": "be5aaa51"
      },
      "source": [
        "***"
      ]
    },
    {
      "cell_type": "code",
      "execution_count": 240,
      "id": "e9f3bf81",
      "metadata": {
        "id": "e9f3bf81"
      },
      "outputs": [],
      "source": [
        "#!pip3 install math\n",
        "#!pip3 install matplotlib\n",
        "#!pip3 install pandas\n",
        "#!pip3 install seaborn\n",
        "#!pip3 install statistics \n",
        "#!pip3 install sklearn"
      ]
    }
  ],
  "metadata": {
    "colab": {
      "collapsed_sections": [],
      "name": "Avaliacao02-IA-2022 - Colab.ipynb",
      "provenance": []
    },
    "interpreter": {
      "hash": "2917e743ff8034668aeee6fbc2a58f47c4ca7468b34675e5c00b70e21ea04fbf"
    },
    "kernelspec": {
      "display_name": "Python 3.9.5 ('venv': virtualenv)",
      "language": "python",
      "name": "python3"
    },
    "language_info": {
      "codemirror_mode": {
        "name": "ipython",
        "version": 3
      },
      "file_extension": ".py",
      "mimetype": "text/x-python",
      "name": "python",
      "nbconvert_exporter": "python",
      "pygments_lexer": "ipython3",
      "version": "3.9.5"
    }
  },
  "nbformat": 4,
  "nbformat_minor": 5
}
