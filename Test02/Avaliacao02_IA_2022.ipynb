{
  "cells": [
    {
      "cell_type": "markdown",
      "id": "2fecce09-b387-46c7-bd88-75196508f194",
      "metadata": {
        "id": "2fecce09-b387-46c7-bd88-75196508f194"
      },
      "source": [
        "## <center> Prova [02] - Inteligência Artificial / UFPB - 2021.2 </center>\n",
        "**Discente:** Lucas Gomes Dantas <br>\n",
        "**Matrícula:** 20200082925 <br>\n",
        "**Dataset:** <a href=\"https://www.kaggle.com/datasets/csafrit2/higher-education-students-performance-evaluation\">Higher Education Students Performance Evaluation</a>\n"
      ]
    },
    {
      "cell_type": "markdown",
      "id": "d56ebe78",
      "metadata": {
        "id": "d56ebe78"
      },
      "source": [
        "***"
      ]
    },
    {
      "cell_type": "markdown",
      "id": "423c162e",
      "metadata": {
        "id": "423c162e"
      },
      "source": [
        "> **[*] Ambiente e Dependências**"
      ]
    },
    {
      "cell_type": "code",
      "execution_count": 9,
      "id": "2c2e15dc",
      "metadata": {
        "id": "2c2e15dc"
      },
      "outputs": [],
      "source": [
        "from statistics import mode\n",
        "\n",
        "import pandas as pd\n",
        "import numpy as np\n",
        "import matplotlib.pyplot as plt\n",
        "import seaborn as sns\n",
        "import six\n",
        "import sys\n",
        "import pickle\n",
        "import warnings \n",
        "\n",
        "sys.modules['sklearn.externals.six'] = six\n",
        "\n",
        "import sklearn.neighbors._base\n",
        "sys.modules['sklearn.neighbors.base'] = sklearn.neighbors._base\n",
        "\n",
        "from pandas import DataFrame\n",
        "from warnings import simplefilter\n",
        "from sklearn.model_selection import train_test_split\n",
        "from sklearn.metrics import (accuracy_score, precision_score, recall_score, confusion_matrix, classification_report)\n",
        "from sklearn.metrics import classification_report, accuracy_score, ConfusionMatrixDisplay\n",
        "\n",
        "simplefilter(\"ignore\")\n",
        "warnings.filterwarnings(\"ignore\")\n",
        "\n",
        "from autosklearn import regression, classification\n",
        "from autosklearn.classification import AutoSklearnClassifier\n",
        "from sklearn.svm import SVC\n",
        "\n",
        "from imblearn.over_sampling import SMOTE, KMeansSMOTE\n",
        "\n",
        "from collections import Counter"
      ]
    },
    {
      "cell_type": "markdown",
      "id": "b7c4710b",
      "metadata": {
        "id": "b7c4710b"
      },
      "source": [
        "\n",
        "**1 -** Utilizando a base de dados de <a href=\"https://www.kaggle.com/datasets/csafrit2/higher-education-students-performance-evaluation\">Higher Education Students Performance Evaluation</a>, elabore uma solução para identificar o OUTPUT Grade do estudante.  <br>\n"
      ]
    },
    {
      "cell_type": "markdown",
      "id": "ae6d23e7",
      "metadata": {
        "id": "ae6d23e7"
      },
      "source": [
        "> **[#] Dataset**"
      ]
    },
    {
      "cell_type": "code",
      "execution_count": 10,
      "id": "9d50513d",
      "metadata": {
        "colab": {
          "base_uri": "https://localhost:8080/",
          "height": 317
        },
        "id": "9d50513d",
        "outputId": "0fb971c7-fca6-4558-bb64-e23d07161f1a"
      },
      "outputs": [
        {
          "data": {
            "text/html": [
              "<div>\n",
              "<style scoped>\n",
              "    .dataframe tbody tr th:only-of-type {\n",
              "        vertical-align: middle;\n",
              "    }\n",
              "\n",
              "    .dataframe tbody tr th {\n",
              "        vertical-align: top;\n",
              "    }\n",
              "\n",
              "    .dataframe thead th {\n",
              "        text-align: right;\n",
              "    }\n",
              "</style>\n",
              "<table border=\"1\" class=\"dataframe\">\n",
              "  <thead>\n",
              "    <tr style=\"text-align: right;\">\n",
              "      <th></th>\n",
              "      <th>STUDENTID</th>\n",
              "      <th>AGE</th>\n",
              "      <th>GENDER</th>\n",
              "      <th>HS_TYPE</th>\n",
              "      <th>SCHOLARSHIP</th>\n",
              "      <th>WORK</th>\n",
              "      <th>ACTIVITY</th>\n",
              "      <th>PARTNER</th>\n",
              "      <th>SALARY</th>\n",
              "      <th>TRANSPORT</th>\n",
              "      <th>...</th>\n",
              "      <th>PREP_STUDY</th>\n",
              "      <th>PREP_EXAM</th>\n",
              "      <th>NOTES</th>\n",
              "      <th>LISTENS</th>\n",
              "      <th>LIKES_DISCUSS</th>\n",
              "      <th>CLASSROOM</th>\n",
              "      <th>CUML_GPA</th>\n",
              "      <th>EXP_GPA</th>\n",
              "      <th>COURSE ID</th>\n",
              "      <th>GRADE</th>\n",
              "    </tr>\n",
              "  </thead>\n",
              "  <tbody>\n",
              "    <tr>\n",
              "      <th>0</th>\n",
              "      <td>STUDENT1</td>\n",
              "      <td>2</td>\n",
              "      <td>2</td>\n",
              "      <td>3</td>\n",
              "      <td>3</td>\n",
              "      <td>1</td>\n",
              "      <td>2</td>\n",
              "      <td>2</td>\n",
              "      <td>1</td>\n",
              "      <td>1</td>\n",
              "      <td>...</td>\n",
              "      <td>1</td>\n",
              "      <td>1</td>\n",
              "      <td>3</td>\n",
              "      <td>2</td>\n",
              "      <td>1</td>\n",
              "      <td>2</td>\n",
              "      <td>1</td>\n",
              "      <td>1</td>\n",
              "      <td>1</td>\n",
              "      <td>1</td>\n",
              "    </tr>\n",
              "    <tr>\n",
              "      <th>1</th>\n",
              "      <td>STUDENT2</td>\n",
              "      <td>2</td>\n",
              "      <td>2</td>\n",
              "      <td>3</td>\n",
              "      <td>3</td>\n",
              "      <td>1</td>\n",
              "      <td>2</td>\n",
              "      <td>2</td>\n",
              "      <td>1</td>\n",
              "      <td>1</td>\n",
              "      <td>...</td>\n",
              "      <td>1</td>\n",
              "      <td>1</td>\n",
              "      <td>3</td>\n",
              "      <td>2</td>\n",
              "      <td>3</td>\n",
              "      <td>2</td>\n",
              "      <td>2</td>\n",
              "      <td>3</td>\n",
              "      <td>1</td>\n",
              "      <td>1</td>\n",
              "    </tr>\n",
              "    <tr>\n",
              "      <th>2</th>\n",
              "      <td>STUDENT3</td>\n",
              "      <td>2</td>\n",
              "      <td>2</td>\n",
              "      <td>2</td>\n",
              "      <td>3</td>\n",
              "      <td>2</td>\n",
              "      <td>2</td>\n",
              "      <td>2</td>\n",
              "      <td>2</td>\n",
              "      <td>4</td>\n",
              "      <td>...</td>\n",
              "      <td>1</td>\n",
              "      <td>1</td>\n",
              "      <td>2</td>\n",
              "      <td>2</td>\n",
              "      <td>1</td>\n",
              "      <td>1</td>\n",
              "      <td>2</td>\n",
              "      <td>2</td>\n",
              "      <td>1</td>\n",
              "      <td>1</td>\n",
              "    </tr>\n",
              "    <tr>\n",
              "      <th>3</th>\n",
              "      <td>STUDENT4</td>\n",
              "      <td>1</td>\n",
              "      <td>1</td>\n",
              "      <td>1</td>\n",
              "      <td>3</td>\n",
              "      <td>1</td>\n",
              "      <td>2</td>\n",
              "      <td>1</td>\n",
              "      <td>2</td>\n",
              "      <td>1</td>\n",
              "      <td>...</td>\n",
              "      <td>1</td>\n",
              "      <td>2</td>\n",
              "      <td>3</td>\n",
              "      <td>2</td>\n",
              "      <td>2</td>\n",
              "      <td>1</td>\n",
              "      <td>3</td>\n",
              "      <td>2</td>\n",
              "      <td>1</td>\n",
              "      <td>1</td>\n",
              "    </tr>\n",
              "    <tr>\n",
              "      <th>4</th>\n",
              "      <td>STUDENT5</td>\n",
              "      <td>2</td>\n",
              "      <td>2</td>\n",
              "      <td>1</td>\n",
              "      <td>3</td>\n",
              "      <td>2</td>\n",
              "      <td>2</td>\n",
              "      <td>1</td>\n",
              "      <td>3</td>\n",
              "      <td>1</td>\n",
              "      <td>...</td>\n",
              "      <td>2</td>\n",
              "      <td>1</td>\n",
              "      <td>2</td>\n",
              "      <td>2</td>\n",
              "      <td>2</td>\n",
              "      <td>1</td>\n",
              "      <td>2</td>\n",
              "      <td>2</td>\n",
              "      <td>1</td>\n",
              "      <td>1</td>\n",
              "    </tr>\n",
              "  </tbody>\n",
              "</table>\n",
              "<p>5 rows × 33 columns</p>\n",
              "</div>"
            ],
            "text/plain": [
              "  STUDENTID  AGE  GENDER  HS_TYPE  SCHOLARSHIP  WORK  ACTIVITY  PARTNER  \\\n",
              "0  STUDENT1    2       2        3            3     1         2        2   \n",
              "1  STUDENT2    2       2        3            3     1         2        2   \n",
              "2  STUDENT3    2       2        2            3     2         2        2   \n",
              "3  STUDENT4    1       1        1            3     1         2        1   \n",
              "4  STUDENT5    2       2        1            3     2         2        1   \n",
              "\n",
              "   SALARY  TRANSPORT  ...  PREP_STUDY  PREP_EXAM  NOTES  LISTENS  \\\n",
              "0       1          1  ...           1          1      3        2   \n",
              "1       1          1  ...           1          1      3        2   \n",
              "2       2          4  ...           1          1      2        2   \n",
              "3       2          1  ...           1          2      3        2   \n",
              "4       3          1  ...           2          1      2        2   \n",
              "\n",
              "   LIKES_DISCUSS  CLASSROOM  CUML_GPA  EXP_GPA  COURSE ID  GRADE  \n",
              "0              1          2         1        1          1      1  \n",
              "1              3          2         2        3          1      1  \n",
              "2              1          1         2        2          1      1  \n",
              "3              2          1         3        2          1      1  \n",
              "4              2          1         2        2          1      1  \n",
              "\n",
              "[5 rows x 33 columns]"
            ]
          },
          "execution_count": 10,
          "metadata": {},
          "output_type": "execute_result"
        }
      ],
      "source": [
        "dstudent = pd.read_csv('student_prediction.csv')\n",
        "dstudent.head()"
      ]
    },
    {
      "cell_type": "code",
      "execution_count": 11,
      "id": "2a0f6594",
      "metadata": {
        "colab": {
          "base_uri": "https://localhost:8080/",
          "height": 285
        },
        "id": "2a0f6594",
        "outputId": "e57c3eb5-f8d2-48d7-bc44-6e8262224904"
      },
      "outputs": [
        {
          "data": {
            "image/png": "[encoded data removed]",
            "text/plain": [
              "<Figure size 432x288 with 1 Axes>"
            ]
          },
          "metadata": {
            "needs_background": "light"
          },
          "output_type": "display_data"
        }
      ],
      "source": [
        "graphstd = sns.countplot(dstudent['GRADE'], label = 'Count')\n",
        "plt.show()"
      ]
    },
    {
      "cell_type": "markdown",
      "id": "7c8594fb",
      "metadata": {
        "id": "7c8594fb"
      },
      "source": [
        "> **1 [A]** - Faça o pré-processamento dos dados (limpeza, engenharia de variáveis, etc) e deixe os seus dados preparados para aplicar o modelo.<br>\n"
      ]
    },
    {
      "cell_type": "markdown",
      "id": "41ee7d86",
      "metadata": {
        "id": "41ee7d86"
      },
      "source": [
        ">> **[#] Pré-processamento**"
      ]
    },
    {
      "cell_type": "code",
      "execution_count": 12,
      "id": "16fab3b6",
      "metadata": {
        "colab": {
          "base_uri": "https://localhost:8080/"
        },
        "id": "16fab3b6",
        "outputId": "466f0368-22fd-4434-e2de-d157da2cbc60"
      },
      "outputs": [
        {
          "name": "stdout",
          "output_type": "stream",
          "text": [
            "<class 'pandas.core.frame.DataFrame'>\n",
            "RangeIndex: 145 entries, 0 to 144\n",
            "Data columns (total 33 columns):\n",
            " #   Column         Non-Null Count  Dtype \n",
            "---  ------         --------------  ----- \n",
            " 0   STUDENTID      145 non-null    object\n",
            " 1   AGE            145 non-null    int64 \n",
            " 2   GENDER         145 non-null    int64 \n",
            " 3   HS_TYPE        145 non-null    int64 \n",
            " 4   SCHOLARSHIP    145 non-null    int64 \n",
            " 5   WORK           145 non-null    int64 \n",
            " 6   ACTIVITY       145 non-null    int64 \n",
            " 7   PARTNER        145 non-null    int64 \n",
            " 8   SALARY         145 non-null    int64 \n",
            " 9   TRANSPORT      145 non-null    int64 \n",
            " 10  LIVING         145 non-null    int64 \n",
            " 11  MOTHER_EDU     145 non-null    int64 \n",
            " 12  FATHER_EDU     145 non-null    int64 \n",
            " 13  #_SIBLINGS     145 non-null    int64 \n",
            " 14  KIDS           145 non-null    int64 \n",
            " 15  MOTHER_JOB     145 non-null    int64 \n",
            " 16  FATHER_JOB     145 non-null    int64 \n",
            " 17  STUDY_HRS      145 non-null    int64 \n",
            " 18  READ_FREQ      145 non-null    int64 \n",
            " 19  READ_FREQ_SCI  145 non-null    int64 \n",
            " 20  ATTEND_DEPT    145 non-null    int64 \n",
            " 21  IMPACT         145 non-null    int64 \n",
            " 22  ATTEND         145 non-null    int64 \n",
            " 23  PREP_STUDY     145 non-null    int64 \n",
            " 24  PREP_EXAM      145 non-null    int64 \n",
            " 25  NOTES          145 non-null    int64 \n",
            " 26  LISTENS        145 non-null    int64 \n",
            " 27  LIKES_DISCUSS  145 non-null    int64 \n",
            " 28  CLASSROOM      145 non-null    int64 \n",
            " 29  CUML_GPA       145 non-null    int64 \n",
            " 30  EXP_GPA        145 non-null    int64 \n",
            " 31  COURSE ID      145 non-null    int64 \n",
            " 32  GRADE          145 non-null    int64 \n",
            "dtypes: int64(32), object(1)\n",
            "memory usage: 37.5+ KB\n"
          ]
        }
      ],
      "source": [
        "dstudent.info()"
      ]
    },
    {
      "cell_type": "markdown",
      "id": "HSdE1VyPXfvr",
      "metadata": {
        "id": "HSdE1VyPXfvr"
      },
      "source": [
        ">> Todos os dados são numéricos, então não há necessidade de conversão."
      ]
    },
    {
      "cell_type": "code",
      "execution_count": 13,
      "id": "0941a671",
      "metadata": {
        "colab": {
          "base_uri": "https://localhost:8080/"
        },
        "id": "0941a671",
        "outputId": "23c35f5f-fe0f-42b0-d098-4132fbef624d"
      },
      "outputs": [
        {
          "data": {
            "text/plain": [
              "(145, 33)"
            ]
          },
          "execution_count": 13,
          "metadata": {},
          "output_type": "execute_result"
        }
      ],
      "source": [
        "dstudent.shape"
      ]
    },
    {
      "cell_type": "code",
      "execution_count": 14,
      "id": "99af49f6",
      "metadata": {
        "colab": {
          "base_uri": "https://localhost:8080/",
          "height": 175
        },
        "id": "99af49f6",
        "outputId": "de6c6fdc-5145-4bbe-b843-33bdaab653ac"
      },
      "outputs": [
        {
          "data": {
            "text/html": [
              "<div>\n",
              "<style scoped>\n",
              "    .dataframe tbody tr th:only-of-type {\n",
              "        vertical-align: middle;\n",
              "    }\n",
              "\n",
              "    .dataframe tbody tr th {\n",
              "        vertical-align: top;\n",
              "    }\n",
              "\n",
              "    .dataframe thead th {\n",
              "        text-align: right;\n",
              "    }\n",
              "</style>\n",
              "<table border=\"1\" class=\"dataframe\">\n",
              "  <thead>\n",
              "    <tr style=\"text-align: right;\">\n",
              "      <th></th>\n",
              "      <th>STUDENTID</th>\n",
              "    </tr>\n",
              "  </thead>\n",
              "  <tbody>\n",
              "    <tr>\n",
              "      <th>count</th>\n",
              "      <td>145</td>\n",
              "    </tr>\n",
              "    <tr>\n",
              "      <th>unique</th>\n",
              "      <td>145</td>\n",
              "    </tr>\n",
              "    <tr>\n",
              "      <th>top</th>\n",
              "      <td>STUDENT1</td>\n",
              "    </tr>\n",
              "    <tr>\n",
              "      <th>freq</th>\n",
              "      <td>1</td>\n",
              "    </tr>\n",
              "  </tbody>\n",
              "</table>\n",
              "</div>"
            ],
            "text/plain": [
              "       STUDENTID\n",
              "count        145\n",
              "unique       145\n",
              "top     STUDENT1\n",
              "freq           1"
            ]
          },
          "execution_count": 14,
          "metadata": {},
          "output_type": "execute_result"
        }
      ],
      "source": [
        "dstudent.describe(include=object)"
      ]
    },
    {
      "cell_type": "markdown",
      "id": "0233ecd7",
      "metadata": {
        "id": "0233ecd7"
      },
      "source": [
        ">>> Apresenta a disposição dos dados para os atributos do tipo object e sua incidência de valores e singularidade."
      ]
    },
    {
      "cell_type": "code",
      "execution_count": 15,
      "id": "e27bdbfc",
      "metadata": {
        "id": "e27bdbfc"
      },
      "outputs": [],
      "source": [
        "dstudent = dstudent.drop(['STUDENTID', 'COURSE ID'], axis = 1)"
      ]
    },
    {
      "cell_type": "markdown",
      "id": "aa9fd0ad",
      "metadata": {
        "id": "aa9fd0ad"
      },
      "source": [
        ">>> Removendo atributos de ID, pois é irrelevante ao contexto."
      ]
    },
    {
      "cell_type": "code",
      "execution_count": 16,
      "id": "JgbvU8E-YEAG",
      "metadata": {
        "id": "JgbvU8E-YEAG"
      },
      "outputs": [],
      "source": [
        "dstudent = dstudent.drop_duplicates()\n",
        "dstudent = dstudent.dropna()"
      ]
    },
    {
      "cell_type": "markdown",
      "id": "mfqgFmbLYTrA",
      "metadata": {
        "id": "mfqgFmbLYTrA"
      },
      "source": [
        ">> Removendos dados duplicados e nulos."
      ]
    },
    {
      "cell_type": "code",
      "execution_count": 17,
      "id": "acb4786c",
      "metadata": {
        "colab": {
          "base_uri": "https://localhost:8080/",
          "height": 143
        },
        "id": "acb4786c",
        "outputId": "6f04e573-e165-4a8d-d289-8dcdce6804b6"
      },
      "outputs": [
        {
          "data": {
            "text/html": [
              "<div>\n",
              "<style scoped>\n",
              "    .dataframe tbody tr th:only-of-type {\n",
              "        vertical-align: middle;\n",
              "    }\n",
              "\n",
              "    .dataframe tbody tr th {\n",
              "        vertical-align: top;\n",
              "    }\n",
              "\n",
              "    .dataframe thead th {\n",
              "        text-align: right;\n",
              "    }\n",
              "</style>\n",
              "<table border=\"1\" class=\"dataframe\">\n",
              "  <thead>\n",
              "    <tr style=\"text-align: right;\">\n",
              "      <th></th>\n",
              "      <th>AGE</th>\n",
              "      <th>GENDER</th>\n",
              "      <th>HS_TYPE</th>\n",
              "      <th>SCHOLARSHIP</th>\n",
              "      <th>WORK</th>\n",
              "      <th>ACTIVITY</th>\n",
              "      <th>PARTNER</th>\n",
              "      <th>SALARY</th>\n",
              "      <th>TRANSPORT</th>\n",
              "      <th>LIVING</th>\n",
              "      <th>...</th>\n",
              "      <th>ATTEND</th>\n",
              "      <th>PREP_STUDY</th>\n",
              "      <th>PREP_EXAM</th>\n",
              "      <th>NOTES</th>\n",
              "      <th>LISTENS</th>\n",
              "      <th>LIKES_DISCUSS</th>\n",
              "      <th>CLASSROOM</th>\n",
              "      <th>CUML_GPA</th>\n",
              "      <th>EXP_GPA</th>\n",
              "      <th>GRADE</th>\n",
              "    </tr>\n",
              "  </thead>\n",
              "  <tbody>\n",
              "  </tbody>\n",
              "</table>\n",
              "<p>0 rows × 31 columns</p>\n",
              "</div>"
            ],
            "text/plain": [
              "Empty DataFrame\n",
              "Columns: [AGE, GENDER, HS_TYPE, SCHOLARSHIP, WORK, ACTIVITY, PARTNER, SALARY, TRANSPORT, LIVING, MOTHER_EDU, FATHER_EDU, #_SIBLINGS, KIDS, MOTHER_JOB, FATHER_JOB, STUDY_HRS, READ_FREQ, READ_FREQ_SCI, ATTEND_DEPT, IMPACT, ATTEND, PREP_STUDY, PREP_EXAM, NOTES, LISTENS, LIKES_DISCUSS, CLASSROOM, CUML_GPA, EXP_GPA, GRADE]\n",
              "Index: []\n",
              "\n",
              "[0 rows x 31 columns]"
            ]
          },
          "execution_count": 17,
          "metadata": {},
          "output_type": "execute_result"
        }
      ],
      "source": [
        "double = dstudent[dstudent.duplicated()]\n",
        "double"
      ]
    },
    {
      "cell_type": "code",
      "execution_count": 147,
      "id": "c39ea481",
      "metadata": {
        "colab": {
          "base_uri": "https://localhost:8080/",
          "height": 677
        },
        "id": "c39ea481",
        "outputId": "e53bc6f0-21a5-495f-ad67-40eb68f694c6"
      },
      "outputs": [
        {
          "data": {
            "image/png": "[encoded data removed]",
            "text/plain": [
              "<Figure size 1008x720 with 2 Axes>"
            ]
          },
          "metadata": {},
          "output_type": "display_data"
        }
      ],
      "source": [
        "plt.figure(figsize=(14, 10))\n",
        "sns.heatmap(dstudent.corr(), cmap = \"icefire\")\n",
        "plt.show()"
      ]
    },
    {
      "cell_type": "markdown",
      "id": "cac3e8f4",
      "metadata": {
        "id": "cac3e8f4"
      },
      "source": [
        ">>> Ao avaliar o gráfico é possível identificar uma incidência maior de correlção entre \"EXP_GPA\" em relação ao \"CUML_GPA\". Devido ao caráter preditivo de um dos atributos em relação ao outro, será feito a primeiro momento a remoção do \"EXP_GPA\" e avaliado posteriormente."
      ]
    },
    {
      "cell_type": "code",
      "execution_count": 19,
      "id": "2RBsc06gh180",
      "metadata": {
        "id": "2RBsc06gh180"
      },
      "outputs": [],
      "source": [
        "dstudent_fix = dstudent.drop(['EXP_GPA'], axis = 1)"
      ]
    },
    {
      "cell_type": "markdown",
      "id": "a6bb8802",
      "metadata": {
        "id": "a6bb8802"
      },
      "source": [
        ">>> **1 [A - a]** Utilize pelo menos uma forma de redimensionamento de atributos (selecionando ou agregando) e avalie o resultado de utilizar todas eles e essa amostra.\n"
      ]
    },
    {
      "cell_type": "code",
      "execution_count": 20,
      "id": "3bsvewV8_aOC",
      "metadata": {
        "colab": {
          "base_uri": "https://localhost:8080/"
        },
        "id": "3bsvewV8_aOC",
        "outputId": "81b70a11-7150-406b-c3cf-f6aecf3173e1"
      },
      "outputs": [
        {
          "data": {
            "text/plain": [
              "AGE             -0.095251\n",
              "GENDER           0.335533\n",
              "HS_TYPE          0.104821\n",
              "SCHOLARSHIP      0.023963\n",
              "WORK             0.167445\n",
              "ACTIVITY        -0.062993\n",
              "PARTNER         -0.051778\n",
              "SALARY          -0.166352\n",
              "TRANSPORT       -0.156289\n",
              "LIVING           0.023683\n",
              "MOTHER_EDU       0.066318\n",
              "FATHER_EDU       0.063504\n",
              "#_SIBLINGS       0.084470\n",
              "KIDS             0.066379\n",
              "MOTHER_JOB      -0.030747\n",
              "FATHER_JOB      -0.044268\n",
              "STUDY_HRS       -0.033065\n",
              "READ_FREQ        0.195617\n",
              "READ_FREQ_SCI    0.003189\n",
              "ATTEND_DEPT     -0.184763\n",
              "IMPACT          -0.203273\n",
              "ATTEND          -0.139564\n",
              "PREP_STUDY       0.014638\n",
              "PREP_EXAM        0.073783\n",
              "NOTES            0.044862\n",
              "LISTENS          0.085137\n",
              "LIKES_DISCUSS    0.146547\n",
              "CLASSROOM        0.110617\n",
              "CUML_GPA         0.315493\n",
              "EXP_GPA          0.248588\n",
              "GRADE            1.000000\n",
              "Name: GRADE, dtype: float64"
            ]
          },
          "execution_count": 20,
          "metadata": {},
          "output_type": "execute_result"
        }
      ],
      "source": [
        "dstudent.corr()['GRADE']"
      ]
    },
    {
      "cell_type": "markdown",
      "id": "SIJHV1t6_aOC",
      "metadata": {
        "id": "SIJHV1t6_aOC"
      },
      "source": [
        ">>> Ao relacionar o atributo GRADE com os demais, é possível identificar a incidência de correlações menores que 0.1 e -0.1, caracterizando uma não correlação. Através dessa condição, irei retirar todos os atributos que atendem a essa característica e verificar o comportamento do dataset posteriormente."
      ]
    },
    {
      "cell_type": "code",
      "execution_count": 21,
      "id": "977b9dfd",
      "metadata": {
        "id": "977b9dfd"
      },
      "outputs": [],
      "source": [
        "dstudent_test = dstudent_fix.copy()\n",
        "\n",
        "dstudent_test = dstudent_test.drop(['AGE', 'SCHOLARSHIP', 'ACTIVITY', 'PARTNER', 'LIVING', 'MOTHER_EDU', 'FATHER_EDU', '#_SIBLINGS', 'KIDS', 'MOTHER_JOB', 'FATHER_JOB', 'STUDY_HRS', 'READ_FREQ_SCI', 'PREP_STUDY', 'PREP_EXAM', 'NOTES', 'LISTENS' ], axis = 1)"
      ]
    },
    {
      "cell_type": "code",
      "execution_count": 22,
      "id": "13fe3903",
      "metadata": {
        "colab": {
          "base_uri": "https://localhost:8080/",
          "height": 206
        },
        "id": "13fe3903",
        "outputId": "60bb72a9-4332-489e-bb94-d8dc35457e30"
      },
      "outputs": [
        {
          "data": {
            "text/html": [
              "<div>\n",
              "<style scoped>\n",
              "    .dataframe tbody tr th:only-of-type {\n",
              "        vertical-align: middle;\n",
              "    }\n",
              "\n",
              "    .dataframe tbody tr th {\n",
              "        vertical-align: top;\n",
              "    }\n",
              "\n",
              "    .dataframe thead th {\n",
              "        text-align: right;\n",
              "    }\n",
              "</style>\n",
              "<table border=\"1\" class=\"dataframe\">\n",
              "  <thead>\n",
              "    <tr style=\"text-align: right;\">\n",
              "      <th></th>\n",
              "      <th>GENDER</th>\n",
              "      <th>HS_TYPE</th>\n",
              "      <th>WORK</th>\n",
              "      <th>SALARY</th>\n",
              "      <th>TRANSPORT</th>\n",
              "      <th>READ_FREQ</th>\n",
              "      <th>ATTEND_DEPT</th>\n",
              "      <th>IMPACT</th>\n",
              "      <th>ATTEND</th>\n",
              "      <th>LIKES_DISCUSS</th>\n",
              "      <th>CLASSROOM</th>\n",
              "      <th>CUML_GPA</th>\n",
              "      <th>GRADE</th>\n",
              "    </tr>\n",
              "  </thead>\n",
              "  <tbody>\n",
              "    <tr>\n",
              "      <th>0</th>\n",
              "      <td>2</td>\n",
              "      <td>3</td>\n",
              "      <td>1</td>\n",
              "      <td>1</td>\n",
              "      <td>1</td>\n",
              "      <td>2</td>\n",
              "      <td>1</td>\n",
              "      <td>1</td>\n",
              "      <td>1</td>\n",
              "      <td>1</td>\n",
              "      <td>2</td>\n",
              "      <td>1</td>\n",
              "      <td>1</td>\n",
              "    </tr>\n",
              "    <tr>\n",
              "      <th>1</th>\n",
              "      <td>2</td>\n",
              "      <td>3</td>\n",
              "      <td>1</td>\n",
              "      <td>1</td>\n",
              "      <td>1</td>\n",
              "      <td>2</td>\n",
              "      <td>1</td>\n",
              "      <td>1</td>\n",
              "      <td>1</td>\n",
              "      <td>3</td>\n",
              "      <td>2</td>\n",
              "      <td>2</td>\n",
              "      <td>1</td>\n",
              "    </tr>\n",
              "    <tr>\n",
              "      <th>2</th>\n",
              "      <td>2</td>\n",
              "      <td>2</td>\n",
              "      <td>2</td>\n",
              "      <td>2</td>\n",
              "      <td>4</td>\n",
              "      <td>1</td>\n",
              "      <td>1</td>\n",
              "      <td>1</td>\n",
              "      <td>1</td>\n",
              "      <td>1</td>\n",
              "      <td>1</td>\n",
              "      <td>2</td>\n",
              "      <td>1</td>\n",
              "    </tr>\n",
              "    <tr>\n",
              "      <th>3</th>\n",
              "      <td>1</td>\n",
              "      <td>1</td>\n",
              "      <td>1</td>\n",
              "      <td>2</td>\n",
              "      <td>1</td>\n",
              "      <td>1</td>\n",
              "      <td>1</td>\n",
              "      <td>1</td>\n",
              "      <td>1</td>\n",
              "      <td>2</td>\n",
              "      <td>1</td>\n",
              "      <td>3</td>\n",
              "      <td>1</td>\n",
              "    </tr>\n",
              "    <tr>\n",
              "      <th>4</th>\n",
              "      <td>2</td>\n",
              "      <td>1</td>\n",
              "      <td>2</td>\n",
              "      <td>3</td>\n",
              "      <td>1</td>\n",
              "      <td>1</td>\n",
              "      <td>1</td>\n",
              "      <td>1</td>\n",
              "      <td>1</td>\n",
              "      <td>2</td>\n",
              "      <td>1</td>\n",
              "      <td>2</td>\n",
              "      <td>1</td>\n",
              "    </tr>\n",
              "  </tbody>\n",
              "</table>\n",
              "</div>"
            ],
            "text/plain": [
              "   GENDER  HS_TYPE  WORK  SALARY  TRANSPORT  READ_FREQ  ATTEND_DEPT  IMPACT  \\\n",
              "0       2        3     1       1          1          2            1       1   \n",
              "1       2        3     1       1          1          2            1       1   \n",
              "2       2        2     2       2          4          1            1       1   \n",
              "3       1        1     1       2          1          1            1       1   \n",
              "4       2        1     2       3          1          1            1       1   \n",
              "\n",
              "   ATTEND  LIKES_DISCUSS  CLASSROOM  CUML_GPA  GRADE  \n",
              "0       1              1          2         1      1  \n",
              "1       1              3          2         2      1  \n",
              "2       1              1          1         2      1  \n",
              "3       1              2          1         3      1  \n",
              "4       1              2          1         2      1  "
            ]
          },
          "execution_count": 22,
          "metadata": {},
          "output_type": "execute_result"
        }
      ],
      "source": [
        "dstudent_test.head()"
      ]
    },
    {
      "cell_type": "markdown",
      "id": "a405f654",
      "metadata": {
        "id": "a405f654"
      },
      "source": [
        "> **1 [B]** - Faça uma análise exploratória dos dados de saída, utilizando box plot, mostrando a aplicação de técnicas de under ou oversampling para que as classes tenham o mesmo tamanho. <br>"
      ]
    },
    {
      "cell_type": "code",
      "execution_count": 23,
      "id": "1qqfZ058Xn7A",
      "metadata": {
        "id": "1qqfZ058Xn7A"
      },
      "outputs": [],
      "source": [
        "sns.set_theme(style=\"whitegrid\")"
      ]
    },
    {
      "cell_type": "code",
      "execution_count": 24,
      "id": "a122b9b6",
      "metadata": {
        "colab": {
          "base_uri": "https://localhost:8080/",
          "height": 268
        },
        "id": "a122b9b6",
        "outputId": "af97a74a-8eb4-4324-ea46-693730665c33"
      },
      "outputs": [
        {
          "data": {
            "image/png": "[encoded data removed]",
            "text/plain": [
              "<Figure size 432x288 with 1 Axes>"
            ]
          },
          "metadata": {},
          "output_type": "display_data"
        }
      ],
      "source": [
        "dstudent.boxplot(column=['GRADE'], vert = False)\n",
        "plt.show()"
      ]
    },
    {
      "cell_type": "markdown",
      "id": "60644ef6",
      "metadata": {
        "id": "60644ef6"
      },
      "source": [
        ">> O boxplot indica uma concentração maior de notas onde incide os menores valores, tendenciando os dados. Diante desse cenário, será aplicada a técnica de oversampling para igualar as menores notas em sentido quantitativo de elementos."
      ]
    },
    {
      "cell_type": "code",
      "execution_count": 25,
      "id": "2bd6358b",
      "metadata": {
        "colab": {
          "base_uri": "https://localhost:8080/"
        },
        "id": "2bd6358b",
        "outputId": "37c2ca70-9908-4ba2-f9ca-f9cfb6a05056"
      },
      "outputs": [
        {
          "data": {
            "text/plain": [
              "1    35\n",
              "2    24\n",
              "3    21\n",
              "5    17\n",
              "7    17\n",
              "6    13\n",
              "4    10\n",
              "0     8\n",
              "Name: GRADE, dtype: int64"
            ]
          },
          "execution_count": 25,
          "metadata": {},
          "output_type": "execute_result"
        }
      ],
      "source": [
        "dstudent['GRADE'].value_counts()"
      ]
    },
    {
      "cell_type": "code",
      "execution_count": 26,
      "id": "v8P27_MHO-DY",
      "metadata": {
        "id": "v8P27_MHO-DY"
      },
      "outputs": [],
      "source": [
        "## Balanceador\n",
        "\n",
        "k_smt = KMeansSMOTE(kmeans_estimator=1, n_jobs=-1, random_state=42, cluster_balance_threshold=0)"
      ]
    },
    {
      "cell_type": "code",
      "execution_count": 27,
      "id": "9EMCOSjD6fBH",
      "metadata": {
        "id": "9EMCOSjD6fBH"
      },
      "outputs": [],
      "source": [
        "dstudent_anon = dstudent.drop(labels=['GRADE'], axis=1)\n",
        "\n",
        "dstudent_anon, dstudent_grade = k_smt.fit_resample(dstudent_anon, dstudent['GRADE'])\n",
        "dstudent_balanced = pd.concat([dstudent_anon, dstudent_grade], axis=1)"
      ]
    },
    {
      "cell_type": "code",
      "execution_count": 146,
      "id": "tHgVXApI588z",
      "metadata": {
        "colab": {
          "base_uri": "https://localhost:8080/",
          "height": 268
        },
        "id": "tHgVXApI588z",
        "outputId": "77332255-db10-4c4c-c5b1-fcf0c192a3e2"
      },
      "outputs": [
        {
          "data": {
            "image/png": "[encoded data removed]",
            "text/plain": [
              "<Figure size 432x288 with 1 Axes>"
            ]
          },
          "metadata": {},
          "output_type": "display_data"
        }
      ],
      "source": [
        "dstudent_balanced.boxplot(column=['GRADE'], vert = False)\n",
        "plt.show()"
      ]
    },
    {
      "cell_type": "markdown",
      "id": "QjTurUIzcmRN",
      "metadata": {
        "id": "QjTurUIzcmRN"
      },
      "source": [
        ">> Após a aplicação do oversampling aos dados, a mediana agora está localizada no centro, estando devidamente balanceada."
      ]
    },
    {
      "cell_type": "markdown",
      "id": "1a998cb4",
      "metadata": {
        "id": "1a998cb4"
      },
      "source": [
        "> **1 [C]** - Utilize a biblioteca AUTOML para fazer a previsão. Para o melhor algoritmo, teste 3 variações de um dos seus hiperparâmetros. <br>\n",
        "\n",
        "> **1 [D]** - Para avaliar os resultados, utilize e explique a matriz de confusão. Além disso, escolha 2 métricas de sua preferência e o que o seu resultado significa. <br>\n"
      ]
    },
    {
      "cell_type": "code",
      "execution_count": 29,
      "id": "uNxlAaGE-AEY",
      "metadata": {
        "id": "uNxlAaGE-AEY"
      },
      "outputs": [],
      "source": [
        "## dstudent_fix_x = dstudent_fix.iloc[:, :-1]\n",
        "## dstudent_fix_y = dstudent_fix.iloc[:, -1]\n",
        "\n",
        "## dstudent_test_x = dstudent_test.iloc[:, :-1]\n",
        "## dstudent_test_y = dstudent_test.iloc[:, -1]"
      ]
    },
    {
      "cell_type": "code",
      "execution_count": 30,
      "id": "cdf2e40b",
      "metadata": {
        "colab": {
          "base_uri": "https://localhost:8080/"
        },
        "id": "cdf2e40b",
        "outputId": "ba4a4b5b-61e0-4059-ca34-9d44f435300a"
      },
      "outputs": [
        {
          "data": {
            "text/plain": [
              "((280, 30), (280,))"
            ]
          },
          "execution_count": 30,
          "metadata": {},
          "output_type": "execute_result"
        }
      ],
      "source": [
        "dstudent_x = dstudent_balanced.iloc[:, :-1].values\n",
        "dstudent_y = dstudent_balanced.iloc[:, -1].values\n",
        "\n",
        "(dstudent_x.shape, dstudent_y.shape)"
      ]
    },
    {
      "cell_type": "markdown",
      "id": "JjGymct6WzHZ",
      "metadata": {
        "id": "JjGymct6WzHZ"
      },
      "source": [
        ">> Definindo os dados de treinamento e teste."
      ]
    },
    {
      "cell_type": "code",
      "execution_count": 31,
      "id": "137440be",
      "metadata": {
        "id": "137440be"
      },
      "outputs": [],
      "source": [
        "X_train, X_test, y_train, y_test = train_test_split(dstudent_x, dstudent_y, test_size=0.33, random_state=42, stratify=dstudent_y)"
      ]
    },
    {
      "cell_type": "code",
      "execution_count": 32,
      "id": "d4a4640f",
      "metadata": {
        "colab": {
          "base_uri": "https://localhost:8080/"
        },
        "id": "d4a4640f",
        "outputId": "f57f5694-4000-4a4d-deba-cc6ed79f5d09"
      },
      "outputs": [
        {
          "data": {
            "text/plain": [
              "(((187, 30), (187,)), ((93, 30), (93,)))"
            ]
          },
          "execution_count": 32,
          "metadata": {},
          "output_type": "execute_result"
        }
      ],
      "source": [
        "(X_train.shape, y_train.shape), (X_test.shape, y_test.shape)"
      ]
    },
    {
      "cell_type": "code",
      "execution_count": null,
      "id": "Go2deL91_qHf",
      "metadata": {
        "colab": {
          "base_uri": "https://localhost:8080/"
        },
        "id": "Go2deL91_qHf",
        "outputId": "11641b27-cf23-4617-b343-24914278a87a"
      },
      "outputs": [],
      "source": [
        "autosk = AutoSklearnClassifier(\n",
        "    time_left_for_this_task=60 * (5),\n",
        "    per_run_time_limit=25,\n",
        "    resampling_strategy=\"cv\",\n",
        "    resampling_strategy_arguments={\"folds\": 10},\n",
        "    n_jobs =-1\n",
        ")\n",
        "\n",
        "autosk.fit(X_train, y_train)\n",
        "autosk.refit(X_train, y_train)"
      ]
    },
    {
      "cell_type": "code",
      "execution_count": 321,
      "id": "HwozDK37SddL",
      "metadata": {
        "colab": {
          "base_uri": "https://localhost:8080/"
        },
        "id": "HwozDK37SddL",
        "outputId": "83e93dc5-539a-4b59-ec0d-ebdae18d45c0"
      },
      "outputs": [
        {
          "name": "stdout",
          "output_type": "stream",
          "text": [
            "Acurácia: 0.7849462365591398\n",
            "\n",
            "          rank  ensemble_weight           type      cost   duration\n",
            "model_id                                                           \n",
            "2            1             0.06  random_forest  0.315508  17.602997\n",
            "54           2             0.02  random_forest  0.320856  15.619362\n",
            "22           3             0.02  random_forest  0.320856  18.363211\n",
            "7            4             0.04     libsvm_svc  0.342246   8.503115\n",
            "5            5             0.02     libsvm_svc  0.379679   5.709465\n",
            "34           6             0.04  random_forest  0.379679  16.464487\n",
            "43           7             0.02  random_forest  0.427807  22.177441\n",
            "48           8             0.02  random_forest  0.470588  19.543325\n",
            "47           9             0.02  random_forest  0.513369  20.665099\n",
            "36          10             0.64       adaboost  0.524064  14.465663\n",
            "28          11             0.10   bernoulli_nb  0.786096  10.567344\n"
          ]
        }
      ],
      "source": [
        "predictions = autosk.predict(X_test)\n",
        "\n",
        "print(f\"Acurácia: {accuracy_score(y_test, predictions)}\")\n",
        "print(\"\")\n",
        "\n",
        "print(autosk.leaderboard())"
      ]
    },
    {
      "cell_type": "code",
      "execution_count": 35,
      "id": "b79d94ce",
      "metadata": {},
      "outputs": [],
      "source": [
        "# Grava o modelo e seus respectivos hiperparâmetros\n",
        "\n",
        "# with open('predict-grade.pkl', 'wb')  as f:\n",
        "    # pickle.dump(autosk, f)"
      ]
    },
    {
      "cell_type": "code",
      "execution_count": 322,
      "id": "025598e2",
      "metadata": {},
      "outputs": [],
      "source": [
        "# Carrega o modelo e seus respectivos hiperparâmetros\n",
        "\n",
        "with open('random-forest-78.pkl', 'rb') as f:\n",
        "    loaded_classifier = pickle.load(f)"
      ]
    },
    {
      "cell_type": "code",
      "execution_count": 1049,
      "id": "9c943754",
      "metadata": {},
      "outputs": [
        {
          "name": "stdout",
          "output_type": "stream",
          "text": [
            "Melhor modelo de testes - Radom-forest\n",
            "\n",
            "Melhor acurácia: 0.7849462365591398\n"
          ]
        }
      ],
      "source": [
        "y_true = y_test\n",
        "y_pred = loaded_classifier.predict(X_test)\n",
        "\n",
        "print(\"Melhor modelo de testes - Radom-forest\")\n",
        "print(\"\")\n",
        "\n",
        "print(f\"Melhor acurácia: {accuracy_score(y_true, y_pred)}\")"
      ]
    },
    {
      "cell_type": "code",
      "execution_count": 1050,
      "id": "q3YAEWa8Mh0O",
      "metadata": {
        "colab": {
          "base_uri": "https://localhost:8080/"
        },
        "id": "q3YAEWa8Mh0O",
        "outputId": "f6f26746-7fee-452d-d121-5d4279a8a5f3"
      },
      "outputs": [
        {
          "name": "stdout",
          "output_type": "stream",
          "text": [
            "              precision    recall  f1-score   support\n",
            "\n",
            "           0       1.00      0.91      0.95        11\n",
            "           1       0.38      0.91      0.54        11\n",
            "           2       0.89      0.67      0.76        12\n",
            "           3       0.86      0.50      0.63        12\n",
            "           4       1.00      0.83      0.91        12\n",
            "           5       1.00      0.64      0.78        11\n",
            "           6       1.00      0.92      0.96        12\n",
            "           7       0.85      0.92      0.88        12\n",
            "\n",
            "    accuracy                           0.78        93\n",
            "   macro avg       0.87      0.79      0.80        93\n",
            "weighted avg       0.87      0.78      0.80        93\n",
            "\n"
          ]
        }
      ],
      "source": [
        "print(classification_report(y_test, predictions))"
      ]
    },
    {
      "cell_type": "markdown",
      "id": "3b82d184",
      "metadata": {},
      "source": [
        ">>> Hiperparâmetros do AUTOML"
      ]
    },
    {
      "cell_type": "code",
      "execution_count": 1051,
      "id": "P6Y7vy1HgaQP",
      "metadata": {
        "colab": {
          "base_uri": "https://localhost:8080/",
          "height": 520
        },
        "id": "P6Y7vy1HgaQP",
        "outputId": "7cda495f-9ec7-47ce-b778-4f8d9137ba1f"
      },
      "outputs": [
        {
          "data": {
            "text/html": [
              "<style type=\"text/css\">\n",
              "#T_50944_row0_col0, #T_50944_row0_col1, #T_50944_row1_col0, #T_50944_row1_col1, #T_50944_row2_col0, #T_50944_row2_col1, #T_50944_row3_col0, #T_50944_row3_col1, #T_50944_row4_col0, #T_50944_row4_col1, #T_50944_row5_col0, #T_50944_row5_col1, #T_50944_row6_col0, #T_50944_row6_col1, #T_50944_row7_col0, #T_50944_row7_col1, #T_50944_row8_col0, #T_50944_row8_col1, #T_50944_row9_col0, #T_50944_row9_col1, #T_50944_row10_col0, #T_50944_row10_col1, #T_50944_row11_col0, #T_50944_row11_col1, #T_50944_row12_col0, #T_50944_row12_col1, #T_50944_row13_col0, #T_50944_row13_col1, #T_50944_row14_col0, #T_50944_row14_col1, #T_50944_row15_col0, #T_50944_row15_col1, #T_50944_row16_col0, #T_50944_row16_col1, #T_50944_row17_col0, #T_50944_row17_col1 {\n",
              "  text-align: left;\n",
              "}\n",
              "</style>\n",
              "<table id=\"T_50944\">\n",
              "  <thead>\n",
              "    <tr>\n",
              "      <th class=\"blank level0\" >&nbsp;</th>\n",
              "      <th id=\"T_50944_level0_col0\" class=\"col_heading level0 col0\" >0</th>\n",
              "      <th id=\"T_50944_level0_col1\" class=\"col_heading level0 col1\" >1</th>\n",
              "    </tr>\n",
              "  </thead>\n",
              "  <tbody>\n",
              "    <tr>\n",
              "      <th id=\"T_50944_level0_row0\" class=\"row_heading level0 row0\" >0</th>\n",
              "      <td id=\"T_50944_row0_col0\" class=\"data row0 col0\" >balancing:strategy</td>\n",
              "      <td id=\"T_50944_row0_col1\" class=\"data row0 col1\" >none</td>\n",
              "    </tr>\n",
              "    <tr>\n",
              "      <th id=\"T_50944_level0_row1\" class=\"row_heading level0 row1\" >1</th>\n",
              "      <td id=\"T_50944_row1_col0\" class=\"data row1 col0\" >classifier:__choice__</td>\n",
              "      <td id=\"T_50944_row1_col1\" class=\"data row1 col1\" >random_forest</td>\n",
              "    </tr>\n",
              "    <tr>\n",
              "      <th id=\"T_50944_level0_row2\" class=\"row_heading level0 row2\" >2</th>\n",
              "      <td id=\"T_50944_row2_col0\" class=\"data row2 col0\" >data_preprocessor:__choice__</td>\n",
              "      <td id=\"T_50944_row2_col1\" class=\"data row2 col1\" >feature_type</td>\n",
              "    </tr>\n",
              "    <tr>\n",
              "      <th id=\"T_50944_level0_row3\" class=\"row_heading level0 row3\" >3</th>\n",
              "      <td id=\"T_50944_row3_col0\" class=\"data row3 col0\" >feature_preprocessor:__choice__</td>\n",
              "      <td id=\"T_50944_row3_col1\" class=\"data row3 col1\" >no_preprocessing</td>\n",
              "    </tr>\n",
              "    <tr>\n",
              "      <th id=\"T_50944_level0_row4\" class=\"row_heading level0 row4\" >4</th>\n",
              "      <td id=\"T_50944_row4_col0\" class=\"data row4 col0\" >classifier:random_forest:bootstrap</td>\n",
              "      <td id=\"T_50944_row4_col1\" class=\"data row4 col1\" >True</td>\n",
              "    </tr>\n",
              "    <tr>\n",
              "      <th id=\"T_50944_level0_row5\" class=\"row_heading level0 row5\" >5</th>\n",
              "      <td id=\"T_50944_row5_col0\" class=\"data row5 col0\" >classifier:random_forest:criterion</td>\n",
              "      <td id=\"T_50944_row5_col1\" class=\"data row5 col1\" >gini</td>\n",
              "    </tr>\n",
              "    <tr>\n",
              "      <th id=\"T_50944_level0_row6\" class=\"row_heading level0 row6\" >6</th>\n",
              "      <td id=\"T_50944_row6_col0\" class=\"data row6 col0\" >classifier:random_forest:max_depth</td>\n",
              "      <td id=\"T_50944_row6_col1\" class=\"data row6 col1\" >None</td>\n",
              "    </tr>\n",
              "    <tr>\n",
              "      <th id=\"T_50944_level0_row7\" class=\"row_heading level0 row7\" >7</th>\n",
              "      <td id=\"T_50944_row7_col0\" class=\"data row7 col0\" >classifier:random_forest:max_features</td>\n",
              "      <td id=\"T_50944_row7_col1\" class=\"data row7 col1\" >0.500000</td>\n",
              "    </tr>\n",
              "    <tr>\n",
              "      <th id=\"T_50944_level0_row8\" class=\"row_heading level0 row8\" >8</th>\n",
              "      <td id=\"T_50944_row8_col0\" class=\"data row8 col0\" >classifier:random_forest:max_leaf_nodes</td>\n",
              "      <td id=\"T_50944_row8_col1\" class=\"data row8 col1\" >None</td>\n",
              "    </tr>\n",
              "    <tr>\n",
              "      <th id=\"T_50944_level0_row9\" class=\"row_heading level0 row9\" >9</th>\n",
              "      <td id=\"T_50944_row9_col0\" class=\"data row9 col0\" >classifier:random_forest:min_impurity_decrease</td>\n",
              "      <td id=\"T_50944_row9_col1\" class=\"data row9 col1\" >0.000000</td>\n",
              "    </tr>\n",
              "    <tr>\n",
              "      <th id=\"T_50944_level0_row10\" class=\"row_heading level0 row10\" >10</th>\n",
              "      <td id=\"T_50944_row10_col0\" class=\"data row10 col0\" >classifier:random_forest:min_samples_leaf</td>\n",
              "      <td id=\"T_50944_row10_col1\" class=\"data row10 col1\" >1</td>\n",
              "    </tr>\n",
              "    <tr>\n",
              "      <th id=\"T_50944_level0_row11\" class=\"row_heading level0 row11\" >11</th>\n",
              "      <td id=\"T_50944_row11_col0\" class=\"data row11 col0\" >classifier:random_forest:min_samples_split</td>\n",
              "      <td id=\"T_50944_row11_col1\" class=\"data row11 col1\" >2</td>\n",
              "    </tr>\n",
              "    <tr>\n",
              "      <th id=\"T_50944_level0_row12\" class=\"row_heading level0 row12\" >12</th>\n",
              "      <td id=\"T_50944_row12_col0\" class=\"data row12 col0\" >classifier:random_forest:min_weight_fraction_leaf</td>\n",
              "      <td id=\"T_50944_row12_col1\" class=\"data row12 col1\" >0.000000</td>\n",
              "    </tr>\n",
              "    <tr>\n",
              "      <th id=\"T_50944_level0_row13\" class=\"row_heading level0 row13\" >13</th>\n",
              "      <td id=\"T_50944_row13_col0\" class=\"data row13 col0\" >data_preprocessor:feature_type:categorical_transformer:categorical_encoding:__choice__</td>\n",
              "      <td id=\"T_50944_row13_col1\" class=\"data row13 col1\" >one_hot_encoding</td>\n",
              "    </tr>\n",
              "    <tr>\n",
              "      <th id=\"T_50944_level0_row14\" class=\"row_heading level0 row14\" >14</th>\n",
              "      <td id=\"T_50944_row14_col0\" class=\"data row14 col0\" >data_preprocessor:feature_type:categorical_transformer:category_coalescence:__choice__</td>\n",
              "      <td id=\"T_50944_row14_col1\" class=\"data row14 col1\" >minority_coalescer</td>\n",
              "    </tr>\n",
              "    <tr>\n",
              "      <th id=\"T_50944_level0_row15\" class=\"row_heading level0 row15\" >15</th>\n",
              "      <td id=\"T_50944_row15_col0\" class=\"data row15 col0\" >data_preprocessor:feature_type:numerical_transformer:imputation:strategy</td>\n",
              "      <td id=\"T_50944_row15_col1\" class=\"data row15 col1\" >mean</td>\n",
              "    </tr>\n",
              "    <tr>\n",
              "      <th id=\"T_50944_level0_row16\" class=\"row_heading level0 row16\" >16</th>\n",
              "      <td id=\"T_50944_row16_col0\" class=\"data row16 col0\" >data_preprocessor:feature_type:numerical_transformer:rescaling:__choice__</td>\n",
              "      <td id=\"T_50944_row16_col1\" class=\"data row16 col1\" >standardize</td>\n",
              "    </tr>\n",
              "    <tr>\n",
              "      <th id=\"T_50944_level0_row17\" class=\"row_heading level0 row17\" >17</th>\n",
              "      <td id=\"T_50944_row17_col0\" class=\"data row17 col0\" >data_preprocessor:feature_type:categorical_transformer:category_coalescence:minority_coalescer:minimum_fraction</td>\n",
              "      <td id=\"T_50944_row17_col1\" class=\"data row17 col1\" >0.010000</td>\n",
              "    </tr>\n",
              "  </tbody>\n",
              "</table>\n"
            ],
            "text/plain": [
              "<pandas.io.formats.style.Styler at 0x7f16d07cff70>"
            ]
          },
          "execution_count": 1051,
          "metadata": {},
          "output_type": "execute_result"
        }
      ],
      "source": [
        "report = DataFrame(autosk.cv_results_).sort_values(by=[\"rank_test_scores\"])\n",
        "bestParams = report.loc[report.rank_test_scores == 1, \"params\"].squeeze()\n",
        "\n",
        "dparams_items = bestParams.items()\n",
        "dparams = pd.DataFrame(dparams_items)\n",
        "\n",
        "dparams_aligned = dparams.style.set_properties(**{'text-align': 'left'})\n",
        "\n",
        "dparams_aligned"
      ]
    },
    {
      "cell_type": "markdown",
      "id": "7bdfc034",
      "metadata": {},
      "source": [
        ">>> Aplicando os teste em 3 modelos alterando seus hiperparâmetros."
      ]
    },
    {
      "cell_type": "code",
      "execution_count": 1052,
      "id": "3d508876",
      "metadata": {},
      "outputs": [],
      "source": [
        "from sklearn.ensemble import RandomForestClassifier\n",
        "\n",
        "## Melhores parâmetros do autosklearn\n",
        "\n",
        "best_params = {\n",
        "    \"bootstrap\": True,\n",
        "    \"criterion\": \"gini\",\n",
        "    \"max_depth\": None,\n",
        "    \"max_features\": 0.500000,\n",
        "    \"max_leaf_nodes\": None,\n",
        "    \"random_state\": 21,\n",
        "    \"min_impurity_decrease\": 0.00,\n",
        "    \"min_samples_leaf\": 1,\n",
        "    \"min_samples_split\": 2,\n",
        "    \"min_weight_fraction_leaf\": 0.00,\n",
        "}\n",
        "\n",
        "p = [best_params.copy(), best_params.copy(), best_params.copy()]\n",
        "\n",
        "# Modelo 1\n",
        "p[0].update({\"max_features\": 0.1})\n",
        "# Modelo 2\n",
        "p[1].update({\"max_features\": 0.9})\n",
        "# Modelo 3\n",
        "p[2].update({\"max_features\": 1.0})\n",
        "\n",
        "rf = RandomForestClassifier(**best_params)"
      ]
    },
    {
      "cell_type": "markdown",
      "id": "322220cd",
      "metadata": {},
      "source": [
        ">>> Criando um dicionário com base nos hiperparâmetros dados pelo AUTOML."
      ]
    },
    {
      "cell_type": "code",
      "execution_count": 1053,
      "id": "f20f1379",
      "metadata": {},
      "outputs": [
        {
          "name": "stdout",
          "output_type": "stream",
          "text": [
            "Acurácia: 0.7849462365591398\n",
            "Precisão: 0.7830419580419581\n"
          ]
        }
      ],
      "source": [
        "## Modelo base\n",
        "\n",
        "rf.fit(X_train, y_train)\n",
        "predict = rf.predict(X_test)\n",
        "\n",
        "print(f\"Acurácia: {accuracy_score(y_test, predict)}\")\n",
        "print(f\"Precisão: {precision_score(y_test, predict, average='macro')}\")"
      ]
    },
    {
      "cell_type": "code",
      "execution_count": 1054,
      "id": "a347722a",
      "metadata": {},
      "outputs": [
        {
          "data": {
            "image/png": "[encoded data removed]",
            "text/plain": [
              "<Figure size 432x288 with 2 Axes>"
            ]
          },
          "metadata": {},
          "output_type": "display_data"
        }
      ],
      "source": [
        "matrix = confusion_matrix(y_test, predictions)\n",
        "ConfusionMatrixDisplay(confusion_matrix=matrix).plot()\n",
        "plt.show()"
      ]
    },
    {
      "cell_type": "code",
      "execution_count": 1055,
      "id": "941558fb",
      "metadata": {},
      "outputs": [
        {
          "name": "stdout",
          "output_type": "stream",
          "text": [
            "Acurácia: 0.7419354838709677\n",
            "Precisão: 0.7500022546897547\n"
          ]
        }
      ],
      "source": [
        "## Modelo 1\n",
        "\n",
        "rf = RandomForestClassifier(**p[0])\n",
        "\n",
        "rf.fit(X_train, y_train)\n",
        "predict1 = rf.predict(X_test)\n",
        "\n",
        "print(f\"Acurácia: {accuracy_score(y_test, predict1)}\")\n",
        "print(f\"Precisão: {precision_score(y_test, predict1 , average='macro')}\")"
      ]
    },
    {
      "cell_type": "code",
      "execution_count": 1056,
      "id": "e0f99e1f",
      "metadata": {},
      "outputs": [
        {
          "data": {
            "image/png": "[encoded data removed]",
            "text/plain": [
              "<Figure size 432x288 with 2 Axes>"
            ]
          },
          "metadata": {},
          "output_type": "display_data"
        }
      ],
      "source": [
        "matrix1 = confusion_matrix(y_test, predict1)\n",
        "ConfusionMatrixDisplay(confusion_matrix=matrix1).plot()\n",
        "plt.show()"
      ]
    },
    {
      "cell_type": "code",
      "execution_count": 1057,
      "id": "24db4cdf",
      "metadata": {},
      "outputs": [
        {
          "name": "stdout",
          "output_type": "stream",
          "text": [
            "Acurácia: 0.7096774193548387\n",
            "Precisão: 0.6885281385281385\n"
          ]
        }
      ],
      "source": [
        "## Modelo 2\n",
        "\n",
        "rf = RandomForestClassifier(**p[1])\n",
        "\n",
        "rf.fit(X_train, y_train)\n",
        "predict2 = rf.predict(X_test)\n",
        "\n",
        "print(f\"Acurácia: {accuracy_score(y_test, predict2)}\")\n",
        "print(f\"Precisão: {precision_score(y_test, predict2 , average='macro')}\")"
      ]
    },
    {
      "cell_type": "code",
      "execution_count": 1058,
      "id": "de3ec54d",
      "metadata": {},
      "outputs": [
        {
          "data": {
            "image/png": "[encoded data removed]",
            "text/plain": [
              "<Figure size 432x288 with 2 Axes>"
            ]
          },
          "metadata": {},
          "output_type": "display_data"
        }
      ],
      "source": [
        "matrix2 = confusion_matrix(y_test, predict2)\n",
        "ConfusionMatrixDisplay(confusion_matrix=matrix2).plot()\n",
        "plt.show()"
      ]
    },
    {
      "cell_type": "code",
      "execution_count": 1059,
      "id": "9e43aedc",
      "metadata": {},
      "outputs": [
        {
          "name": "stdout",
          "output_type": "stream",
          "text": [
            "Acurácia: 0.7204301075268817\n",
            "Precisão: 0.7135843731431967\n"
          ]
        }
      ],
      "source": [
        "## Modelo 3\n",
        "\n",
        "rf = RandomForestClassifier(**p[2])\n",
        "\n",
        "rf.fit(X_train, y_train)\n",
        "predict3 = rf.predict(X_test)\n",
        "\n",
        "print(f\"Acurácia: {accuracy_score(y_test, predict3)}\")\n",
        "print(f\"Precisão: {precision_score(y_test, predict3, average='macro')}\")"
      ]
    },
    {
      "cell_type": "code",
      "execution_count": 1060,
      "id": "b254e11d",
      "metadata": {},
      "outputs": [
        {
          "data": {
            "image/png": "[encoded data removed]",
            "text/plain": [
              "<Figure size 432x288 with 2 Axes>"
            ]
          },
          "metadata": {},
          "output_type": "display_data"
        }
      ],
      "source": [
        "matrix3 = confusion_matrix(y_test, predict3)\n",
        "ConfusionMatrixDisplay(confusion_matrix=matrix3).plot()\n",
        "plt.show()"
      ]
    },
    {
      "cell_type": "markdown",
      "id": "68eaacfa",
      "metadata": {
        "id": "68eaacfa"
      },
      "source": [
        "**2 -** Utilize a mesma base de dados (lembrem de tirar o rótulo, obviamente) da questão anterior de forma que:"
      ]
    },
    {
      "cell_type": "markdown",
      "id": "2380e88f",
      "metadata": {
        "id": "2380e88f"
      },
      "source": [
        "> **2 [A]** - Execute o K-means e Hierárquico. <br>"
      ]
    },
    {
      "cell_type": "markdown",
      "id": "bd7a0e75",
      "metadata": {
        "id": "bd7a0e75"
      },
      "source": [
        "> **2 [B]** - Teste o K igual à 5 e 7. <br>"
      ]
    },
    {
      "cell_type": "markdown",
      "id": "ffa6fda7",
      "metadata": {
        "id": "ffa6fda7"
      },
      "source": [
        "> **2 [C]** - Na execução do Hierárquico, varie 2 métodos do linkage. <br>"
      ]
    },
    {
      "cell_type": "markdown",
      "id": "4e8d68c7",
      "metadata": {
        "id": "4e8d68c7"
      },
      "source": [
        "> **2 [D]** - Por fim, faça uma comparação entre os 2 resultados das execuções anteriores e adote uma medida de avaliação própria para clusterização. <br>"
      ]
    },
    {
      "cell_type": "markdown",
      "id": "1bde6fab",
      "metadata": {
        "id": "1bde6fab"
      },
      "source": [
        "**BÔNUS** - Diga vantagens e desvantagens do uso do AUTOML e como você faria para usá-lo, garantindo os melhores resultados possíveis. <br>"
      ]
    },
    {
      "cell_type": "markdown",
      "id": "be5aaa51",
      "metadata": {
        "id": "be5aaa51"
      },
      "source": [
        "***"
      ]
    },
    {
      "cell_type": "code",
      "execution_count": 1061,
      "id": "e9f3bf81",
      "metadata": {
        "id": "e9f3bf81"
      },
      "outputs": [],
      "source": [
        "#!pip3 install math\n",
        "#!pip3 install matplotlib\n",
        "#!pip3 install pandas\n",
        "#!pip3 install seaborn\n",
        "#!pip3 install statistics \n",
        "#!pip3 install sklearn"
      ]
    }
  ],
  "metadata": {
    "colab": {
      "collapsed_sections": [],
      "name": "Avaliacao02-IA-2022 - Colab.ipynb",
      "provenance": []
    },
    "interpreter": {
      "hash": "5d4e77cddfe0947f2085749b930d22e84b507a8327edef1b8870b6ff874f8111"
    },
    "kernelspec": {
      "display_name": "Python 3.9.5 ('venv': venv)",
      "language": "python",
      "name": "python3"
    },
    "language_info": {
      "codemirror_mode": {
        "name": "ipython",
        "version": 3
      },
      "file_extension": ".py",
      "mimetype": "text/x-python",
      "name": "python",
      "nbconvert_exporter": "python",
      "pygments_lexer": "ipython3",
      "version": "3.9.5"
    }
  },
  "nbformat": 4,
  "nbformat_minor": 5
}
