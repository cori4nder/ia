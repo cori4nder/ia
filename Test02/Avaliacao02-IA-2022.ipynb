{
 "cells": [
  {
   "cell_type": "markdown",
   "id": "2fecce09-b387-46c7-bd88-75196508f194",
   "metadata": {},
   "source": [
    "## <center> Prova [02] - Inteligência Artificial / UFPB - 2021.2 </center>\n",
    "**Discente:** Lucas Gomes Dantas <br>\n",
    "**Matrícula:** 20200082925 <br>\n",
    "**Dataset:** <a href=\"https://www.kaggle.com/datasets/csafrit2/higher-education-students-performance-evaluation\">Higher Education Students Performance Evaluation</a>\n"
   ]
  },
  {
   "cell_type": "markdown",
   "id": "d56ebe78",
   "metadata": {},
   "source": [
    "***"
   ]
  },
  {
   "cell_type": "markdown",
   "id": "423c162e",
   "metadata": {},
   "source": [
    "> **[*] Ambiente e Dependências**"
   ]
  },
  {
   "cell_type": "code",
   "execution_count": 94,
   "id": "2c2e15dc",
   "metadata": {},
   "outputs": [],
   "source": [
    "from statistics import mode\n",
    "\n",
    "import pandas as pd\n",
    "import numpy as np\n",
    "import matplotlib.pyplot as plt\n",
    "import seaborn as sns\n",
    "import plotly.express as px\n",
    "import warnings\n",
    "import tensorflow as tf\n",
    "\n",
    "warnings.filterwarnings('ignore')\n",
    "\n",
    "from sklearn.ensemble import RandomForestClassifier\n",
    "from sklearn.preprocessing import StandardScaler, OneHotEncoder\n",
    "from sklearn.datasets import make_classification\n",
    "from sklearn.decomposition import PCA\n",
    "from sklearn.preprocessing import RobustScaler\n",
    "from sklearn.model_selection import train_test_split\n",
    "from sklearn.neighbors import KNeighborsClassifier\n",
    "from sklearn.metrics import (accuracy_score, precision_score, recall_score, confusion_matrix, classification_report)\n",
    "from tensorflow import keras\n",
    "from keras import (datasets, layers, models, optimizers)\n",
    "from keras.optimizers import rmsprop_v2\n",
    "from mlxtend.feature_selection import SequentialFeatureSelector\n",
    "from google.cloud import automl\n",
    "\n",
    "from imblearn.over_sampling import RandomOverSampler, SMOTE\n",
    "from imblearn.under_sampling import RandomUnderSampler, NearMiss\n",
    "\n",
    "from collections import Counter"
   ]
  },
  {
   "cell_type": "markdown",
   "id": "b7c4710b",
   "metadata": {},
   "source": [
    "\n",
    "**1 -** Utilizando a base de dados de <a href=\"https://www.kaggle.com/datasets/csafrit2/higher-education-students-performance-evaluation\">Higher Education Students Performance Evaluation</a>, elabore uma solução para identificar o OUTPUT Grade do estudante.  <br>\n"
   ]
  },
  {
   "cell_type": "markdown",
   "id": "ae6d23e7",
   "metadata": {},
   "source": [
    "> **[#] Dataset**"
   ]
  },
  {
   "cell_type": "code",
   "execution_count": 95,
   "id": "9d50513d",
   "metadata": {},
   "outputs": [
    {
     "data": {
      "text/html": [
       "<div>\n",
       "<style scoped>\n",
       "    .dataframe tbody tr th:only-of-type {\n",
       "        vertical-align: middle;\n",
       "    }\n",
       "\n",
       "    .dataframe tbody tr th {\n",
       "        vertical-align: top;\n",
       "    }\n",
       "\n",
       "    .dataframe thead th {\n",
       "        text-align: right;\n",
       "    }\n",
       "</style>\n",
       "<table border=\"1\" class=\"dataframe\">\n",
       "  <thead>\n",
       "    <tr style=\"text-align: right;\">\n",
       "      <th></th>\n",
       "      <th>STUDENTID</th>\n",
       "      <th>AGE</th>\n",
       "      <th>GENDER</th>\n",
       "      <th>HS_TYPE</th>\n",
       "      <th>SCHOLARSHIP</th>\n",
       "      <th>WORK</th>\n",
       "      <th>ACTIVITY</th>\n",
       "      <th>PARTNER</th>\n",
       "      <th>SALARY</th>\n",
       "      <th>TRANSPORT</th>\n",
       "      <th>...</th>\n",
       "      <th>PREP_STUDY</th>\n",
       "      <th>PREP_EXAM</th>\n",
       "      <th>NOTES</th>\n",
       "      <th>LISTENS</th>\n",
       "      <th>LIKES_DISCUSS</th>\n",
       "      <th>CLASSROOM</th>\n",
       "      <th>CUML_GPA</th>\n",
       "      <th>EXP_GPA</th>\n",
       "      <th>COURSE ID</th>\n",
       "      <th>GRADE</th>\n",
       "    </tr>\n",
       "  </thead>\n",
       "  <tbody>\n",
       "    <tr>\n",
       "      <th>0</th>\n",
       "      <td>STUDENT1</td>\n",
       "      <td>2</td>\n",
       "      <td>2</td>\n",
       "      <td>3</td>\n",
       "      <td>3</td>\n",
       "      <td>1</td>\n",
       "      <td>2</td>\n",
       "      <td>2</td>\n",
       "      <td>1</td>\n",
       "      <td>1</td>\n",
       "      <td>...</td>\n",
       "      <td>1</td>\n",
       "      <td>1</td>\n",
       "      <td>3</td>\n",
       "      <td>2</td>\n",
       "      <td>1</td>\n",
       "      <td>2</td>\n",
       "      <td>1</td>\n",
       "      <td>1</td>\n",
       "      <td>1</td>\n",
       "      <td>1</td>\n",
       "    </tr>\n",
       "    <tr>\n",
       "      <th>1</th>\n",
       "      <td>STUDENT2</td>\n",
       "      <td>2</td>\n",
       "      <td>2</td>\n",
       "      <td>3</td>\n",
       "      <td>3</td>\n",
       "      <td>1</td>\n",
       "      <td>2</td>\n",
       "      <td>2</td>\n",
       "      <td>1</td>\n",
       "      <td>1</td>\n",
       "      <td>...</td>\n",
       "      <td>1</td>\n",
       "      <td>1</td>\n",
       "      <td>3</td>\n",
       "      <td>2</td>\n",
       "      <td>3</td>\n",
       "      <td>2</td>\n",
       "      <td>2</td>\n",
       "      <td>3</td>\n",
       "      <td>1</td>\n",
       "      <td>1</td>\n",
       "    </tr>\n",
       "    <tr>\n",
       "      <th>2</th>\n",
       "      <td>STUDENT3</td>\n",
       "      <td>2</td>\n",
       "      <td>2</td>\n",
       "      <td>2</td>\n",
       "      <td>3</td>\n",
       "      <td>2</td>\n",
       "      <td>2</td>\n",
       "      <td>2</td>\n",
       "      <td>2</td>\n",
       "      <td>4</td>\n",
       "      <td>...</td>\n",
       "      <td>1</td>\n",
       "      <td>1</td>\n",
       "      <td>2</td>\n",
       "      <td>2</td>\n",
       "      <td>1</td>\n",
       "      <td>1</td>\n",
       "      <td>2</td>\n",
       "      <td>2</td>\n",
       "      <td>1</td>\n",
       "      <td>1</td>\n",
       "    </tr>\n",
       "    <tr>\n",
       "      <th>3</th>\n",
       "      <td>STUDENT4</td>\n",
       "      <td>1</td>\n",
       "      <td>1</td>\n",
       "      <td>1</td>\n",
       "      <td>3</td>\n",
       "      <td>1</td>\n",
       "      <td>2</td>\n",
       "      <td>1</td>\n",
       "      <td>2</td>\n",
       "      <td>1</td>\n",
       "      <td>...</td>\n",
       "      <td>1</td>\n",
       "      <td>2</td>\n",
       "      <td>3</td>\n",
       "      <td>2</td>\n",
       "      <td>2</td>\n",
       "      <td>1</td>\n",
       "      <td>3</td>\n",
       "      <td>2</td>\n",
       "      <td>1</td>\n",
       "      <td>1</td>\n",
       "    </tr>\n",
       "    <tr>\n",
       "      <th>4</th>\n",
       "      <td>STUDENT5</td>\n",
       "      <td>2</td>\n",
       "      <td>2</td>\n",
       "      <td>1</td>\n",
       "      <td>3</td>\n",
       "      <td>2</td>\n",
       "      <td>2</td>\n",
       "      <td>1</td>\n",
       "      <td>3</td>\n",
       "      <td>1</td>\n",
       "      <td>...</td>\n",
       "      <td>2</td>\n",
       "      <td>1</td>\n",
       "      <td>2</td>\n",
       "      <td>2</td>\n",
       "      <td>2</td>\n",
       "      <td>1</td>\n",
       "      <td>2</td>\n",
       "      <td>2</td>\n",
       "      <td>1</td>\n",
       "      <td>1</td>\n",
       "    </tr>\n",
       "  </tbody>\n",
       "</table>\n",
       "<p>5 rows × 33 columns</p>\n",
       "</div>"
      ],
      "text/plain": [
       "  STUDENTID  AGE  GENDER  HS_TYPE  SCHOLARSHIP  WORK  ACTIVITY  PARTNER  \\\n",
       "0  STUDENT1    2       2        3            3     1         2        2   \n",
       "1  STUDENT2    2       2        3            3     1         2        2   \n",
       "2  STUDENT3    2       2        2            3     2         2        2   \n",
       "3  STUDENT4    1       1        1            3     1         2        1   \n",
       "4  STUDENT5    2       2        1            3     2         2        1   \n",
       "\n",
       "   SALARY  TRANSPORT  ...  PREP_STUDY  PREP_EXAM  NOTES  LISTENS  \\\n",
       "0       1          1  ...           1          1      3        2   \n",
       "1       1          1  ...           1          1      3        2   \n",
       "2       2          4  ...           1          1      2        2   \n",
       "3       2          1  ...           1          2      3        2   \n",
       "4       3          1  ...           2          1      2        2   \n",
       "\n",
       "   LIKES_DISCUSS  CLASSROOM  CUML_GPA  EXP_GPA  COURSE ID  GRADE  \n",
       "0              1          2         1        1          1      1  \n",
       "1              3          2         2        3          1      1  \n",
       "2              1          1         2        2          1      1  \n",
       "3              2          1         3        2          1      1  \n",
       "4              2          1         2        2          1      1  \n",
       "\n",
       "[5 rows x 33 columns]"
      ]
     },
     "execution_count": 95,
     "metadata": {},
     "output_type": "execute_result"
    }
   ],
   "source": [
    "dstudent = pd.read_csv('student_prediction.csv')\n",
    "dstudent.head()"
   ]
  },
  {
   "cell_type": "code",
   "execution_count": 96,
   "id": "2a0f6594",
   "metadata": {},
   "outputs": [
    {
     "data": {
      "image/png": "[encoded data removed]",
      "text/plain": [
       "<Figure size 432x288 with 1 Axes>"
      ]
     },
     "metadata": {
      "needs_background": "light"
     },
     "output_type": "display_data"
    }
   ],
   "source": [
    "graphstd = sns.countplot(dstudent['GRADE'], label = 'Count')\n",
    "plt.show()"
   ]
  },
  {
   "cell_type": "markdown",
   "id": "7c8594fb",
   "metadata": {},
   "source": [
    "> **1 [A]** - Faça o pré-processamento dos dados (limpeza, engenharia de variáveis, etc) e deixe os seus dados preparados para aplicar o modelo.<br>\n"
   ]
  },
  {
   "cell_type": "markdown",
   "id": "41ee7d86",
   "metadata": {},
   "source": [
    ">> **[#] Pré-processamento**"
   ]
  },
  {
   "cell_type": "code",
   "execution_count": 97,
   "id": "16fab3b6",
   "metadata": {},
   "outputs": [
    {
     "name": "stdout",
     "output_type": "stream",
     "text": [
      "<class 'pandas.core.frame.DataFrame'>\n",
      "RangeIndex: 145 entries, 0 to 144\n",
      "Data columns (total 33 columns):\n",
      " #   Column         Non-Null Count  Dtype \n",
      "---  ------         --------------  ----- \n",
      " 0   STUDENTID      145 non-null    object\n",
      " 1   AGE            145 non-null    int64 \n",
      " 2   GENDER         145 non-null    int64 \n",
      " 3   HS_TYPE        145 non-null    int64 \n",
      " 4   SCHOLARSHIP    145 non-null    int64 \n",
      " 5   WORK           145 non-null    int64 \n",
      " 6   ACTIVITY       145 non-null    int64 \n",
      " 7   PARTNER        145 non-null    int64 \n",
      " 8   SALARY         145 non-null    int64 \n",
      " 9   TRANSPORT      145 non-null    int64 \n",
      " 10  LIVING         145 non-null    int64 \n",
      " 11  MOTHER_EDU     145 non-null    int64 \n",
      " 12  FATHER_EDU     145 non-null    int64 \n",
      " 13  #_SIBLINGS     145 non-null    int64 \n",
      " 14  KIDS           145 non-null    int64 \n",
      " 15  MOTHER_JOB     145 non-null    int64 \n",
      " 16  FATHER_JOB     145 non-null    int64 \n",
      " 17  STUDY_HRS      145 non-null    int64 \n",
      " 18  READ_FREQ      145 non-null    int64 \n",
      " 19  READ_FREQ_SCI  145 non-null    int64 \n",
      " 20  ATTEND_DEPT    145 non-null    int64 \n",
      " 21  IMPACT         145 non-null    int64 \n",
      " 22  ATTEND         145 non-null    int64 \n",
      " 23  PREP_STUDY     145 non-null    int64 \n",
      " 24  PREP_EXAM      145 non-null    int64 \n",
      " 25  NOTES          145 non-null    int64 \n",
      " 26  LISTENS        145 non-null    int64 \n",
      " 27  LIKES_DISCUSS  145 non-null    int64 \n",
      " 28  CLASSROOM      145 non-null    int64 \n",
      " 29  CUML_GPA       145 non-null    int64 \n",
      " 30  EXP_GPA        145 non-null    int64 \n",
      " 31  COURSE ID      145 non-null    int64 \n",
      " 32  GRADE          145 non-null    int64 \n",
      "dtypes: int64(32), object(1)\n",
      "memory usage: 37.5+ KB\n"
     ]
    }
   ],
   "source": [
    "dstudent.info()"
   ]
  },
  {
   "cell_type": "code",
   "execution_count": 98,
   "id": "0941a671",
   "metadata": {},
   "outputs": [
    {
     "data": {
      "text/plain": [
       "(145, 33)"
      ]
     },
     "execution_count": 98,
     "metadata": {},
     "output_type": "execute_result"
    }
   ],
   "source": [
    "dstudent.shape"
   ]
  },
  {
   "cell_type": "code",
   "execution_count": 99,
   "id": "99af49f6",
   "metadata": {},
   "outputs": [
    {
     "data": {
      "text/html": [
       "<div>\n",
       "<style scoped>\n",
       "    .dataframe tbody tr th:only-of-type {\n",
       "        vertical-align: middle;\n",
       "    }\n",
       "\n",
       "    .dataframe tbody tr th {\n",
       "        vertical-align: top;\n",
       "    }\n",
       "\n",
       "    .dataframe thead th {\n",
       "        text-align: right;\n",
       "    }\n",
       "</style>\n",
       "<table border=\"1\" class=\"dataframe\">\n",
       "  <thead>\n",
       "    <tr style=\"text-align: right;\">\n",
       "      <th></th>\n",
       "      <th>STUDENTID</th>\n",
       "    </tr>\n",
       "  </thead>\n",
       "  <tbody>\n",
       "    <tr>\n",
       "      <th>count</th>\n",
       "      <td>145</td>\n",
       "    </tr>\n",
       "    <tr>\n",
       "      <th>unique</th>\n",
       "      <td>145</td>\n",
       "    </tr>\n",
       "    <tr>\n",
       "      <th>top</th>\n",
       "      <td>STUDENT1</td>\n",
       "    </tr>\n",
       "    <tr>\n",
       "      <th>freq</th>\n",
       "      <td>1</td>\n",
       "    </tr>\n",
       "  </tbody>\n",
       "</table>\n",
       "</div>"
      ],
      "text/plain": [
       "       STUDENTID\n",
       "count        145\n",
       "unique       145\n",
       "top     STUDENT1\n",
       "freq           1"
      ]
     },
     "execution_count": 99,
     "metadata": {},
     "output_type": "execute_result"
    }
   ],
   "source": [
    "dstudent.describe(include=object)"
   ]
  },
  {
   "cell_type": "markdown",
   "id": "0233ecd7",
   "metadata": {},
   "source": [
    ">>> Apresenta a disposição dos dados para os atributos do tipo object e sua incidência de valores e singularidade."
   ]
  },
  {
   "cell_type": "code",
   "execution_count": 100,
   "id": "e27bdbfc",
   "metadata": {},
   "outputs": [],
   "source": [
    "dstudent = dstudent.drop(['STUDENTID'], axis = 1)"
   ]
  },
  {
   "cell_type": "markdown",
   "id": "aa9fd0ad",
   "metadata": {},
   "source": [
    ">>> Removendo atributo de valor único, pois é irrelevante ao contexto."
   ]
  },
  {
   "cell_type": "code",
   "execution_count": 101,
   "id": "acb4786c",
   "metadata": {},
   "outputs": [
    {
     "data": {
      "text/html": [
       "<div>\n",
       "<style scoped>\n",
       "    .dataframe tbody tr th:only-of-type {\n",
       "        vertical-align: middle;\n",
       "    }\n",
       "\n",
       "    .dataframe tbody tr th {\n",
       "        vertical-align: top;\n",
       "    }\n",
       "\n",
       "    .dataframe thead th {\n",
       "        text-align: right;\n",
       "    }\n",
       "</style>\n",
       "<table border=\"1\" class=\"dataframe\">\n",
       "  <thead>\n",
       "    <tr style=\"text-align: right;\">\n",
       "      <th></th>\n",
       "      <th>AGE</th>\n",
       "      <th>GENDER</th>\n",
       "      <th>HS_TYPE</th>\n",
       "      <th>SCHOLARSHIP</th>\n",
       "      <th>WORK</th>\n",
       "      <th>ACTIVITY</th>\n",
       "      <th>PARTNER</th>\n",
       "      <th>SALARY</th>\n",
       "      <th>TRANSPORT</th>\n",
       "      <th>LIVING</th>\n",
       "      <th>...</th>\n",
       "      <th>PREP_STUDY</th>\n",
       "      <th>PREP_EXAM</th>\n",
       "      <th>NOTES</th>\n",
       "      <th>LISTENS</th>\n",
       "      <th>LIKES_DISCUSS</th>\n",
       "      <th>CLASSROOM</th>\n",
       "      <th>CUML_GPA</th>\n",
       "      <th>EXP_GPA</th>\n",
       "      <th>COURSE ID</th>\n",
       "      <th>GRADE</th>\n",
       "    </tr>\n",
       "  </thead>\n",
       "  <tbody>\n",
       "  </tbody>\n",
       "</table>\n",
       "<p>0 rows × 32 columns</p>\n",
       "</div>"
      ],
      "text/plain": [
       "Empty DataFrame\n",
       "Columns: [AGE, GENDER, HS_TYPE, SCHOLARSHIP, WORK, ACTIVITY, PARTNER, SALARY, TRANSPORT, LIVING, MOTHER_EDU, FATHER_EDU, #_SIBLINGS, KIDS, MOTHER_JOB, FATHER_JOB, STUDY_HRS, READ_FREQ, READ_FREQ_SCI, ATTEND_DEPT, IMPACT, ATTEND, PREP_STUDY, PREP_EXAM, NOTES, LISTENS, LIKES_DISCUSS, CLASSROOM, CUML_GPA, EXP_GPA, COURSE ID, GRADE]\n",
       "Index: []\n",
       "\n",
       "[0 rows x 32 columns]"
      ]
     },
     "execution_count": 101,
     "metadata": {},
     "output_type": "execute_result"
    }
   ],
   "source": [
    "double = dstudent[dstudent.duplicated()]\n",
    "double"
   ]
  },
  {
   "cell_type": "markdown",
   "id": "8fa31d86",
   "metadata": {},
   "source": [
    ">>> Verificando se há atributos duplicados no dataset."
   ]
  },
  {
   "cell_type": "code",
   "execution_count": 102,
   "id": "c39ea481",
   "metadata": {},
   "outputs": [],
   "source": [
    "## corr = dstudent.corr()\n",
    "## corr.style.background_gradient(cmap = \"coolwarm\")"
   ]
  },
  {
   "cell_type": "markdown",
   "id": "cac3e8f4",
   "metadata": {},
   "source": [
    ">>> Como não há nenhum par de atributos com correlação muito alta, irão permanecer no dataset."
   ]
  },
  {
   "cell_type": "markdown",
   "id": "a6bb8802",
   "metadata": {},
   "source": [
    ">>> **1 [A - a]** Utilize pelo menos uma forma de redimensionamento de atributos (selecionando ou agregando) e avalie o resultado de utilizar todas eles e essa amostra.\n"
   ]
  },
  {
   "cell_type": "code",
   "execution_count": 103,
   "metadata": {},
   "outputs": [
    {
     "data": {
      "text/plain": [
       "AGE             -0.095251\n",
       "GENDER           0.335533\n",
       "HS_TYPE          0.104821\n",
       "SCHOLARSHIP      0.023963\n",
       "WORK             0.167445\n",
       "ACTIVITY        -0.062993\n",
       "PARTNER         -0.051778\n",
       "SALARY          -0.166352\n",
       "TRANSPORT       -0.156289\n",
       "LIVING           0.023683\n",
       "MOTHER_EDU       0.066318\n",
       "FATHER_EDU       0.063504\n",
       "#_SIBLINGS       0.084470\n",
       "KIDS             0.066379\n",
       "MOTHER_JOB      -0.030747\n",
       "FATHER_JOB      -0.044268\n",
       "STUDY_HRS       -0.033065\n",
       "READ_FREQ        0.195617\n",
       "READ_FREQ_SCI    0.003189\n",
       "ATTEND_DEPT     -0.184763\n",
       "IMPACT          -0.203273\n",
       "ATTEND          -0.139564\n",
       "PREP_STUDY       0.014638\n",
       "PREP_EXAM        0.073783\n",
       "NOTES            0.044862\n",
       "LISTENS          0.085137\n",
       "LIKES_DISCUSS    0.146547\n",
       "CLASSROOM        0.110617\n",
       "CUML_GPA         0.315493\n",
       "EXP_GPA          0.248588\n",
       "COURSE ID        0.142166\n",
       "GRADE            1.000000\n",
       "Name: GRADE, dtype: float64"
      ]
     },
     "execution_count": 103,
     "metadata": {},
     "output_type": "execute_result"
    }
   ],
   "source": [
    "dstudent.corr()['GRADE']"
   ]
  },
  {
   "cell_type": "markdown",
   "metadata": {},
   "source": [
    ">>> Ao relacionar o atributo GRADE com os demais, é possível identificar a incidência de correlações menores que 0.1 e -0.1, caracterizando uma não correlação. Através dessa condição, irei retirar todos os atributos que atendem a essa característica e verificar o comportamento do dataset posteriormente."
   ]
  },
  {
   "cell_type": "code",
   "execution_count": 104,
   "id": "977b9dfd",
   "metadata": {},
   "outputs": [],
   "source": [
    "dstudent_drop = dstudent.copy()\n",
    "\n",
    "dstudent_drop = dstudent_drop.drop(['AGE', 'SCHOLARSHIP', 'ACTIVITY', 'PARTNER', 'LIVING', 'MOTHER_EDU', 'FATHER_EDU', '#_SIBLINGS', 'KIDS', 'MOTHER_JOB', 'FATHER_JOB', 'STUDY_HRS', 'READ_FREQ_SCI', 'PREP_STUDY', 'PREP_EXAM', 'NOTES', 'LISTENS' ], axis = 1)"
   ]
  },
  {
   "cell_type": "code",
   "execution_count": 105,
   "id": "13fe3903",
   "metadata": {},
   "outputs": [
    {
     "data": {
      "text/plain": [
       "GENDER           0.335533\n",
       "HS_TYPE          0.104821\n",
       "WORK             0.167445\n",
       "SALARY          -0.166352\n",
       "TRANSPORT       -0.156289\n",
       "READ_FREQ        0.195617\n",
       "ATTEND_DEPT     -0.184763\n",
       "IMPACT          -0.203273\n",
       "ATTEND          -0.139564\n",
       "LIKES_DISCUSS    0.146547\n",
       "CLASSROOM        0.110617\n",
       "CUML_GPA         0.315493\n",
       "EXP_GPA          0.248588\n",
       "COURSE ID        0.142166\n",
       "GRADE            1.000000\n",
       "Name: GRADE, dtype: float64"
      ]
     },
     "execution_count": 105,
     "metadata": {},
     "output_type": "execute_result"
    }
   ],
   "source": [
    "dstudent_drop.corr()['GRADE']"
   ]
  },
  {
   "cell_type": "markdown",
   "id": "a405f654",
   "metadata": {},
   "source": [
    "> **1 [B]** - Faça uma análise exploratória dos dados de saída, utilizando box plot, mostrando a aplicação de técnicas de under ou oversampling para que as classes tenham o mesmo tamanho. <br>"
   ]
  },
  {
   "cell_type": "code",
   "execution_count": 106,
   "id": "a122b9b6",
   "metadata": {},
   "outputs": [
    {
     "data": {
      "image/png": "[encoded data removed]",
      "text/plain": [
       "<Figure size 432x288 with 1 Axes>"
      ]
     },
     "metadata": {
      "needs_background": "light"
     },
     "output_type": "display_data"
    }
   ],
   "source": [
    "dstudent.boxplot(column=['GRADE'])\n",
    "plt.show()\n"
   ]
  },
  {
   "cell_type": "markdown",
   "id": "60644ef6",
   "metadata": {},
   "source": [
    ">> O boxplot indica uma concentração maior de notas onde incide os menores valores, tendenciando os dados. Diante desse cenário, será aplicada a técnica de oversampling para igualar as menores notas em sentido quantitativo de elementos."
   ]
  },
  {
   "cell_type": "code",
   "execution_count": 107,
   "id": "2bd6358b",
   "metadata": {},
   "outputs": [
    {
     "data": {
      "text/plain": [
       "1    35\n",
       "2    24\n",
       "3    21\n",
       "5    17\n",
       "7    17\n",
       "6    13\n",
       "4    10\n",
       "0     8\n",
       "Name: GRADE, dtype: int64"
      ]
     },
     "execution_count": 107,
     "metadata": {},
     "output_type": "execute_result"
    }
   ],
   "source": [
    "dstudent['GRADE'].value_counts()"
   ]
  },
  {
   "cell_type": "code",
   "execution_count": 108,
   "id": "f88fbe69",
   "metadata": {},
   "outputs": [],
   "source": [
    "## Dataset principal\n",
    "dstudent_x = dstudent.copy()\n",
    "dtest = dstudent_x.drop(['GRADE'], axis = 1)\n",
    "\n",
    "## Dataset com drop de não correlação\n",
    "dtest_drop = dstudent_drop.drop(['GRADE'], axis = 1)"
   ]
  },
  {
   "cell_type": "code",
   "execution_count": 109,
   "id": "946ca3b9",
   "metadata": {},
   "outputs": [],
   "source": [
    "## Inicializando configurações do SMOTE para a aplicação do oversampling\n",
    "smt = SMOTE(sampling_strategy = 'auto', random_state = 42)"
   ]
  },
  {
   "cell_type": "code",
   "execution_count": 110,
   "id": "a94d54a4",
   "metadata": {},
   "outputs": [],
   "source": [
    "## Dataset principal\n",
    "dtest, dstudent_grade = smt.fit_resample(dtest, dstudent_x['GRADE'])\n",
    "\n",
    "## Dataset com drop de não correlação\n",
    "dtest_drop, dstudent_drop = smt.fit_resample(dtest_drop, dstudent_drop['GRADE'])"
   ]
  },
  {
   "cell_type": "code",
   "execution_count": 111,
   "id": "541859c9",
   "metadata": {},
   "outputs": [
    {
     "data": {
      "text/plain": [
       "1    35\n",
       "2    35\n",
       "5    35\n",
       "0    35\n",
       "3    35\n",
       "4    35\n",
       "7    35\n",
       "6    35\n",
       "Name: GRADE, dtype: int64"
      ]
     },
     "execution_count": 111,
     "metadata": {},
     "output_type": "execute_result"
    }
   ],
   "source": [
    "dstudent_grade.value_counts()"
   ]
  },
  {
   "cell_type": "code",
   "execution_count": 112,
   "id": "64edb7e8",
   "metadata": {},
   "outputs": [],
   "source": [
    "## Dataset principal\n",
    "dstd_balanced = pd.concat([dtest, dstudent_grade], axis = 1)\n",
    "\n",
    "## Dataset com drop de não correlação\n",
    "dstd_balanced_drop = pd.concat([dtest_drop, dstudent_drop], axis = 1)"
   ]
  },
  {
   "cell_type": "code",
   "execution_count": 113,
   "id": "d2eb96be",
   "metadata": {},
   "outputs": [
    {
     "data": {
      "text/html": [
       "<div>\n",
       "<style scoped>\n",
       "    .dataframe tbody tr th:only-of-type {\n",
       "        vertical-align: middle;\n",
       "    }\n",
       "\n",
       "    .dataframe tbody tr th {\n",
       "        vertical-align: top;\n",
       "    }\n",
       "\n",
       "    .dataframe thead th {\n",
       "        text-align: right;\n",
       "    }\n",
       "</style>\n",
       "<table border=\"1\" class=\"dataframe\">\n",
       "  <thead>\n",
       "    <tr style=\"text-align: right;\">\n",
       "      <th></th>\n",
       "      <th>AGE</th>\n",
       "      <th>GENDER</th>\n",
       "      <th>HS_TYPE</th>\n",
       "      <th>SCHOLARSHIP</th>\n",
       "      <th>WORK</th>\n",
       "      <th>ACTIVITY</th>\n",
       "      <th>PARTNER</th>\n",
       "      <th>SALARY</th>\n",
       "      <th>TRANSPORT</th>\n",
       "      <th>LIVING</th>\n",
       "      <th>...</th>\n",
       "      <th>PREP_STUDY</th>\n",
       "      <th>PREP_EXAM</th>\n",
       "      <th>NOTES</th>\n",
       "      <th>LISTENS</th>\n",
       "      <th>LIKES_DISCUSS</th>\n",
       "      <th>CLASSROOM</th>\n",
       "      <th>CUML_GPA</th>\n",
       "      <th>EXP_GPA</th>\n",
       "      <th>COURSE ID</th>\n",
       "      <th>GRADE</th>\n",
       "    </tr>\n",
       "  </thead>\n",
       "  <tbody>\n",
       "    <tr>\n",
       "      <th>0</th>\n",
       "      <td>2</td>\n",
       "      <td>2</td>\n",
       "      <td>3</td>\n",
       "      <td>3</td>\n",
       "      <td>1</td>\n",
       "      <td>2</td>\n",
       "      <td>2</td>\n",
       "      <td>1</td>\n",
       "      <td>1</td>\n",
       "      <td>1</td>\n",
       "      <td>...</td>\n",
       "      <td>1</td>\n",
       "      <td>1</td>\n",
       "      <td>3</td>\n",
       "      <td>2</td>\n",
       "      <td>1</td>\n",
       "      <td>2</td>\n",
       "      <td>1</td>\n",
       "      <td>1</td>\n",
       "      <td>1</td>\n",
       "      <td>1</td>\n",
       "    </tr>\n",
       "    <tr>\n",
       "      <th>1</th>\n",
       "      <td>2</td>\n",
       "      <td>2</td>\n",
       "      <td>3</td>\n",
       "      <td>3</td>\n",
       "      <td>1</td>\n",
       "      <td>2</td>\n",
       "      <td>2</td>\n",
       "      <td>1</td>\n",
       "      <td>1</td>\n",
       "      <td>1</td>\n",
       "      <td>...</td>\n",
       "      <td>1</td>\n",
       "      <td>1</td>\n",
       "      <td>3</td>\n",
       "      <td>2</td>\n",
       "      <td>3</td>\n",
       "      <td>2</td>\n",
       "      <td>2</td>\n",
       "      <td>3</td>\n",
       "      <td>1</td>\n",
       "      <td>1</td>\n",
       "    </tr>\n",
       "    <tr>\n",
       "      <th>2</th>\n",
       "      <td>2</td>\n",
       "      <td>2</td>\n",
       "      <td>2</td>\n",
       "      <td>3</td>\n",
       "      <td>2</td>\n",
       "      <td>2</td>\n",
       "      <td>2</td>\n",
       "      <td>2</td>\n",
       "      <td>4</td>\n",
       "      <td>2</td>\n",
       "      <td>...</td>\n",
       "      <td>1</td>\n",
       "      <td>1</td>\n",
       "      <td>2</td>\n",
       "      <td>2</td>\n",
       "      <td>1</td>\n",
       "      <td>1</td>\n",
       "      <td>2</td>\n",
       "      <td>2</td>\n",
       "      <td>1</td>\n",
       "      <td>1</td>\n",
       "    </tr>\n",
       "    <tr>\n",
       "      <th>3</th>\n",
       "      <td>1</td>\n",
       "      <td>1</td>\n",
       "      <td>1</td>\n",
       "      <td>3</td>\n",
       "      <td>1</td>\n",
       "      <td>2</td>\n",
       "      <td>1</td>\n",
       "      <td>2</td>\n",
       "      <td>1</td>\n",
       "      <td>2</td>\n",
       "      <td>...</td>\n",
       "      <td>1</td>\n",
       "      <td>2</td>\n",
       "      <td>3</td>\n",
       "      <td>2</td>\n",
       "      <td>2</td>\n",
       "      <td>1</td>\n",
       "      <td>3</td>\n",
       "      <td>2</td>\n",
       "      <td>1</td>\n",
       "      <td>1</td>\n",
       "    </tr>\n",
       "    <tr>\n",
       "      <th>4</th>\n",
       "      <td>2</td>\n",
       "      <td>2</td>\n",
       "      <td>1</td>\n",
       "      <td>3</td>\n",
       "      <td>2</td>\n",
       "      <td>2</td>\n",
       "      <td>1</td>\n",
       "      <td>3</td>\n",
       "      <td>1</td>\n",
       "      <td>4</td>\n",
       "      <td>...</td>\n",
       "      <td>2</td>\n",
       "      <td>1</td>\n",
       "      <td>2</td>\n",
       "      <td>2</td>\n",
       "      <td>2</td>\n",
       "      <td>1</td>\n",
       "      <td>2</td>\n",
       "      <td>2</td>\n",
       "      <td>1</td>\n",
       "      <td>1</td>\n",
       "    </tr>\n",
       "  </tbody>\n",
       "</table>\n",
       "<p>5 rows × 32 columns</p>\n",
       "</div>"
      ],
      "text/plain": [
       "   AGE  GENDER  HS_TYPE  SCHOLARSHIP  WORK  ACTIVITY  PARTNER  SALARY  \\\n",
       "0    2       2        3            3     1         2        2       1   \n",
       "1    2       2        3            3     1         2        2       1   \n",
       "2    2       2        2            3     2         2        2       2   \n",
       "3    1       1        1            3     1         2        1       2   \n",
       "4    2       2        1            3     2         2        1       3   \n",
       "\n",
       "   TRANSPORT  LIVING  ...  PREP_STUDY  PREP_EXAM  NOTES  LISTENS  \\\n",
       "0          1       1  ...           1          1      3        2   \n",
       "1          1       1  ...           1          1      3        2   \n",
       "2          4       2  ...           1          1      2        2   \n",
       "3          1       2  ...           1          2      3        2   \n",
       "4          1       4  ...           2          1      2        2   \n",
       "\n",
       "   LIKES_DISCUSS  CLASSROOM  CUML_GPA  EXP_GPA  COURSE ID  GRADE  \n",
       "0              1          2         1        1          1      1  \n",
       "1              3          2         2        3          1      1  \n",
       "2              1          1         2        2          1      1  \n",
       "3              2          1         3        2          1      1  \n",
       "4              2          1         2        2          1      1  \n",
       "\n",
       "[5 rows x 32 columns]"
      ]
     },
     "execution_count": 113,
     "metadata": {},
     "output_type": "execute_result"
    }
   ],
   "source": [
    "dstd_balanced.head()"
   ]
  },
  {
   "cell_type": "code",
   "execution_count": 114,
   "id": "a5df656f",
   "metadata": {},
   "outputs": [
    {
     "data": {
      "text/plain": [
       "1    35\n",
       "2    35\n",
       "5    35\n",
       "0    35\n",
       "3    35\n",
       "4    35\n",
       "7    35\n",
       "6    35\n",
       "Name: GRADE, dtype: int64"
      ]
     },
     "execution_count": 114,
     "metadata": {},
     "output_type": "execute_result"
    }
   ],
   "source": [
    "dstd_balanced['GRADE'].value_counts()"
   ]
  },
  {
   "cell_type": "code",
   "execution_count": 115,
   "id": "b16ba6d3",
   "metadata": {},
   "outputs": [
    {
     "data": {
      "image/png": "[encoded data removed]",
      "text/plain": [
       "<Figure size 432x288 with 1 Axes>"
      ]
     },
     "metadata": {
      "needs_background": "light"
     },
     "output_type": "display_data"
    }
   ],
   "source": [
    "## Dataset principal\n",
    "dstd_balanced.boxplot(column=['GRADE'])\n",
    "plt.show()"
   ]
  },
  {
   "cell_type": "code",
   "execution_count": 116,
   "id": "4d97f9a7",
   "metadata": {},
   "outputs": [
    {
     "data": {
      "image/png": "[encoded data removed]",
      "text/plain": [
       "<Figure size 432x288 with 1 Axes>"
      ]
     },
     "metadata": {
      "needs_background": "light"
     },
     "output_type": "display_data"
    }
   ],
   "source": [
    "## Dataset com drop de não correlação\n",
    "dstd_balanced_drop.boxplot(column=['GRADE'])\n",
    "plt.show()"
   ]
  },
  {
   "cell_type": "markdown",
   "id": "1a998cb4",
   "metadata": {},
   "source": [
    "> **1 [C]** - Utilize a biblioteca AUTOML para fazer a previsão. Para o melhor algoritmo, teste 3 variações de um dos seus hiperparâmetros. <br>\n"
   ]
  },
  {
   "cell_type": "code",
   "execution_count": 117,
   "id": "cdf2e40b",
   "metadata": {},
   "outputs": [],
   "source": [
    "X = dstd_balanced.iloc[:, :-1].values\n",
    "y = dstd_balanced.iloc[:, -1].values"
   ]
  },
  {
   "cell_type": "code",
   "execution_count": 118,
   "id": "137440be",
   "metadata": {},
   "outputs": [],
   "source": [
    "X_train, X_test, y_train, y_test = train_test_split(X, y, test_size=0.2, random_state=42, stratify=y)\n",
    "\n",
    "standard_scaler = StandardScaler().fit(X_train)\n",
    "X_train = standard_scaler.transform(X_train)\n",
    "X_test = standard_scaler.transform(X_test)"
   ]
  },
  {
   "cell_type": "code",
   "execution_count": 119,
   "id": "d4a4640f",
   "metadata": {},
   "outputs": [
    {
     "data": {
      "text/plain": [
       "(((224, 31), (224,)), ((56, 31), (56,)))"
      ]
     },
     "execution_count": 119,
     "metadata": {},
     "output_type": "execute_result"
    }
   ],
   "source": [
    "(X_train.shape, y_train.shape), (X_test.shape, y_test.shape)"
   ]
  },
  {
   "cell_type": "code",
   "execution_count": 120,
   "id": "45265b64",
   "metadata": {},
   "outputs": [],
   "source": [
    "## client = automl.AutoMlClient()\n",
    "\n"
   ]
  },
  {
   "cell_type": "markdown",
   "id": "59421aa4",
   "metadata": {},
   "source": [
    "> **1 [D]** - Para avaliar os resultados, utilize e explique a matriz de confusão. Além disso, escolha 2 métricas de sua preferência e o que o seu resultado significa. <br>"
   ]
  },
  {
   "cell_type": "markdown",
   "id": "68eaacfa",
   "metadata": {},
   "source": [
    "**2 -** Utilize a mesma base de dados (lembrem de tirar o rótulo, obviamente) da questão anterior de forma que:"
   ]
  },
  {
   "cell_type": "markdown",
   "id": "2380e88f",
   "metadata": {},
   "source": [
    "> **2 [A]** - Execute o K-means e Hierárquico. <br>"
   ]
  },
  {
   "cell_type": "markdown",
   "id": "bd7a0e75",
   "metadata": {},
   "source": [
    "> **2 [B]** - Teste o K igual à 5 e 7. <br>"
   ]
  },
  {
   "cell_type": "markdown",
   "id": "ffa6fda7",
   "metadata": {},
   "source": [
    "> **2 [C]** - Na execução do Hierárquico, varie 2 métodos do linkage. <br>"
   ]
  },
  {
   "cell_type": "markdown",
   "id": "4e8d68c7",
   "metadata": {},
   "source": [
    "> **2 [D]** - Por fim, faça uma comparação entre os 2 resultados das execuções anteriores e adote uma medida de avaliação própria para clusterização. <br>"
   ]
  },
  {
   "cell_type": "markdown",
   "id": "1bde6fab",
   "metadata": {},
   "source": [
    "**BÔNUS** - Diga vantagens e desvantagens do uso do AUTOML e como você faria para usá-lo, garantindo os melhores resultados possíveis. <br>"
   ]
  },
  {
   "cell_type": "markdown",
   "id": "be5aaa51",
   "metadata": {},
   "source": [
    "***"
   ]
  },
  {
   "cell_type": "code",
   "execution_count": 121,
   "id": "e9f3bf81",
   "metadata": {},
   "outputs": [],
   "source": [
    "#!pip3 install math\n",
    "#!pip3 install matplotlib\n",
    "#!pip3 install pandas\n",
    "#!pip3 install seaborn\n",
    "#!pip3 install statistics \n",
    "#!pip3 install sklearn"
   ]
  }
 ],
 "metadata": {
  "interpreter": {
   "hash": "5d4e77cddfe0947f2085749b930d22e84b507a8327edef1b8870b6ff874f8111"
  },
  "kernelspec": {
   "display_name": "Python 3.9.5 ('venv': venv)",
   "language": "python",
   "name": "python3"
  },
  "language_info": {
   "codemirror_mode": {
    "name": "ipython",
    "version": 3
   },
   "file_extension": ".py",
   "mimetype": "text/x-python",
   "name": "python",
   "nbconvert_exporter": "python",
   "pygments_lexer": "ipython3",
   "version": "3.9.5"
  }
 },
 "nbformat": 4,
 "nbformat_minor": 5
}
