{
 "cells": [
  {
   "cell_type": "markdown",
   "id": "2fecce09-b387-46c7-bd88-75196508f194",
   "metadata": {},
   "source": [
    "## <center> Prova [02] - Inteligência Artificial / UFPB - 2021.2 </center>\n",
    "**Discente:** Lucas Gomes Dantas <br>\n",
    "**Matrícula:** 20200082925 <br>\n",
    "**Dataset:** <a href=\"https://www.kaggle.com/datasets/csafrit2/higher-education-students-performance-evaluation\">Higher Education Students Performance Evaluation</a>\n"
   ]
  },
  {
   "cell_type": "markdown",
   "id": "d56ebe78",
   "metadata": {},
   "source": [
    "***"
   ]
  },
  {
   "cell_type": "markdown",
   "id": "423c162e",
   "metadata": {},
   "source": [
    "> **[*] Ambiente e Dependências**"
   ]
  },
  {
   "cell_type": "code",
   "execution_count": 1,
   "id": "2c2e15dc",
   "metadata": {},
   "outputs": [],
   "source": [
    "from statistics import mode\n",
    "\n",
    "import pandas as pd\n",
    "import numpy as np\n",
    "import matplotlib.pyplot as plt\n",
    "import seaborn as sns\n",
    "\n",
    "from sklearn.decomposition import PCA\n",
    "from sklearn.preprocessing import RobustScaler\n",
    "from sklearn.model_selection import train_test_split\n",
    "from sklearn.neighbors import KNeighborsClassifier\n",
    "from sklearn.metrics import (accuracy_score, precision_score, recall_score, confusion_matrix)"
   ]
  },
  {
   "cell_type": "markdown",
   "id": "b7c4710b",
   "metadata": {},
   "source": [
    "\n",
    "**1 -** Utilizando a base de dados de <a href=\"https://www.kaggle.com/datasets/csafrit2/higher-education-students-performance-evaluation\">Higher Education Students Performance Evaluation</a>, elabore uma solução para identificar o OUTPUT Grade do estudante.  <br>\n"
   ]
  },
  {
   "cell_type": "markdown",
   "id": "ae6d23e7",
   "metadata": {},
   "source": [
    "> **[#] Dataset**"
   ]
  },
  {
   "cell_type": "code",
   "execution_count": 3,
   "id": "9d50513d",
   "metadata": {},
   "outputs": [
    {
     "data": {
      "text/html": [
       "<div>\n",
       "<style scoped>\n",
       "    .dataframe tbody tr th:only-of-type {\n",
       "        vertical-align: middle;\n",
       "    }\n",
       "\n",
       "    .dataframe tbody tr th {\n",
       "        vertical-align: top;\n",
       "    }\n",
       "\n",
       "    .dataframe thead th {\n",
       "        text-align: right;\n",
       "    }\n",
       "</style>\n",
       "<table border=\"1\" class=\"dataframe\">\n",
       "  <thead>\n",
       "    <tr style=\"text-align: right;\">\n",
       "      <th></th>\n",
       "      <th>STUDENTID</th>\n",
       "      <th>AGE</th>\n",
       "      <th>GENDER</th>\n",
       "      <th>HS_TYPE</th>\n",
       "      <th>SCHOLARSHIP</th>\n",
       "      <th>WORK</th>\n",
       "      <th>ACTIVITY</th>\n",
       "      <th>PARTNER</th>\n",
       "      <th>SALARY</th>\n",
       "      <th>TRANSPORT</th>\n",
       "      <th>...</th>\n",
       "      <th>PREP_STUDY</th>\n",
       "      <th>PREP_EXAM</th>\n",
       "      <th>NOTES</th>\n",
       "      <th>LISTENS</th>\n",
       "      <th>LIKES_DISCUSS</th>\n",
       "      <th>CLASSROOM</th>\n",
       "      <th>CUML_GPA</th>\n",
       "      <th>EXP_GPA</th>\n",
       "      <th>COURSE ID</th>\n",
       "      <th>GRADE</th>\n",
       "    </tr>\n",
       "  </thead>\n",
       "  <tbody>\n",
       "    <tr>\n",
       "      <th>0</th>\n",
       "      <td>STUDENT1</td>\n",
       "      <td>2</td>\n",
       "      <td>2</td>\n",
       "      <td>3</td>\n",
       "      <td>3</td>\n",
       "      <td>1</td>\n",
       "      <td>2</td>\n",
       "      <td>2</td>\n",
       "      <td>1</td>\n",
       "      <td>1</td>\n",
       "      <td>...</td>\n",
       "      <td>1</td>\n",
       "      <td>1</td>\n",
       "      <td>3</td>\n",
       "      <td>2</td>\n",
       "      <td>1</td>\n",
       "      <td>2</td>\n",
       "      <td>1</td>\n",
       "      <td>1</td>\n",
       "      <td>1</td>\n",
       "      <td>1</td>\n",
       "    </tr>\n",
       "    <tr>\n",
       "      <th>1</th>\n",
       "      <td>STUDENT2</td>\n",
       "      <td>2</td>\n",
       "      <td>2</td>\n",
       "      <td>3</td>\n",
       "      <td>3</td>\n",
       "      <td>1</td>\n",
       "      <td>2</td>\n",
       "      <td>2</td>\n",
       "      <td>1</td>\n",
       "      <td>1</td>\n",
       "      <td>...</td>\n",
       "      <td>1</td>\n",
       "      <td>1</td>\n",
       "      <td>3</td>\n",
       "      <td>2</td>\n",
       "      <td>3</td>\n",
       "      <td>2</td>\n",
       "      <td>2</td>\n",
       "      <td>3</td>\n",
       "      <td>1</td>\n",
       "      <td>1</td>\n",
       "    </tr>\n",
       "    <tr>\n",
       "      <th>2</th>\n",
       "      <td>STUDENT3</td>\n",
       "      <td>2</td>\n",
       "      <td>2</td>\n",
       "      <td>2</td>\n",
       "      <td>3</td>\n",
       "      <td>2</td>\n",
       "      <td>2</td>\n",
       "      <td>2</td>\n",
       "      <td>2</td>\n",
       "      <td>4</td>\n",
       "      <td>...</td>\n",
       "      <td>1</td>\n",
       "      <td>1</td>\n",
       "      <td>2</td>\n",
       "      <td>2</td>\n",
       "      <td>1</td>\n",
       "      <td>1</td>\n",
       "      <td>2</td>\n",
       "      <td>2</td>\n",
       "      <td>1</td>\n",
       "      <td>1</td>\n",
       "    </tr>\n",
       "    <tr>\n",
       "      <th>3</th>\n",
       "      <td>STUDENT4</td>\n",
       "      <td>1</td>\n",
       "      <td>1</td>\n",
       "      <td>1</td>\n",
       "      <td>3</td>\n",
       "      <td>1</td>\n",
       "      <td>2</td>\n",
       "      <td>1</td>\n",
       "      <td>2</td>\n",
       "      <td>1</td>\n",
       "      <td>...</td>\n",
       "      <td>1</td>\n",
       "      <td>2</td>\n",
       "      <td>3</td>\n",
       "      <td>2</td>\n",
       "      <td>2</td>\n",
       "      <td>1</td>\n",
       "      <td>3</td>\n",
       "      <td>2</td>\n",
       "      <td>1</td>\n",
       "      <td>1</td>\n",
       "    </tr>\n",
       "    <tr>\n",
       "      <th>4</th>\n",
       "      <td>STUDENT5</td>\n",
       "      <td>2</td>\n",
       "      <td>2</td>\n",
       "      <td>1</td>\n",
       "      <td>3</td>\n",
       "      <td>2</td>\n",
       "      <td>2</td>\n",
       "      <td>1</td>\n",
       "      <td>3</td>\n",
       "      <td>1</td>\n",
       "      <td>...</td>\n",
       "      <td>2</td>\n",
       "      <td>1</td>\n",
       "      <td>2</td>\n",
       "      <td>2</td>\n",
       "      <td>2</td>\n",
       "      <td>1</td>\n",
       "      <td>2</td>\n",
       "      <td>2</td>\n",
       "      <td>1</td>\n",
       "      <td>1</td>\n",
       "    </tr>\n",
       "  </tbody>\n",
       "</table>\n",
       "<p>5 rows × 33 columns</p>\n",
       "</div>"
      ],
      "text/plain": [
       "  STUDENTID  AGE  GENDER  HS_TYPE  SCHOLARSHIP  WORK  ACTIVITY  PARTNER  \\\n",
       "0  STUDENT1    2       2        3            3     1         2        2   \n",
       "1  STUDENT2    2       2        3            3     1         2        2   \n",
       "2  STUDENT3    2       2        2            3     2         2        2   \n",
       "3  STUDENT4    1       1        1            3     1         2        1   \n",
       "4  STUDENT5    2       2        1            3     2         2        1   \n",
       "\n",
       "   SALARY  TRANSPORT  ...  PREP_STUDY  PREP_EXAM  NOTES  LISTENS  \\\n",
       "0       1          1  ...           1          1      3        2   \n",
       "1       1          1  ...           1          1      3        2   \n",
       "2       2          4  ...           1          1      2        2   \n",
       "3       2          1  ...           1          2      3        2   \n",
       "4       3          1  ...           2          1      2        2   \n",
       "\n",
       "   LIKES_DISCUSS  CLASSROOM  CUML_GPA  EXP_GPA  COURSE ID  GRADE  \n",
       "0              1          2         1        1          1      1  \n",
       "1              3          2         2        3          1      1  \n",
       "2              1          1         2        2          1      1  \n",
       "3              2          1         3        2          1      1  \n",
       "4              2          1         2        2          1      1  \n",
       "\n",
       "[5 rows x 33 columns]"
      ]
     },
     "execution_count": 3,
     "metadata": {},
     "output_type": "execute_result"
    }
   ],
   "source": [
    "dstudent = pd.read_csv('student_prediction.csv')\n",
    "dstudent.head()"
   ]
  },
  {
   "cell_type": "markdown",
   "id": "7c8594fb",
   "metadata": {},
   "source": [
    "> **1 [A]** - Faça o pré-processamento dos dados (limpeza, engenharia de variáveis, etc) e deixe os seus dados preparados para aplicar o modelo.<br>\n"
   ]
  },
  {
   "cell_type": "markdown",
   "id": "41ee7d86",
   "metadata": {},
   "source": [
    ">> **[#] Pré-processamento**"
   ]
  },
  {
   "cell_type": "markdown",
   "id": "a405f654",
   "metadata": {},
   "source": [
    "> **1 [B]** - Faça uma análise exploratória dos dados de saída, utilizando box plot, mostrando a aplicação de técnicas de under ou oversampling para que as classes tenham o mesmo tamanho. <br>"
   ]
  },
  {
   "cell_type": "markdown",
   "id": "1a998cb4",
   "metadata": {},
   "source": [
    "> **1 [C]** - Utilize a biblioteca AUTOML para fazer a previsão. Para o melhor algoritmo, teste 3 variações de um dos seus hiperparâmetros. <br>\n"
   ]
  },
  {
   "cell_type": "markdown",
   "id": "59421aa4",
   "metadata": {},
   "source": [
    "> **1 [D]** - Para avaliar os resultados, utilize e explique a matriz de confusão. Além disso, escolha 2 métricas de sua preferência e o que o seu resultado significa. <br>"
   ]
  },
  {
   "cell_type": "markdown",
   "id": "68eaacfa",
   "metadata": {},
   "source": [
    "**2 -** Utilize a mesma base de dados (lembrem de tirar o rótulo, obviamente) da questão anterior de forma que:"
   ]
  },
  {
   "cell_type": "markdown",
   "id": "2380e88f",
   "metadata": {},
   "source": [
    "> **2 [A]** - Execute o K-means e Hierárquico. <br>"
   ]
  },
  {
   "cell_type": "markdown",
   "id": "bd7a0e75",
   "metadata": {},
   "source": [
    "> **2 [B]** - Teste o K igual à 5 e 7. <br>"
   ]
  },
  {
   "cell_type": "markdown",
   "id": "ffa6fda7",
   "metadata": {},
   "source": [
    "> **2 [C]** - Na execução do Hierárquico, varie 2 métodos do linkage. <br>"
   ]
  },
  {
   "cell_type": "markdown",
   "id": "4e8d68c7",
   "metadata": {},
   "source": [
    "> **2 [D]** - Por fim, faça uma comparação entre os 2 resultados das execuções anteriores e adote uma medida de avaliação própria para clusterização. <br>"
   ]
  },
  {
   "cell_type": "markdown",
   "id": "1bde6fab",
   "metadata": {},
   "source": [
    "**BÔNUS** - Diga vantagens e desvantagens do uso do AUTOML e como você faria para usá-lo, garantindo os melhores resultados possíveis. <br>"
   ]
  },
  {
   "cell_type": "markdown",
   "id": "be5aaa51",
   "metadata": {},
   "source": [
    "***"
   ]
  },
  {
   "cell_type": "code",
   "execution_count": null,
   "id": "e9f3bf81",
   "metadata": {},
   "outputs": [],
   "source": [
    "#!pip3 install math\n",
    "#!pip3 install matplotlib\n",
    "#!pip3 install pandas\n",
    "#!pip3 install seaborn\n",
    "#!pip3 install statistics \n",
    "#!pip3 install sklearn"
   ]
  }
 ],
 "metadata": {
  "interpreter": {
   "hash": "596669af65aff77b5b98216201c4001fcb9251ba9b7d60d973884a458ae9bac0"
  },
  "kernelspec": {
   "display_name": "Python 3.9.5 ('base')",
   "language": "python",
   "name": "python3"
  },
  "language_info": {
   "codemirror_mode": {
    "name": "ipython",
    "version": 3
   },
   "file_extension": ".py",
   "mimetype": "text/x-python",
   "name": "python",
   "nbconvert_exporter": "python",
   "pygments_lexer": "ipython3",
   "version": "3.9.5"
  }
 },
 "nbformat": 4,
 "nbformat_minor": 5
}
