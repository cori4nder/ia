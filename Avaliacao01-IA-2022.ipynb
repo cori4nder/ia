{
 "cells": [
  {
   "cell_type": "markdown",
   "id": "2fecce09-b387-46c7-bd88-75196508f194",
   "metadata": {},
   "source": [
    "## <center> Prova [01] - Inteligência Artificial / UFPB - 2021.2 </center>\n",
    "**Discente:** Lucas Gomes Dantas <br>\n",
    "**Matrícula:** 20200082925 <br>\n",
    "**Dataset:** https://"
   ]
  },
  {
   "cell_type": "markdown",
   "id": "d56ebe78",
   "metadata": {},
   "source": [
    "***"
   ]
  },
  {
   "cell_type": "markdown",
   "id": "b7c4710b",
   "metadata": {},
   "source": [
    "\n",
    "**1 - (1 pt.)** Para cada um dos agentes a seguir, desenvolva uma descrição completando a tabela abaixo sobre o ambiente de tarefas de cada um. <br>\n",
    "\n",
    "> [A] Agente comentarista de jogo - League of Legends. <br> <br>\n",
    "> [A] Agente sugestor de vinho. <br> <br>\n",
    "> [C] Agente treinador de time - Basquete.\n"
   ]
  },
  {
   "cell_type": "markdown",
   "id": "2e2bcd7e",
   "metadata": {},
   "source": [
    "|Agente| Medida de Desempenho | Ambiente | Atuadores | Sensores |\n",
    "| :- | :- | :- | :- | :- |\n",
    "| [A] | Ações geradas pelos jogadores com seus respectivos champs (campeões, personagens), pontuação correta, minimizar tempo de geração de relatório (comentário).  | Engine/platarforma que suporta o game, mapa, campeões (personagens). | Exibir dados de desempenho, diagnóstico de comportamento durante e pós partida,  indicação de bons comportamentos ao finalizar a sessão. | Entrada de dados pela própria engine (tempo de execução de uma habilidade, tempo de recarga de habilidade), percepção de pixels e entrada de ações geradas pelo teclado dos jogadores durante a sessão. |\n",
    "| [B] | Atende as características que o consumidor assume como um bom vinho. | Bares, adegas, restaurantes, pessoas. | Apresenta as categorias dos vinhos, seus tipos, aromas, precificação e datação. | Entrada através do teclado, tela (terminal visual), descobertas e respostas de apreciadores de vinho (dados e especificações características). |\n",
    "| [C] | Incrementa o desempenho dos jogadores em partidas, gera profusão nos resultados das partidas. | Time de basquete, ambiente de treinamento, jogadores. | Apresentar dados físicos individuais por jogador, aferir velocidade, altura do salto, sugestões de treinamento individual e em time, correções de comportamento durante os tempos. | Sensor visual (câmera); sensor de batimento cardíaco, oxigênio e água; entrada pelo teclado para informações físicas, respostas dos jogadores. |"
   ]
  },
  {
   "cell_type": "markdown",
   "id": "c5012040",
   "metadata": {},
   "source": [
    "**2 - (2 pts.)** Diferencie os 4 tipos de aprendizado de máquina. Para tanto, escolha uma base de dados do Kaggle e explique como aplicar os 4 métodos nessa mesma base. "
   ]
  },
  {
   "cell_type": "markdown",
   "id": "99bd6bc7",
   "metadata": {},
   "source": [
    "|Aprendizado de Máquina||\n",
    "| :- | :- |\n",
    "| Supervisionado | #### |\n",
    "| Não-supervisonado | #### |\n",
    "| Semi-supervisionado | #### |\n",
    "| Reforço | #### |\n"
   ]
  },
  {
   "cell_type": "markdown",
   "id": "dab3435c",
   "metadata": {},
   "source": [
    "**3 - (5 pts.)** Em um Jupyter Notebook (link do collab, GitHub ou arquivo), utilize o método K vizinhos mais próximos na base escolhida na questão anterior para um contexto SUPERVISIONADO e para classificação:"
   ]
  },
  {
   "cell_type": "markdown",
   "id": "423c162e",
   "metadata": {},
   "source": [
    "> **[*] Ambiente e Dependências**"
   ]
  },
  {
   "cell_type": "code",
   "execution_count": null,
   "id": "2c2e15dc",
   "metadata": {},
   "outputs": [],
   "source": []
  },
  {
   "cell_type": "markdown",
   "id": "ae6d23e7",
   "metadata": {},
   "source": [
    "> **[#] Dataset**"
   ]
  },
  {
   "cell_type": "code",
   "execution_count": null,
   "id": "9d50513d",
   "metadata": {},
   "outputs": [],
   "source": []
  },
  {
   "cell_type": "markdown",
   "id": "41ee7d86",
   "metadata": {},
   "source": [
    "> **[#] Pré-processamento**"
   ]
  },
  {
   "cell_type": "code",
   "execution_count": null,
   "id": "8a97d631",
   "metadata": {},
   "outputs": [],
   "source": []
  },
  {
   "cell_type": "markdown",
   "id": "ec48c7e2",
   "metadata": {},
   "source": [
    "> **[#] Funções auxiliares**"
   ]
  },
  {
   "cell_type": "code",
   "execution_count": null,
   "id": "24a0de3a",
   "metadata": {},
   "outputs": [],
   "source": []
  },
  {
   "cell_type": "markdown",
   "id": "4f63f5dc",
   "metadata": {},
   "source": [
    "***"
   ]
  },
  {
   "cell_type": "markdown",
   "id": "8730882e",
   "metadata": {},
   "source": [
    "> **[3.1]** Aplique processos de pré-processamento e os necessários para execução do método K-NN. "
   ]
  },
  {
   "cell_type": "code",
   "execution_count": null,
   "id": "3410e165",
   "metadata": {},
   "outputs": [],
   "source": []
  },
  {
   "cell_type": "markdown",
   "id": "95d7b2ab",
   "metadata": {},
   "source": [
    "> **[3.2]** Aplique correlação ou PCA e selecione um número menor de atributos com esses métodos e justifique sua decisão. "
   ]
  },
  {
   "cell_type": "code",
   "execution_count": null,
   "id": "01f31ddd",
   "metadata": {},
   "outputs": [],
   "source": []
  },
  {
   "cell_type": "markdown",
   "id": "a158371f",
   "metadata": {},
   "source": [
    "> **[3.3]** Escolha 5 valores de K e mostre os resultados (escolha 3 métricas de avaliação e mostre a matriz de confusão) e explique os resultados encontrados. "
   ]
  },
  {
   "cell_type": "code",
   "execution_count": null,
   "id": "04a4430b",
   "metadata": {},
   "outputs": [],
   "source": []
  },
  {
   "cell_type": "markdown",
   "id": "e54d9980",
   "metadata": {},
   "source": [
    "> **[3.4]** Escolha 2 métricas de similaridade (diferentes distâncias ou outras métricas - correlação, por exemplo) para definir o(s) vizinho(s) mais próximos e explique os resultados encontrados. "
   ]
  },
  {
   "cell_type": "code",
   "execution_count": null,
   "id": "277f16d4",
   "metadata": {},
   "outputs": [],
   "source": []
  },
  {
   "cell_type": "markdown",
   "id": "220b3818",
   "metadata": {},
   "source": [
    "> **[3.5]** Melhor K e melhor distância e testar com o conjunto de atributos do item 2."
   ]
  },
  {
   "cell_type": "markdown",
   "id": "0c574c82",
   "metadata": {},
   "source": [
    "**4 - (2 pts)** Considerando a matriz de confusão abaixo, quais são os valores das métricas listadas abaixo?"
   ]
  },
  {
   "cell_type": "markdown",
   "id": "765c7525",
   "metadata": {},
   "source": [
    "|| CLASSE VERDADEIRA | C. V. | C. V. | C. V. | C. V. |  |\n",
    "| :- | :- | :- | :- | :- | :- | :- |\n",
    "| | *CLASSES* | Maçã | Laranja | Limão | Manga | Total |\n",
    "| | | | | | |\n",
    "| **CLASSE PREDITA** | Maçã | 70 | 20 | 5 | 5 | 100 | \n",
    "| C. P. | Laranja | 10 | 67 | 3 | 20 | 100\n",
    "| C. P. | Limão | 5 | 30 | 55 | 10 | 100 |\n",
    "| C. P. | Manga | 5 | 4 | 2 | 1.000 | 1.011 |\n",
    "| |\n",
    "| | Total | 90 | 121 | 65 | 1.035 | 2.622 |"
   ]
  },
  {
   "cell_type": "markdown",
   "id": "afff2e45",
   "metadata": {},
   "source": [
    "> **[*] Ambiente e Dependências**"
   ]
  },
  {
   "cell_type": "code",
   "execution_count": 8,
   "id": "0e0d9900",
   "metadata": {},
   "outputs": [],
   "source": [
    "import math \n",
    "import numpy as np\n",
    "import pandas as pd\n",
    "import matplotlib.pyplot as plt\n",
    "import seaborn as sn\n",
    "\n",
    "from scipy.integrate import simps, trapz"
   ]
  },
  {
   "cell_type": "markdown",
   "id": "9b8e689b",
   "metadata": {},
   "source": [
    "> **[#] Funções auxiliares**"
   ]
  },
  {
   "cell_type": "code",
   "execution_count": 2,
   "id": "b74dadca",
   "metadata": {},
   "outputs": [],
   "source": [
    "def sensibilidade(fruta: dict[str, int]): ## Sensibilidade - VP / (VP + FN)\n",
    "  return fruta[\"vp\"] / (fruta[\"vp\"] + fruta[\"fn\"])\n",
    "\n",
    "def especificidade(fruta: dict[str, int]): ## Especificidade - VN / (VN + FP)\n",
    "  return fruta[\"vn\"] / (fruta[\"vn\"] + fruta[\"fp\"])\n",
    "\n",
    "def precisao(fruta: dict[str, int]): ## Precisão - VP / (VP + FP)\n",
    "  return fruta[\"vp\"] / (fruta[\"vp\"] + fruta[\"fp\"])\n",
    "\n",
    "def f1(precisao, sensibilidade): ## F1 = (2 * Precisão * Sensibilidade) / (Precisão + Sensibilidade)\n",
    "  return (2 * precisao * sensibilidade) / (precisao + sensibilidade)\n",
    "\n",
    "def acuracia(fruta: dict[str, int]): ## Acurácia = (VN + VP) / (VP + FN + VN + FP)\n",
    "  return (fruta[\"vn\"] + fruta[\"vp\"]) / (fruta[\"vp\"] + fruta[\"fn\"] + fruta[\"vn\"] + fruta[\"fp\"])   \n",
    "\n",
    "def phi(fruta: dict[str, int]):  ## Coeficiente de Correlação de Matthews (phi) = (VP * VN – FP * FN) / sqrt((VP + FP) * (VP + FN) * (VN + FP) * (VN + FN))\n",
    "  return (((fruta[\"vp\"] * fruta[\"vn\"]) - (fruta[\"fp\"] + fruta[\"fn\"])) / math.sqrt((fruta[\"vp\"] + fruta[\"fp\"]) * (fruta[\"vp\"] + fruta[\"fn\"]) * (fruta[\"vn\"] + fruta[\"fp\"]) * (fruta[\"vn\"] + fruta[\"fn\"])))\n",
    "\n",
    "def tpr(fruta: dict[str, int]): ## True Positive Rate - Taxa de Verdadeiro Positivo = (VP / (VP + FN))\n",
    "  return fruta[\"vp\"] / (fruta[\"vp\"] + fruta[\"fn\"])\n",
    "\n",
    "def fpr(fruta: dict[str, int]): ## False Positive Rate - Taxa de Falso Positivo = (FP / (VN + FP))\n",
    "  return fruta[\"fp\"] / (fruta[\"vn\"] + fruta[\"fp\"])"
   ]
  },
  {
   "cell_type": "markdown",
   "id": "ab9da7b3",
   "metadata": {},
   "source": [
    "> **[#] Convertendo Planilha** "
   ]
  },
  {
   "cell_type": "code",
   "execution_count": 3,
   "id": "5f5b98c6",
   "metadata": {},
   "outputs": [
    {
     "data": {
      "image/png": "[encoded data removed]",
      "text/plain": [
       "<Figure size 432x288 with 2 Axes>"
      ]
     },
     "metadata": {
      "needs_background": "light"
     },
     "output_type": "display_data"
    }
   ],
   "source": [
    "conf_arr = np.array([[70, 20, 5, 5], [10, 67, 3, 20], [5, 30, 55, 10], [5, 4, 2, 1000]])\n",
    "sum = conf_arr.sum()\n",
    "\n",
    "df_cm = pd.DataFrame(conf_arr, index = ['Maçã', 'Laranja', 'Limão', 'Manga'], columns = ['Maçã', 'Laranja', 'Limão', 'Manga'])\n",
    "\n",
    "res = sn.heatmap(df_cm, annot = True, vmin = 0.0, vmax = 100.0, cmap = plt.cm.Blues, fmt = 'g')\n",
    "\n",
    "plt.yticks([0.5, 1.5, 2.5, 3.5], ['Maçã', 'Laranja', 'Limão', 'Manga'], va = 'center')\n",
    "plt.title('Matriz de Confusão - Prova IA')\n",
    "plt.show()"
   ]
  },
  {
   "cell_type": "markdown",
   "id": "cad79b0d",
   "metadata": {},
   "source": [
    "> **[#] Dados** "
   ]
  },
  {
   "cell_type": "code",
   "execution_count": 4,
   "id": "d92611e4",
   "metadata": {},
   "outputs": [],
   "source": [
    "# Frutas\n",
    "maca = {\"vp\":70, \"fp\":(20 + 5 + 5), \"fn\":(10 + 5 + 5), \"vn\":(67 + 55 + 1000)}\n",
    "laranja = {\"vp\":67, \"fp\":(10 + 3 + 20), \"fn\":(20 + 30 + 4), \"vn\":(70 + 55 + 1000)}\n",
    "limao = {\"vp\":55, \"fp\":(5 + 30 + 10), \"fn\":(5 + 3 + 2), \"vn\":(70 + 67 + 1000)}\n",
    "manga = {\"vp\":1000, \"fp\":(5 + 4 + 2), \"fn\":(5 + 20 + 10 ), \"vn\":(70 + 67 + 55)}"
   ]
  },
  {
   "cell_type": "code",
   "execution_count": 5,
   "id": "e12901d4",
   "metadata": {},
   "outputs": [],
   "source": [
    "# Métricas\n",
    "sensibilidade = (sensibilidade(maca) + sensibilidade(laranja) + sensibilidade(limao) + sensibilidade(manga)) / 4\n",
    "especificidade = (especificidade(maca) + especificidade(laranja) + especificidade(limao) + especificidade(manga)) / 4\n",
    "precisao = (precisao(maca) + precisao(laranja) + precisao(limao) + precisao(manga)) / 4 \n",
    "f1 = f1(precisao, sensibilidade)\n",
    "acuracia = (acuracia(maca) + acuracia(laranja) + acuracia(limao) + acuracia(manga)) / 4 \n",
    "phi = (phi(maca) + phi(laranja) + phi(limao) + phi(manga)) / 4 \n",
    "\n",
    "# ROC - AUC\n",
    "tpr = (tpr(maca) + tpr(laranja) + tpr(limao) + tpr(manga)) / 4 \n",
    "fpr = (fpr(maca) + fpr(laranja) + fpr(limao) + fpr(manga)) / 4 "
   ]
  },
  {
   "cell_type": "markdown",
   "id": "def5bfc0",
   "metadata": {},
   "source": [
    "> **[#] Métricas - Matriz de Confusão** "
   ]
  },
  {
   "cell_type": "code",
   "execution_count": 29,
   "id": "81fc8173",
   "metadata": {},
   "outputs": [
    {
     "name": "stdout",
     "output_type": "stream",
     "text": [
      "Sensibilidade = 0.79\n",
      "Especificidade = 0.96\n",
      "Precisão = 0.73\n",
      "Medida F1 = 0.76\n",
      "Acurácia = 0.95\n",
      "Coeficiente de Matthews = 0.71\n"
     ]
    }
   ],
   "source": [
    "print(f'Sensibilidade = {sensibilidade:.2f}')\n",
    "print(f'Especificidade = {especificidade:.2f}')\n",
    "print(f'Precisão = {precisao:.2f}')\n",
    "print(f'Medida F1 = {f1:.2f}')\n",
    "print(f'Acurácia = {acuracia:.2f}')\n",
    "print(f'Coeficiente de Matthews = {phi:.2f}')"
   ]
  },
  {
   "cell_type": "markdown",
   "id": "b911e25d",
   "metadata": {},
   "source": [
    "> **[*] AUC**"
   ]
  },
  {
   "cell_type": "code",
   "execution_count": 7,
   "id": "a3e7fa44",
   "metadata": {},
   "outputs": [
    {
     "name": "stdout",
     "output_type": "stream",
     "text": [
      "Taxa de verdadeiro positivo = 0.79\n",
      "Taxa de falso positivo = 0.04\n"
     ]
    }
   ],
   "source": [
    "print(f'Taxa de verdadeiro positivo = {tpr:.2f}')\n",
    "print(f'Taxa de falso positivo = {fpr:.2f}')"
   ]
  },
  {
   "cell_type": "code",
   "execution_count": 28,
   "metadata": {},
   "outputs": [
    {
     "name": "stdout",
     "output_type": "stream",
     "text": [
      "Area Under a Curve - AUC = 0.87\n"
     ]
    }
   ],
   "source": [
    "x = (0, tpr, 1)\n",
    "y = (0, fpr, 1)\n",
    "\n",
    "auc = trapz(x, y)\n",
    "\n",
    "print(f'Area Under The Curve - AUC = {auc:.2f}')"
   ]
  },
  {
   "cell_type": "markdown",
   "id": "8424c043",
   "metadata": {},
   "source": [
    "> **[*] Como você resolveria o problema dessa base de dados observando as métricas de avaliação?**\n",
    "\n",
    "###################"
   ]
  },
  {
   "cell_type": "markdown",
   "id": "4bc7e9fc",
   "metadata": {},
   "source": [
    "**5* - (Extra ++)** Elabore uma pergunta e responda sobre \"Preconceito e Inteligência Artificial\", refletindo aspectos importantes do método que uma pessoa engenheiro de dados/cientista de dados deve conhecer e se preocupar garantindo ética nos modelos criados."
   ]
  },
  {
   "cell_type": "markdown",
   "id": "be5aaa51",
   "metadata": {},
   "source": [
    "***"
   ]
  },
  {
   "cell_type": "code",
   "execution_count": 21,
   "id": "e9f3bf81",
   "metadata": {},
   "outputs": [],
   "source": [
    "#!pip3 install math\n",
    "#!pip3 install matplotlib\n",
    "#!pip3 install pandas\n",
    "#!pip3 install seaborn\n",
    "#!pip3 install statistics \n",
    "#!pip3 install sklearn"
   ]
  }
 ],
 "metadata": {
  "kernelspec": {
   "display_name": "Python 3 (ipykernel)",
   "language": "python",
   "name": "python3"
  },
  "language_info": {
   "codemirror_mode": {
    "name": "ipython",
    "version": 3
   },
   "file_extension": ".py",
   "mimetype": "text/x-python",
   "name": "python",
   "nbconvert_exporter": "python",
   "pygments_lexer": "ipython3",
   "version": "3.9.5"
  }
 },
 "nbformat": 4,
 "nbformat_minor": 5
}
