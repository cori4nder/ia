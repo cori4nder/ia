{
 "cells": [
  {
   "cell_type": "markdown",
   "id": "2fecce09-b387-46c7-bd88-75196508f194",
   "metadata": {},
   "source": [
    "## <center> Prova [01] - Inteligência Artificial / UFPB - 2021.2 </center>\n",
    "**Discente:** Lucas Gomes Dantas <br>\n",
    "**Matrícula:** 20200082925 <br>\n",
    "**Dataset:** <a href=\"https://www.kaggle.com/datasets/bobbyscience/league-of-legends-diamond-ranked-games-10-min\">League of Legends - Diamond Ranked Games 10 min</a>\n"
   ]
  },
  {
   "cell_type": "markdown",
   "id": "d56ebe78",
   "metadata": {},
   "source": [
    "***"
   ]
  },
  {
   "cell_type": "markdown",
   "id": "b7c4710b",
   "metadata": {},
   "source": [
    "\n",
    "**1 - (1 pt.)** Para cada um dos agentes a seguir, desenvolva uma descrição completando a tabela abaixo sobre o ambiente de tarefas de cada um. <br>\n",
    "\n",
    "> [A] Agente comentarista de jogo - League of Legends. <br> <br>\n",
    "> [A] Agente sugestor de vinho. <br> <br>\n",
    "> [C] Agente treinador de time - Basquete.\n"
   ]
  },
  {
   "cell_type": "markdown",
   "id": "2e2bcd7e",
   "metadata": {},
   "source": [
    "|Agente| Medida de Desempenho | Ambiente | Atuadores | Sensores |\n",
    "| :- | :- | :- | :- | :- |\n",
    "| [A] | Ações geradas pelos jogadores com seus respectivos champs (campeões, personagens), pontuação correta, minimizar tempo de geração de relatório (comentário).  | Engine/platarforma que suporta o game, mapa, campeões (personagens). | Exibir dados de desempenho, diagnóstico de comportamento durante e pós partida,  indicação de bons comportamentos ao finalizar a sessão. | Entrada de dados pela própria engine (tempo de execução de uma habilidade, tempo de recarga de habilidade), percepção de pixels e entrada de ações geradas pelo teclado dos jogadores durante a sessão. |\n",
    "| [B] | Atende as características que o consumidor assume como um bom vinho. | Bares, adegas, restaurantes, pessoas. | Apresenta as categorias dos vinhos, seus tipos, aromas, precificação e datação. | Entrada através do teclado, tela (terminal visual), descobertas e respostas de apreciadores de vinho (dados e especificações características). |\n",
    "| [C] | Incrementa o desempenho dos jogadores em partidas, gera profusão nos resultados das partidas. | Time de basquete, ambiente de treinamento, jogadores. | Apresentar dados físicos individuais por jogador, aferir velocidade, altura do salto, sugestões de treinamento individual e em time, correções de comportamento durante os tempos. | Sensor visual (câmera); sensor de batimento cardíaco, oxigênio e água; entrada pelo teclado para informações físicas, respostas dos jogadores. |"
   ]
  },
  {
   "cell_type": "markdown",
   "id": "c5012040",
   "metadata": {},
   "source": [
    "**2 - (2 pts.)** Diferencie os 4 tipos de aprendizado de máquina. Para tanto, escolha uma base de dados do Kaggle e explique como aplicar os 4 métodos nessa mesma base. "
   ]
  },
  {
   "cell_type": "markdown",
   "id": "99bd6bc7",
   "metadata": {},
   "source": [
    "|Aprendizado de Máquina||\n",
    "| :- | :- |\n",
    "| Supervisionado | #### |\n",
    "| Não-supervisonado | #### |\n",
    "| Semi-supervisionado | #### |\n",
    "| Reforço | #### |\n"
   ]
  },
  {
   "cell_type": "markdown",
   "id": "dab3435c",
   "metadata": {},
   "source": [
    "**3 - (5 pts.)** Em um Jupyter Notebook (link do collab, GitHub ou arquivo), utilize o método K vizinhos mais próximos na base escolhida na questão anterior para um contexto SUPERVISIONADO e para classificação:"
   ]
  },
  {
   "cell_type": "markdown",
   "id": "423c162e",
   "metadata": {},
   "source": [
    "> **[*] Ambiente e Dependências**"
   ]
  },
  {
   "cell_type": "code",
   "execution_count": 23,
   "id": "2c2e15dc",
   "metadata": {},
   "outputs": [],
   "source": [
    "from statistics import mode\n",
    "\n",
    "import pandas as pd\n",
    "import numpy as np\n",
    "import matplotlib.pyplot as plt\n",
    "import seaborn as sns\n",
    "\n",
    "from sklearn.decomposition import PCA\n",
    "from sklearn.preprocessing import LabelEncoder, RobustScaler\n",
    "from sklearn.model_selection import train_test_split\n",
    "from sklearn.neighbors import KNeighborsClassifier, KNeighborsRegressor\n",
    "from sklearn.metrics import (accuracy_score, precision_score, recall_score, confusion_matrix, r2_score, mean_squared_error, mean_absolute_error)"
   ]
  },
  {
   "cell_type": "markdown",
   "id": "ae6d23e7",
   "metadata": {},
   "source": [
    "> **[#] Dataset**"
   ]
  },
  {
   "cell_type": "code",
   "execution_count": 3,
   "id": "9d50513d",
   "metadata": {},
   "outputs": [
    {
     "data": {
      "text/html": [
       "<div>\n",
       "<style scoped>\n",
       "    .dataframe tbody tr th:only-of-type {\n",
       "        vertical-align: middle;\n",
       "    }\n",
       "\n",
       "    .dataframe tbody tr th {\n",
       "        vertical-align: top;\n",
       "    }\n",
       "\n",
       "    .dataframe thead th {\n",
       "        text-align: right;\n",
       "    }\n",
       "</style>\n",
       "<table border=\"1\" class=\"dataframe\">\n",
       "  <thead>\n",
       "    <tr style=\"text-align: right;\">\n",
       "      <th></th>\n",
       "      <th>gameId</th>\n",
       "      <th>blueWins</th>\n",
       "      <th>blueWardsPlaced</th>\n",
       "      <th>blueWardsDestroyed</th>\n",
       "      <th>blueFirstBlood</th>\n",
       "      <th>blueKills</th>\n",
       "      <th>blueDeaths</th>\n",
       "      <th>blueAssists</th>\n",
       "      <th>blueEliteMonsters</th>\n",
       "      <th>blueDragons</th>\n",
       "      <th>...</th>\n",
       "      <th>redTowersDestroyed</th>\n",
       "      <th>redTotalGold</th>\n",
       "      <th>redAvgLevel</th>\n",
       "      <th>redTotalExperience</th>\n",
       "      <th>redTotalMinionsKilled</th>\n",
       "      <th>redTotalJungleMinionsKilled</th>\n",
       "      <th>redGoldDiff</th>\n",
       "      <th>redExperienceDiff</th>\n",
       "      <th>redCSPerMin</th>\n",
       "      <th>redGoldPerMin</th>\n",
       "    </tr>\n",
       "  </thead>\n",
       "  <tbody>\n",
       "    <tr>\n",
       "      <th>0</th>\n",
       "      <td>4519157822</td>\n",
       "      <td>0</td>\n",
       "      <td>28</td>\n",
       "      <td>2</td>\n",
       "      <td>1</td>\n",
       "      <td>9</td>\n",
       "      <td>6</td>\n",
       "      <td>11</td>\n",
       "      <td>0</td>\n",
       "      <td>0</td>\n",
       "      <td>...</td>\n",
       "      <td>0</td>\n",
       "      <td>16567</td>\n",
       "      <td>6.8</td>\n",
       "      <td>17047</td>\n",
       "      <td>197</td>\n",
       "      <td>55</td>\n",
       "      <td>-643</td>\n",
       "      <td>8</td>\n",
       "      <td>19.7</td>\n",
       "      <td>1656.7</td>\n",
       "    </tr>\n",
       "    <tr>\n",
       "      <th>1</th>\n",
       "      <td>4523371949</td>\n",
       "      <td>0</td>\n",
       "      <td>12</td>\n",
       "      <td>1</td>\n",
       "      <td>0</td>\n",
       "      <td>5</td>\n",
       "      <td>5</td>\n",
       "      <td>5</td>\n",
       "      <td>0</td>\n",
       "      <td>0</td>\n",
       "      <td>...</td>\n",
       "      <td>1</td>\n",
       "      <td>17620</td>\n",
       "      <td>6.8</td>\n",
       "      <td>17438</td>\n",
       "      <td>240</td>\n",
       "      <td>52</td>\n",
       "      <td>2908</td>\n",
       "      <td>1173</td>\n",
       "      <td>24.0</td>\n",
       "      <td>1762.0</td>\n",
       "    </tr>\n",
       "    <tr>\n",
       "      <th>2</th>\n",
       "      <td>4521474530</td>\n",
       "      <td>0</td>\n",
       "      <td>15</td>\n",
       "      <td>0</td>\n",
       "      <td>0</td>\n",
       "      <td>7</td>\n",
       "      <td>11</td>\n",
       "      <td>4</td>\n",
       "      <td>1</td>\n",
       "      <td>1</td>\n",
       "      <td>...</td>\n",
       "      <td>0</td>\n",
       "      <td>17285</td>\n",
       "      <td>6.8</td>\n",
       "      <td>17254</td>\n",
       "      <td>203</td>\n",
       "      <td>28</td>\n",
       "      <td>1172</td>\n",
       "      <td>1033</td>\n",
       "      <td>20.3</td>\n",
       "      <td>1728.5</td>\n",
       "    </tr>\n",
       "    <tr>\n",
       "      <th>3</th>\n",
       "      <td>4524384067</td>\n",
       "      <td>0</td>\n",
       "      <td>43</td>\n",
       "      <td>1</td>\n",
       "      <td>0</td>\n",
       "      <td>4</td>\n",
       "      <td>5</td>\n",
       "      <td>5</td>\n",
       "      <td>1</td>\n",
       "      <td>0</td>\n",
       "      <td>...</td>\n",
       "      <td>0</td>\n",
       "      <td>16478</td>\n",
       "      <td>7.0</td>\n",
       "      <td>17961</td>\n",
       "      <td>235</td>\n",
       "      <td>47</td>\n",
       "      <td>1321</td>\n",
       "      <td>7</td>\n",
       "      <td>23.5</td>\n",
       "      <td>1647.8</td>\n",
       "    </tr>\n",
       "    <tr>\n",
       "      <th>4</th>\n",
       "      <td>4436033771</td>\n",
       "      <td>0</td>\n",
       "      <td>75</td>\n",
       "      <td>4</td>\n",
       "      <td>0</td>\n",
       "      <td>6</td>\n",
       "      <td>6</td>\n",
       "      <td>6</td>\n",
       "      <td>0</td>\n",
       "      <td>0</td>\n",
       "      <td>...</td>\n",
       "      <td>0</td>\n",
       "      <td>17404</td>\n",
       "      <td>7.0</td>\n",
       "      <td>18313</td>\n",
       "      <td>225</td>\n",
       "      <td>67</td>\n",
       "      <td>1004</td>\n",
       "      <td>-230</td>\n",
       "      <td>22.5</td>\n",
       "      <td>1740.4</td>\n",
       "    </tr>\n",
       "  </tbody>\n",
       "</table>\n",
       "<p>5 rows × 40 columns</p>\n",
       "</div>"
      ],
      "text/plain": [
       "       gameId  blueWins  blueWardsPlaced  blueWardsDestroyed  blueFirstBlood  \\\n",
       "0  4519157822         0               28                   2               1   \n",
       "1  4523371949         0               12                   1               0   \n",
       "2  4521474530         0               15                   0               0   \n",
       "3  4524384067         0               43                   1               0   \n",
       "4  4436033771         0               75                   4               0   \n",
       "\n",
       "   blueKills  blueDeaths  blueAssists  blueEliteMonsters  blueDragons  ...  \\\n",
       "0          9           6           11                  0            0  ...   \n",
       "1          5           5            5                  0            0  ...   \n",
       "2          7          11            4                  1            1  ...   \n",
       "3          4           5            5                  1            0  ...   \n",
       "4          6           6            6                  0            0  ...   \n",
       "\n",
       "   redTowersDestroyed  redTotalGold  redAvgLevel  redTotalExperience  \\\n",
       "0                   0         16567          6.8               17047   \n",
       "1                   1         17620          6.8               17438   \n",
       "2                   0         17285          6.8               17254   \n",
       "3                   0         16478          7.0               17961   \n",
       "4                   0         17404          7.0               18313   \n",
       "\n",
       "   redTotalMinionsKilled  redTotalJungleMinionsKilled  redGoldDiff  \\\n",
       "0                    197                           55         -643   \n",
       "1                    240                           52         2908   \n",
       "2                    203                           28         1172   \n",
       "3                    235                           47         1321   \n",
       "4                    225                           67         1004   \n",
       "\n",
       "   redExperienceDiff  redCSPerMin  redGoldPerMin  \n",
       "0                  8         19.7         1656.7  \n",
       "1               1173         24.0         1762.0  \n",
       "2               1033         20.3         1728.5  \n",
       "3                  7         23.5         1647.8  \n",
       "4               -230         22.5         1740.4  \n",
       "\n",
       "[5 rows x 40 columns]"
      ]
     },
     "execution_count": 3,
     "metadata": {},
     "output_type": "execute_result"
    }
   ],
   "source": [
    "wins = pd.read_csv('high_diamond_ranked_10min.csv')\n",
    "wins.head()"
   ]
  },
  {
   "cell_type": "markdown",
   "id": "41ee7d86",
   "metadata": {},
   "source": [
    "> **[#] Pré-processamento**"
   ]
  },
  {
   "cell_type": "code",
   "execution_count": 4,
   "id": "8a97d631",
   "metadata": {},
   "outputs": [
    {
     "name": "stdout",
     "output_type": "stream",
     "text": [
      "<class 'pandas.core.frame.DataFrame'>\n",
      "RangeIndex: 9879 entries, 0 to 9878\n",
      "Data columns (total 40 columns):\n",
      " #   Column                        Non-Null Count  Dtype  \n",
      "---  ------                        --------------  -----  \n",
      " 0   gameId                        9879 non-null   int64  \n",
      " 1   blueWins                      9879 non-null   int64  \n",
      " 2   blueWardsPlaced               9879 non-null   int64  \n",
      " 3   blueWardsDestroyed            9879 non-null   int64  \n",
      " 4   blueFirstBlood                9879 non-null   int64  \n",
      " 5   blueKills                     9879 non-null   int64  \n",
      " 6   blueDeaths                    9879 non-null   int64  \n",
      " 7   blueAssists                   9879 non-null   int64  \n",
      " 8   blueEliteMonsters             9879 non-null   int64  \n",
      " 9   blueDragons                   9879 non-null   int64  \n",
      " 10  blueHeralds                   9879 non-null   int64  \n",
      " 11  blueTowersDestroyed           9879 non-null   int64  \n",
      " 12  blueTotalGold                 9879 non-null   int64  \n",
      " 13  blueAvgLevel                  9879 non-null   float64\n",
      " 14  blueTotalExperience           9879 non-null   int64  \n",
      " 15  blueTotalMinionsKilled        9879 non-null   int64  \n",
      " 16  blueTotalJungleMinionsKilled  9879 non-null   int64  \n",
      " 17  blueGoldDiff                  9879 non-null   int64  \n",
      " 18  blueExperienceDiff            9879 non-null   int64  \n",
      " 19  blueCSPerMin                  9879 non-null   float64\n",
      " 20  blueGoldPerMin                9879 non-null   float64\n",
      " 21  redWardsPlaced                9879 non-null   int64  \n",
      " 22  redWardsDestroyed             9879 non-null   int64  \n",
      " 23  redFirstBlood                 9879 non-null   int64  \n",
      " 24  redKills                      9879 non-null   int64  \n",
      " 25  redDeaths                     9879 non-null   int64  \n",
      " 26  redAssists                    9879 non-null   int64  \n",
      " 27  redEliteMonsters              9879 non-null   int64  \n",
      " 28  redDragons                    9879 non-null   int64  \n",
      " 29  redHeralds                    9879 non-null   int64  \n",
      " 30  redTowersDestroyed            9879 non-null   int64  \n",
      " 31  redTotalGold                  9879 non-null   int64  \n",
      " 32  redAvgLevel                   9879 non-null   float64\n",
      " 33  redTotalExperience            9879 non-null   int64  \n",
      " 34  redTotalMinionsKilled         9879 non-null   int64  \n",
      " 35  redTotalJungleMinionsKilled   9879 non-null   int64  \n",
      " 36  redGoldDiff                   9879 non-null   int64  \n",
      " 37  redExperienceDiff             9879 non-null   int64  \n",
      " 38  redCSPerMin                   9879 non-null   float64\n",
      " 39  redGoldPerMin                 9879 non-null   float64\n",
      "dtypes: float64(6), int64(34)\n",
      "memory usage: 3.0 MB\n"
     ]
    }
   ],
   "source": [
    "wins.info()"
   ]
  },
  {
   "cell_type": "markdown",
   "id": "8214405f",
   "metadata": {},
   "source": [
    ">> É aferida a incidência de apenas valores quantitativos. Cenário ideal para a aplicação na matriz de correlação, PCA e KNN."
   ]
  },
  {
   "cell_type": "code",
   "execution_count": 5,
   "id": "fd87f767",
   "metadata": {},
   "outputs": [
    {
     "data": {
      "text/html": [
       "<div>\n",
       "<style scoped>\n",
       "    .dataframe tbody tr th:only-of-type {\n",
       "        vertical-align: middle;\n",
       "    }\n",
       "\n",
       "    .dataframe tbody tr th {\n",
       "        vertical-align: top;\n",
       "    }\n",
       "\n",
       "    .dataframe thead th {\n",
       "        text-align: right;\n",
       "    }\n",
       "</style>\n",
       "<table border=\"1\" class=\"dataframe\">\n",
       "  <thead>\n",
       "    <tr style=\"text-align: right;\">\n",
       "      <th></th>\n",
       "      <th>gameId</th>\n",
       "      <th>blueWins</th>\n",
       "      <th>blueWardsPlaced</th>\n",
       "      <th>blueWardsDestroyed</th>\n",
       "      <th>blueFirstBlood</th>\n",
       "      <th>blueKills</th>\n",
       "      <th>blueDeaths</th>\n",
       "      <th>blueAssists</th>\n",
       "      <th>blueEliteMonsters</th>\n",
       "      <th>blueDragons</th>\n",
       "      <th>...</th>\n",
       "      <th>redTowersDestroyed</th>\n",
       "      <th>redTotalGold</th>\n",
       "      <th>redAvgLevel</th>\n",
       "      <th>redTotalExperience</th>\n",
       "      <th>redTotalMinionsKilled</th>\n",
       "      <th>redTotalJungleMinionsKilled</th>\n",
       "      <th>redGoldDiff</th>\n",
       "      <th>redExperienceDiff</th>\n",
       "      <th>redCSPerMin</th>\n",
       "      <th>redGoldPerMin</th>\n",
       "    </tr>\n",
       "  </thead>\n",
       "  <tbody>\n",
       "    <tr>\n",
       "      <th>count</th>\n",
       "      <td>9.879000e+03</td>\n",
       "      <td>9879.000000</td>\n",
       "      <td>9879.000000</td>\n",
       "      <td>9879.000000</td>\n",
       "      <td>9879.000000</td>\n",
       "      <td>9879.000000</td>\n",
       "      <td>9879.000000</td>\n",
       "      <td>9879.000000</td>\n",
       "      <td>9879.000000</td>\n",
       "      <td>9879.000000</td>\n",
       "      <td>...</td>\n",
       "      <td>9879.000000</td>\n",
       "      <td>9879.000000</td>\n",
       "      <td>9879.000000</td>\n",
       "      <td>9879.000000</td>\n",
       "      <td>9879.000000</td>\n",
       "      <td>9879.000000</td>\n",
       "      <td>9879.000000</td>\n",
       "      <td>9879.000000</td>\n",
       "      <td>9879.000000</td>\n",
       "      <td>9879.000000</td>\n",
       "    </tr>\n",
       "    <tr>\n",
       "      <th>mean</th>\n",
       "      <td>4.500084e+09</td>\n",
       "      <td>0.499038</td>\n",
       "      <td>22.288288</td>\n",
       "      <td>2.824881</td>\n",
       "      <td>0.504808</td>\n",
       "      <td>6.183925</td>\n",
       "      <td>6.137666</td>\n",
       "      <td>6.645106</td>\n",
       "      <td>0.549954</td>\n",
       "      <td>0.361980</td>\n",
       "      <td>...</td>\n",
       "      <td>0.043021</td>\n",
       "      <td>16489.041401</td>\n",
       "      <td>6.925316</td>\n",
       "      <td>17961.730438</td>\n",
       "      <td>217.349226</td>\n",
       "      <td>51.313088</td>\n",
       "      <td>-14.414111</td>\n",
       "      <td>33.620306</td>\n",
       "      <td>21.734923</td>\n",
       "      <td>1648.904140</td>\n",
       "    </tr>\n",
       "    <tr>\n",
       "      <th>std</th>\n",
       "      <td>2.757328e+07</td>\n",
       "      <td>0.500024</td>\n",
       "      <td>18.019177</td>\n",
       "      <td>2.174998</td>\n",
       "      <td>0.500002</td>\n",
       "      <td>3.011028</td>\n",
       "      <td>2.933818</td>\n",
       "      <td>4.064520</td>\n",
       "      <td>0.625527</td>\n",
       "      <td>0.480597</td>\n",
       "      <td>...</td>\n",
       "      <td>0.216900</td>\n",
       "      <td>1490.888406</td>\n",
       "      <td>0.305311</td>\n",
       "      <td>1198.583912</td>\n",
       "      <td>21.911668</td>\n",
       "      <td>10.027885</td>\n",
       "      <td>2453.349179</td>\n",
       "      <td>1920.370438</td>\n",
       "      <td>2.191167</td>\n",
       "      <td>149.088841</td>\n",
       "    </tr>\n",
       "    <tr>\n",
       "      <th>min</th>\n",
       "      <td>4.295358e+09</td>\n",
       "      <td>0.000000</td>\n",
       "      <td>5.000000</td>\n",
       "      <td>0.000000</td>\n",
       "      <td>0.000000</td>\n",
       "      <td>0.000000</td>\n",
       "      <td>0.000000</td>\n",
       "      <td>0.000000</td>\n",
       "      <td>0.000000</td>\n",
       "      <td>0.000000</td>\n",
       "      <td>...</td>\n",
       "      <td>0.000000</td>\n",
       "      <td>11212.000000</td>\n",
       "      <td>4.800000</td>\n",
       "      <td>10465.000000</td>\n",
       "      <td>107.000000</td>\n",
       "      <td>4.000000</td>\n",
       "      <td>-11467.000000</td>\n",
       "      <td>-8348.000000</td>\n",
       "      <td>10.700000</td>\n",
       "      <td>1121.200000</td>\n",
       "    </tr>\n",
       "    <tr>\n",
       "      <th>25%</th>\n",
       "      <td>4.483301e+09</td>\n",
       "      <td>0.000000</td>\n",
       "      <td>14.000000</td>\n",
       "      <td>1.000000</td>\n",
       "      <td>0.000000</td>\n",
       "      <td>4.000000</td>\n",
       "      <td>4.000000</td>\n",
       "      <td>4.000000</td>\n",
       "      <td>0.000000</td>\n",
       "      <td>0.000000</td>\n",
       "      <td>...</td>\n",
       "      <td>0.000000</td>\n",
       "      <td>15427.500000</td>\n",
       "      <td>6.800000</td>\n",
       "      <td>17209.500000</td>\n",
       "      <td>203.000000</td>\n",
       "      <td>44.000000</td>\n",
       "      <td>-1596.000000</td>\n",
       "      <td>-1212.000000</td>\n",
       "      <td>20.300000</td>\n",
       "      <td>1542.750000</td>\n",
       "    </tr>\n",
       "    <tr>\n",
       "      <th>50%</th>\n",
       "      <td>4.510920e+09</td>\n",
       "      <td>0.000000</td>\n",
       "      <td>16.000000</td>\n",
       "      <td>3.000000</td>\n",
       "      <td>1.000000</td>\n",
       "      <td>6.000000</td>\n",
       "      <td>6.000000</td>\n",
       "      <td>6.000000</td>\n",
       "      <td>0.000000</td>\n",
       "      <td>0.000000</td>\n",
       "      <td>...</td>\n",
       "      <td>0.000000</td>\n",
       "      <td>16378.000000</td>\n",
       "      <td>7.000000</td>\n",
       "      <td>17974.000000</td>\n",
       "      <td>218.000000</td>\n",
       "      <td>51.000000</td>\n",
       "      <td>-14.000000</td>\n",
       "      <td>28.000000</td>\n",
       "      <td>21.800000</td>\n",
       "      <td>1637.800000</td>\n",
       "    </tr>\n",
       "    <tr>\n",
       "      <th>75%</th>\n",
       "      <td>4.521733e+09</td>\n",
       "      <td>1.000000</td>\n",
       "      <td>20.000000</td>\n",
       "      <td>4.000000</td>\n",
       "      <td>1.000000</td>\n",
       "      <td>8.000000</td>\n",
       "      <td>8.000000</td>\n",
       "      <td>9.000000</td>\n",
       "      <td>1.000000</td>\n",
       "      <td>1.000000</td>\n",
       "      <td>...</td>\n",
       "      <td>0.000000</td>\n",
       "      <td>17418.500000</td>\n",
       "      <td>7.200000</td>\n",
       "      <td>18764.500000</td>\n",
       "      <td>233.000000</td>\n",
       "      <td>57.000000</td>\n",
       "      <td>1585.500000</td>\n",
       "      <td>1290.500000</td>\n",
       "      <td>23.300000</td>\n",
       "      <td>1741.850000</td>\n",
       "    </tr>\n",
       "    <tr>\n",
       "      <th>max</th>\n",
       "      <td>4.527991e+09</td>\n",
       "      <td>1.000000</td>\n",
       "      <td>250.000000</td>\n",
       "      <td>27.000000</td>\n",
       "      <td>1.000000</td>\n",
       "      <td>22.000000</td>\n",
       "      <td>22.000000</td>\n",
       "      <td>29.000000</td>\n",
       "      <td>2.000000</td>\n",
       "      <td>1.000000</td>\n",
       "      <td>...</td>\n",
       "      <td>2.000000</td>\n",
       "      <td>22732.000000</td>\n",
       "      <td>8.200000</td>\n",
       "      <td>22269.000000</td>\n",
       "      <td>289.000000</td>\n",
       "      <td>92.000000</td>\n",
       "      <td>10830.000000</td>\n",
       "      <td>9333.000000</td>\n",
       "      <td>28.900000</td>\n",
       "      <td>2273.200000</td>\n",
       "    </tr>\n",
       "  </tbody>\n",
       "</table>\n",
       "<p>8 rows × 40 columns</p>\n",
       "</div>"
      ],
      "text/plain": [
       "             gameId     blueWins  blueWardsPlaced  blueWardsDestroyed  \\\n",
       "count  9.879000e+03  9879.000000      9879.000000         9879.000000   \n",
       "mean   4.500084e+09     0.499038        22.288288            2.824881   \n",
       "std    2.757328e+07     0.500024        18.019177            2.174998   \n",
       "min    4.295358e+09     0.000000         5.000000            0.000000   \n",
       "25%    4.483301e+09     0.000000        14.000000            1.000000   \n",
       "50%    4.510920e+09     0.000000        16.000000            3.000000   \n",
       "75%    4.521733e+09     1.000000        20.000000            4.000000   \n",
       "max    4.527991e+09     1.000000       250.000000           27.000000   \n",
       "\n",
       "       blueFirstBlood    blueKills   blueDeaths  blueAssists  \\\n",
       "count     9879.000000  9879.000000  9879.000000  9879.000000   \n",
       "mean         0.504808     6.183925     6.137666     6.645106   \n",
       "std          0.500002     3.011028     2.933818     4.064520   \n",
       "min          0.000000     0.000000     0.000000     0.000000   \n",
       "25%          0.000000     4.000000     4.000000     4.000000   \n",
       "50%          1.000000     6.000000     6.000000     6.000000   \n",
       "75%          1.000000     8.000000     8.000000     9.000000   \n",
       "max          1.000000    22.000000    22.000000    29.000000   \n",
       "\n",
       "       blueEliteMonsters  blueDragons  ...  redTowersDestroyed  redTotalGold  \\\n",
       "count        9879.000000  9879.000000  ...         9879.000000   9879.000000   \n",
       "mean            0.549954     0.361980  ...            0.043021  16489.041401   \n",
       "std             0.625527     0.480597  ...            0.216900   1490.888406   \n",
       "min             0.000000     0.000000  ...            0.000000  11212.000000   \n",
       "25%             0.000000     0.000000  ...            0.000000  15427.500000   \n",
       "50%             0.000000     0.000000  ...            0.000000  16378.000000   \n",
       "75%             1.000000     1.000000  ...            0.000000  17418.500000   \n",
       "max             2.000000     1.000000  ...            2.000000  22732.000000   \n",
       "\n",
       "       redAvgLevel  redTotalExperience  redTotalMinionsKilled  \\\n",
       "count  9879.000000         9879.000000            9879.000000   \n",
       "mean      6.925316        17961.730438             217.349226   \n",
       "std       0.305311         1198.583912              21.911668   \n",
       "min       4.800000        10465.000000             107.000000   \n",
       "25%       6.800000        17209.500000             203.000000   \n",
       "50%       7.000000        17974.000000             218.000000   \n",
       "75%       7.200000        18764.500000             233.000000   \n",
       "max       8.200000        22269.000000             289.000000   \n",
       "\n",
       "       redTotalJungleMinionsKilled   redGoldDiff  redExperienceDiff  \\\n",
       "count                  9879.000000   9879.000000        9879.000000   \n",
       "mean                     51.313088    -14.414111          33.620306   \n",
       "std                      10.027885   2453.349179        1920.370438   \n",
       "min                       4.000000 -11467.000000       -8348.000000   \n",
       "25%                      44.000000  -1596.000000       -1212.000000   \n",
       "50%                      51.000000    -14.000000          28.000000   \n",
       "75%                      57.000000   1585.500000        1290.500000   \n",
       "max                      92.000000  10830.000000        9333.000000   \n",
       "\n",
       "       redCSPerMin  redGoldPerMin  \n",
       "count  9879.000000    9879.000000  \n",
       "mean     21.734923    1648.904140  \n",
       "std       2.191167     149.088841  \n",
       "min      10.700000    1121.200000  \n",
       "25%      20.300000    1542.750000  \n",
       "50%      21.800000    1637.800000  \n",
       "75%      23.300000    1741.850000  \n",
       "max      28.900000    2273.200000  \n",
       "\n",
       "[8 rows x 40 columns]"
      ]
     },
     "execution_count": 5,
     "metadata": {},
     "output_type": "execute_result"
    }
   ],
   "source": [
    "wins.describe()"
   ]
  },
  {
   "cell_type": "code",
   "execution_count": 6,
   "id": "889bf357",
   "metadata": {},
   "outputs": [],
   "source": [
    "## wins.hist(figsize=(20, 20))\n",
    "## plt.show()"
   ]
  },
  {
   "cell_type": "markdown",
   "id": "f434a4b8",
   "metadata": {},
   "source": [
    ">> Utilizarei o dataset para prevê as chances de vitória de cada time, vermelho e azul. Com isso, irei retirar a classe blueWins para que não ocorra influência. "
   ]
  },
  {
   "cell_type": "code",
   "execution_count": 7,
   "id": "95c55c99",
   "metadata": {},
   "outputs": [],
   "source": [
    "wins_copy = wins.copy()\n",
    "wins_copy = wins_copy.drop([\"blueWins\", \"gameId\"], axis = 1)"
   ]
  },
  {
   "cell_type": "code",
   "execution_count": 8,
   "id": "d6f7994a",
   "metadata": {},
   "outputs": [
    {
     "data": {
      "text/html": [
       "<div>\n",
       "<style scoped>\n",
       "    .dataframe tbody tr th:only-of-type {\n",
       "        vertical-align: middle;\n",
       "    }\n",
       "\n",
       "    .dataframe tbody tr th {\n",
       "        vertical-align: top;\n",
       "    }\n",
       "\n",
       "    .dataframe thead th {\n",
       "        text-align: right;\n",
       "    }\n",
       "</style>\n",
       "<table border=\"1\" class=\"dataframe\">\n",
       "  <thead>\n",
       "    <tr style=\"text-align: right;\">\n",
       "      <th></th>\n",
       "      <th>blueWardsPlaced</th>\n",
       "      <th>blueWardsDestroyed</th>\n",
       "      <th>blueFirstBlood</th>\n",
       "      <th>blueKills</th>\n",
       "      <th>blueDeaths</th>\n",
       "      <th>blueAssists</th>\n",
       "      <th>blueEliteMonsters</th>\n",
       "      <th>blueDragons</th>\n",
       "      <th>blueHeralds</th>\n",
       "      <th>blueTowersDestroyed</th>\n",
       "      <th>...</th>\n",
       "      <th>redTowersDestroyed</th>\n",
       "      <th>redTotalGold</th>\n",
       "      <th>redAvgLevel</th>\n",
       "      <th>redTotalExperience</th>\n",
       "      <th>redTotalMinionsKilled</th>\n",
       "      <th>redTotalJungleMinionsKilled</th>\n",
       "      <th>redGoldDiff</th>\n",
       "      <th>redExperienceDiff</th>\n",
       "      <th>redCSPerMin</th>\n",
       "      <th>redGoldPerMin</th>\n",
       "    </tr>\n",
       "  </thead>\n",
       "  <tbody>\n",
       "    <tr>\n",
       "      <th>count</th>\n",
       "      <td>9879.000000</td>\n",
       "      <td>9879.000000</td>\n",
       "      <td>9879.000000</td>\n",
       "      <td>9879.000000</td>\n",
       "      <td>9879.000000</td>\n",
       "      <td>9879.000000</td>\n",
       "      <td>9879.000000</td>\n",
       "      <td>9879.000000</td>\n",
       "      <td>9879.000000</td>\n",
       "      <td>9879.000000</td>\n",
       "      <td>...</td>\n",
       "      <td>9879.000000</td>\n",
       "      <td>9879.000000</td>\n",
       "      <td>9879.000000</td>\n",
       "      <td>9879.000000</td>\n",
       "      <td>9879.000000</td>\n",
       "      <td>9879.000000</td>\n",
       "      <td>9879.000000</td>\n",
       "      <td>9879.000000</td>\n",
       "      <td>9879.000000</td>\n",
       "      <td>9879.000000</td>\n",
       "    </tr>\n",
       "    <tr>\n",
       "      <th>mean</th>\n",
       "      <td>22.288288</td>\n",
       "      <td>2.824881</td>\n",
       "      <td>0.504808</td>\n",
       "      <td>6.183925</td>\n",
       "      <td>6.137666</td>\n",
       "      <td>6.645106</td>\n",
       "      <td>0.549954</td>\n",
       "      <td>0.361980</td>\n",
       "      <td>0.187974</td>\n",
       "      <td>0.051422</td>\n",
       "      <td>...</td>\n",
       "      <td>0.043021</td>\n",
       "      <td>16489.041401</td>\n",
       "      <td>6.925316</td>\n",
       "      <td>17961.730438</td>\n",
       "      <td>217.349226</td>\n",
       "      <td>51.313088</td>\n",
       "      <td>-14.414111</td>\n",
       "      <td>33.620306</td>\n",
       "      <td>21.734923</td>\n",
       "      <td>1648.904140</td>\n",
       "    </tr>\n",
       "    <tr>\n",
       "      <th>std</th>\n",
       "      <td>18.019177</td>\n",
       "      <td>2.174998</td>\n",
       "      <td>0.500002</td>\n",
       "      <td>3.011028</td>\n",
       "      <td>2.933818</td>\n",
       "      <td>4.064520</td>\n",
       "      <td>0.625527</td>\n",
       "      <td>0.480597</td>\n",
       "      <td>0.390712</td>\n",
       "      <td>0.244369</td>\n",
       "      <td>...</td>\n",
       "      <td>0.216900</td>\n",
       "      <td>1490.888406</td>\n",
       "      <td>0.305311</td>\n",
       "      <td>1198.583912</td>\n",
       "      <td>21.911668</td>\n",
       "      <td>10.027885</td>\n",
       "      <td>2453.349179</td>\n",
       "      <td>1920.370438</td>\n",
       "      <td>2.191167</td>\n",
       "      <td>149.088841</td>\n",
       "    </tr>\n",
       "    <tr>\n",
       "      <th>min</th>\n",
       "      <td>5.000000</td>\n",
       "      <td>0.000000</td>\n",
       "      <td>0.000000</td>\n",
       "      <td>0.000000</td>\n",
       "      <td>0.000000</td>\n",
       "      <td>0.000000</td>\n",
       "      <td>0.000000</td>\n",
       "      <td>0.000000</td>\n",
       "      <td>0.000000</td>\n",
       "      <td>0.000000</td>\n",
       "      <td>...</td>\n",
       "      <td>0.000000</td>\n",
       "      <td>11212.000000</td>\n",
       "      <td>4.800000</td>\n",
       "      <td>10465.000000</td>\n",
       "      <td>107.000000</td>\n",
       "      <td>4.000000</td>\n",
       "      <td>-11467.000000</td>\n",
       "      <td>-8348.000000</td>\n",
       "      <td>10.700000</td>\n",
       "      <td>1121.200000</td>\n",
       "    </tr>\n",
       "    <tr>\n",
       "      <th>25%</th>\n",
       "      <td>14.000000</td>\n",
       "      <td>1.000000</td>\n",
       "      <td>0.000000</td>\n",
       "      <td>4.000000</td>\n",
       "      <td>4.000000</td>\n",
       "      <td>4.000000</td>\n",
       "      <td>0.000000</td>\n",
       "      <td>0.000000</td>\n",
       "      <td>0.000000</td>\n",
       "      <td>0.000000</td>\n",
       "      <td>...</td>\n",
       "      <td>0.000000</td>\n",
       "      <td>15427.500000</td>\n",
       "      <td>6.800000</td>\n",
       "      <td>17209.500000</td>\n",
       "      <td>203.000000</td>\n",
       "      <td>44.000000</td>\n",
       "      <td>-1596.000000</td>\n",
       "      <td>-1212.000000</td>\n",
       "      <td>20.300000</td>\n",
       "      <td>1542.750000</td>\n",
       "    </tr>\n",
       "    <tr>\n",
       "      <th>50%</th>\n",
       "      <td>16.000000</td>\n",
       "      <td>3.000000</td>\n",
       "      <td>1.000000</td>\n",
       "      <td>6.000000</td>\n",
       "      <td>6.000000</td>\n",
       "      <td>6.000000</td>\n",
       "      <td>0.000000</td>\n",
       "      <td>0.000000</td>\n",
       "      <td>0.000000</td>\n",
       "      <td>0.000000</td>\n",
       "      <td>...</td>\n",
       "      <td>0.000000</td>\n",
       "      <td>16378.000000</td>\n",
       "      <td>7.000000</td>\n",
       "      <td>17974.000000</td>\n",
       "      <td>218.000000</td>\n",
       "      <td>51.000000</td>\n",
       "      <td>-14.000000</td>\n",
       "      <td>28.000000</td>\n",
       "      <td>21.800000</td>\n",
       "      <td>1637.800000</td>\n",
       "    </tr>\n",
       "    <tr>\n",
       "      <th>75%</th>\n",
       "      <td>20.000000</td>\n",
       "      <td>4.000000</td>\n",
       "      <td>1.000000</td>\n",
       "      <td>8.000000</td>\n",
       "      <td>8.000000</td>\n",
       "      <td>9.000000</td>\n",
       "      <td>1.000000</td>\n",
       "      <td>1.000000</td>\n",
       "      <td>0.000000</td>\n",
       "      <td>0.000000</td>\n",
       "      <td>...</td>\n",
       "      <td>0.000000</td>\n",
       "      <td>17418.500000</td>\n",
       "      <td>7.200000</td>\n",
       "      <td>18764.500000</td>\n",
       "      <td>233.000000</td>\n",
       "      <td>57.000000</td>\n",
       "      <td>1585.500000</td>\n",
       "      <td>1290.500000</td>\n",
       "      <td>23.300000</td>\n",
       "      <td>1741.850000</td>\n",
       "    </tr>\n",
       "    <tr>\n",
       "      <th>max</th>\n",
       "      <td>250.000000</td>\n",
       "      <td>27.000000</td>\n",
       "      <td>1.000000</td>\n",
       "      <td>22.000000</td>\n",
       "      <td>22.000000</td>\n",
       "      <td>29.000000</td>\n",
       "      <td>2.000000</td>\n",
       "      <td>1.000000</td>\n",
       "      <td>1.000000</td>\n",
       "      <td>4.000000</td>\n",
       "      <td>...</td>\n",
       "      <td>2.000000</td>\n",
       "      <td>22732.000000</td>\n",
       "      <td>8.200000</td>\n",
       "      <td>22269.000000</td>\n",
       "      <td>289.000000</td>\n",
       "      <td>92.000000</td>\n",
       "      <td>10830.000000</td>\n",
       "      <td>9333.000000</td>\n",
       "      <td>28.900000</td>\n",
       "      <td>2273.200000</td>\n",
       "    </tr>\n",
       "  </tbody>\n",
       "</table>\n",
       "<p>8 rows × 38 columns</p>\n",
       "</div>"
      ],
      "text/plain": [
       "       blueWardsPlaced  blueWardsDestroyed  blueFirstBlood    blueKills  \\\n",
       "count      9879.000000         9879.000000     9879.000000  9879.000000   \n",
       "mean         22.288288            2.824881        0.504808     6.183925   \n",
       "std          18.019177            2.174998        0.500002     3.011028   \n",
       "min           5.000000            0.000000        0.000000     0.000000   \n",
       "25%          14.000000            1.000000        0.000000     4.000000   \n",
       "50%          16.000000            3.000000        1.000000     6.000000   \n",
       "75%          20.000000            4.000000        1.000000     8.000000   \n",
       "max         250.000000           27.000000        1.000000    22.000000   \n",
       "\n",
       "        blueDeaths  blueAssists  blueEliteMonsters  blueDragons  blueHeralds  \\\n",
       "count  9879.000000  9879.000000        9879.000000  9879.000000  9879.000000   \n",
       "mean      6.137666     6.645106           0.549954     0.361980     0.187974   \n",
       "std       2.933818     4.064520           0.625527     0.480597     0.390712   \n",
       "min       0.000000     0.000000           0.000000     0.000000     0.000000   \n",
       "25%       4.000000     4.000000           0.000000     0.000000     0.000000   \n",
       "50%       6.000000     6.000000           0.000000     0.000000     0.000000   \n",
       "75%       8.000000     9.000000           1.000000     1.000000     0.000000   \n",
       "max      22.000000    29.000000           2.000000     1.000000     1.000000   \n",
       "\n",
       "       blueTowersDestroyed  ...  redTowersDestroyed  redTotalGold  \\\n",
       "count          9879.000000  ...         9879.000000   9879.000000   \n",
       "mean              0.051422  ...            0.043021  16489.041401   \n",
       "std               0.244369  ...            0.216900   1490.888406   \n",
       "min               0.000000  ...            0.000000  11212.000000   \n",
       "25%               0.000000  ...            0.000000  15427.500000   \n",
       "50%               0.000000  ...            0.000000  16378.000000   \n",
       "75%               0.000000  ...            0.000000  17418.500000   \n",
       "max               4.000000  ...            2.000000  22732.000000   \n",
       "\n",
       "       redAvgLevel  redTotalExperience  redTotalMinionsKilled  \\\n",
       "count  9879.000000         9879.000000            9879.000000   \n",
       "mean      6.925316        17961.730438             217.349226   \n",
       "std       0.305311         1198.583912              21.911668   \n",
       "min       4.800000        10465.000000             107.000000   \n",
       "25%       6.800000        17209.500000             203.000000   \n",
       "50%       7.000000        17974.000000             218.000000   \n",
       "75%       7.200000        18764.500000             233.000000   \n",
       "max       8.200000        22269.000000             289.000000   \n",
       "\n",
       "       redTotalJungleMinionsKilled   redGoldDiff  redExperienceDiff  \\\n",
       "count                  9879.000000   9879.000000        9879.000000   \n",
       "mean                     51.313088    -14.414111          33.620306   \n",
       "std                      10.027885   2453.349179        1920.370438   \n",
       "min                       4.000000 -11467.000000       -8348.000000   \n",
       "25%                      44.000000  -1596.000000       -1212.000000   \n",
       "50%                      51.000000    -14.000000          28.000000   \n",
       "75%                      57.000000   1585.500000        1290.500000   \n",
       "max                      92.000000  10830.000000        9333.000000   \n",
       "\n",
       "       redCSPerMin  redGoldPerMin  \n",
       "count  9879.000000    9879.000000  \n",
       "mean     21.734923    1648.904140  \n",
       "std       2.191167     149.088841  \n",
       "min      10.700000    1121.200000  \n",
       "25%      20.300000    1542.750000  \n",
       "50%      21.800000    1637.800000  \n",
       "75%      23.300000    1741.850000  \n",
       "max      28.900000    2273.200000  \n",
       "\n",
       "[8 rows x 38 columns]"
      ]
     },
     "execution_count": 8,
     "metadata": {},
     "output_type": "execute_result"
    }
   ],
   "source": [
    "wins_copy.describe()"
   ]
  },
  {
   "cell_type": "code",
   "execution_count": 26,
   "id": "7073fe7c",
   "metadata": {},
   "outputs": [
    {
     "data": {
      "text/plain": [
       "<AxesSubplot:>"
      ]
     },
     "execution_count": 26,
     "metadata": {},
     "output_type": "execute_result"
    },
    {
     "data": {
      "image/png": "[encoded data removed]",
      "text/plain": [
       "<Figure size 432x288 with 2 Axes>"
      ]
     },
     "metadata": {
      "needs_background": "light"
     },
     "output_type": "display_data"
    }
   ],
   "source": [
    "sns.heatmap(wins_copy.corr(), cmap = 'coolwarm')"
   ]
  },
  {
   "cell_type": "markdown",
   "id": "ec48c7e2",
   "metadata": {},
   "source": [
    "> **[#] Funções auxiliares**"
   ]
  },
  {
   "cell_type": "code",
   "execution_count": null,
   "id": "24a0de3a",
   "metadata": {},
   "outputs": [],
   "source": []
  },
  {
   "cell_type": "markdown",
   "id": "4f63f5dc",
   "metadata": {},
   "source": [
    "***"
   ]
  },
  {
   "cell_type": "markdown",
   "id": "8730882e",
   "metadata": {},
   "source": [
    "> **[3.1]** Aplique processos de pré-processamento e os necessários para execução do método K-NN. "
   ]
  },
  {
   "cell_type": "code",
   "execution_count": 10,
   "id": "70a0d98d",
   "metadata": {},
   "outputs": [],
   "source": [
    "#Pré-Processamento e Definição de Atributo \n",
    "\n",
    "x = wins_copy.drop(columns = \"blueFirstBlood\")\n",
    "y = wins_copy.loc[:, \"blueFirstBlood\"]\n",
    "\n",
    "x = RobustScaler().fit_transform(x)"
   ]
  },
  {
   "cell_type": "markdown",
   "id": "45664aa9",
   "metadata": {},
   "source": [
    ">>> Separando dados de treinamento e teste - 80% para treinamento e 20% para validação."
   ]
  },
  {
   "cell_type": "code",
   "execution_count": 11,
   "id": "5070fe05",
   "metadata": {},
   "outputs": [],
   "source": [
    "x_train, x_test, y_train, y_test = train_test_split(x, y, test_size= 0.2, random_state = 1)"
   ]
  },
  {
   "cell_type": "markdown",
   "id": "9df15f75",
   "metadata": {},
   "source": [
    ">>> Aplicação do KNN para 5 valores - K: 1, 3, 5, 7, 9"
   ]
  },
  {
   "cell_type": "code",
   "execution_count": 12,
   "id": "ab10e065",
   "metadata": {},
   "outputs": [],
   "source": [
    "k_list = [1,3,5,7,9]\n",
    "\n",
    "knn_list = []\n",
    "\n",
    "for k in k_list:\n",
    "    knn_list.append(KNeighborsClassifier(n_neighbors = k))\n",
    "\n",
    "for knn in knn_list:\n",
    "    knn.fit(x_train, y_train)"
   ]
  },
  {
   "cell_type": "code",
   "execution_count": 13,
   "id": "3f6fbcc9",
   "metadata": {},
   "outputs": [],
   "source": [
    "result_list = []\n",
    "\n",
    "for knn in knn_list:\n",
    "    result_list.append(knn.predict(x_test))"
   ]
  },
  {
   "cell_type": "code",
   "execution_count": 27,
   "id": "3f31fbca",
   "metadata": {},
   "outputs": [
    {
     "data": {
      "text/plain": [
       "[array([1, 0, 1, ..., 0, 0, 0]),\n",
       " array([1, 0, 1, ..., 0, 0, 0]),\n",
       " array([1, 0, 1, ..., 1, 0, 0]),\n",
       " array([1, 0, 1, ..., 1, 0, 0]),\n",
       " array([1, 0, 1, ..., 0, 0, 0])]"
      ]
     },
     "execution_count": 27,
     "metadata": {},
     "output_type": "execute_result"
    }
   ],
   "source": [
    "result_list"
   ]
  },
  {
   "cell_type": "markdown",
   "id": "95d7b2ab",
   "metadata": {},
   "source": [
    "> **[3.2]** Aplique correlação ou PCA e selecione um número menor de atributos com esses métodos e justifique sua decisão. "
   ]
  },
  {
   "cell_type": "code",
   "execution_count": null,
   "id": "01f31ddd",
   "metadata": {},
   "outputs": [],
   "source": []
  },
  {
   "cell_type": "markdown",
   "id": "a158371f",
   "metadata": {},
   "source": [
    "> **[3.3]** Escolha 5 valores de K e mostre os resultados (escolha 3 métricas de avaliação e mostre a matriz de confusão) e explique os resultados encontrados. "
   ]
  },
  {
   "cell_type": "code",
   "execution_count": null,
   "id": "04a4430b",
   "metadata": {},
   "outputs": [],
   "source": []
  },
  {
   "cell_type": "markdown",
   "id": "e54d9980",
   "metadata": {},
   "source": [
    "> **[3.4]** Escolha 2 métricas de similaridade (diferentes distâncias ou outras métricas - correlação, por exemplo) para definir o(s) vizinho(s) mais próximos e explique os resultados encontrados. "
   ]
  },
  {
   "cell_type": "code",
   "execution_count": null,
   "id": "277f16d4",
   "metadata": {},
   "outputs": [],
   "source": []
  },
  {
   "cell_type": "markdown",
   "id": "220b3818",
   "metadata": {},
   "source": [
    "> **[3.5]** Melhor K e melhor distância e testar com o conjunto de atributos do item 2."
   ]
  },
  {
   "cell_type": "markdown",
   "id": "0c574c82",
   "metadata": {},
   "source": [
    "**4 - (2 pts)** Considerando a matriz de confusão abaixo, quais são os valores das métricas listadas abaixo?"
   ]
  },
  {
   "cell_type": "markdown",
   "id": "765c7525",
   "metadata": {},
   "source": [
    "|| CLASSE VERDADEIRA | C. V. | C. V. | C. V. | C. V. |  |\n",
    "| :- | :- | :- | :- | :- | :- | :- |\n",
    "| | *CLASSES* | Maçã | Laranja | Limão | Manga | *Total* |\n",
    "| | | | | | | |\n",
    "| **CLASSE PREDITA** | Maçã | 70 | 20 | 5 | 5 | 100 | \n",
    "| **C. P.** | Laranja | 10 | 67 | 3 | 20 | 100\n",
    "| **C. P.** | Limão | 5 | 30 | 55 | 10 | 100 |\n",
    "| **C. P.** | Manga | 5 | 4 | 2 | 1.000 | 1.011 |\n",
    "| |\n",
    "| | *Total* | 90 | 121 | 65 | 1.035 | 2.622 |"
   ]
  },
  {
   "cell_type": "markdown",
   "id": "afff2e45",
   "metadata": {},
   "source": [
    "> **[*] Ambiente e Dependências**"
   ]
  },
  {
   "cell_type": "code",
   "execution_count": 14,
   "id": "0e0d9900",
   "metadata": {},
   "outputs": [],
   "source": [
    "import math \n",
    "import numpy as np\n",
    "import pandas as pd\n",
    "import matplotlib.pyplot as plt\n",
    "import seaborn as sn\n",
    "\n",
    "from scipy.integrate import simps, trapz"
   ]
  },
  {
   "cell_type": "markdown",
   "id": "9b8e689b",
   "metadata": {},
   "source": [
    "> **[#] Funções auxiliares**"
   ]
  },
  {
   "cell_type": "code",
   "execution_count": 15,
   "id": "b74dadca",
   "metadata": {},
   "outputs": [],
   "source": [
    "def sensibilidade(fruta: dict[str, int]): ## Sensibilidade - VP / (VP + FN)\n",
    "  return fruta[\"vp\"] / (fruta[\"vp\"] + fruta[\"fn\"])\n",
    "\n",
    "def especificidade(fruta: dict[str, int]): ## Especificidade - VN / (VN + FP)\n",
    "  return fruta[\"vn\"] / (fruta[\"vn\"] + fruta[\"fp\"])\n",
    "\n",
    "def precisao(fruta: dict[str, int]): ## Precisão - VP / (VP + FP)\n",
    "  return fruta[\"vp\"] / (fruta[\"vp\"] + fruta[\"fp\"])\n",
    "\n",
    "def f1(precisao, sensibilidade): ## F1 = (2 * Precisão * Sensibilidade) / (Precisão + Sensibilidade)\n",
    "  return (2 * precisao * sensibilidade) / (precisao + sensibilidade)\n",
    "\n",
    "def acuracia(fruta: dict[str, int]): ## Acurácia = (VN + VP) / (VP + FN + VN + FP)\n",
    "  return (fruta[\"vn\"] + fruta[\"vp\"]) / (fruta[\"vp\"] + fruta[\"fn\"] + fruta[\"vn\"] + fruta[\"fp\"])   \n",
    "\n",
    "def phi(fruta: dict[str, int]):  ## Coeficiente de Correlação de Matthews (phi) = (VP * VN – FP * FN) / sqrt((VP + FP) * (VP + FN) * (VN + FP) * (VN + FN))\n",
    "  return (((fruta[\"vp\"] * fruta[\"vn\"]) - (fruta[\"fp\"] + fruta[\"fn\"])) / math.sqrt((fruta[\"vp\"] + fruta[\"fp\"]) * (fruta[\"vp\"] + fruta[\"fn\"]) * (fruta[\"vn\"] + fruta[\"fp\"]) * (fruta[\"vn\"] + fruta[\"fn\"])))\n",
    "\n",
    "def tpr(fruta: dict[str, int]): ## True Positive Rate - Taxa de Verdadeiro Positivo = (VP / (VP + FN))\n",
    "  return fruta[\"vp\"] / (fruta[\"vp\"] + fruta[\"fn\"])\n",
    "\n",
    "def fpr(fruta: dict[str, int]): ## False Positive Rate - Taxa de Falso Positivo = (FP / (VN + FP))\n",
    "  return fruta[\"fp\"] / (fruta[\"vn\"] + fruta[\"fp\"])"
   ]
  },
  {
   "cell_type": "markdown",
   "id": "ab9da7b3",
   "metadata": {},
   "source": [
    "> **[#] Convertendo Planilha** "
   ]
  },
  {
   "cell_type": "code",
   "execution_count": 16,
   "id": "5f5b98c6",
   "metadata": {},
   "outputs": [
    {
     "data": {
      "image/png": "[encoded data removed]",
      "text/plain": [
       "<Figure size 432x288 with 2 Axes>"
      ]
     },
     "metadata": {
      "needs_background": "light"
     },
     "output_type": "display_data"
    }
   ],
   "source": [
    "conf_arr = np.array([[70, 20, 5, 5], [10, 67, 3, 20], [5, 30, 55, 10], [5, 4, 2, 1000]])\n",
    "\n",
    "df_cm = pd.DataFrame(conf_arr, index = ['Maçã', 'Laranja', 'Limão', 'Manga'], columns = ['Maçã', 'Laranja', 'Limão', 'Manga'])\n",
    "\n",
    "res = sn.heatmap(df_cm, annot = True, vmin = 0.0, vmax = 100.0, cmap = plt.cm.Blues, fmt = 'g')\n",
    "\n",
    "plt.yticks([0.5, 1.5, 2.5, 3.5], ['Maçã', 'Laranja', 'Limão', 'Manga'], va = 'center')\n",
    "plt.title('Matriz de Confusão - Prova IA')\n",
    "plt.show()"
   ]
  },
  {
   "cell_type": "markdown",
   "id": "cad79b0d",
   "metadata": {},
   "source": [
    "> **[#] Dados** "
   ]
  },
  {
   "cell_type": "code",
   "execution_count": 17,
   "id": "d92611e4",
   "metadata": {},
   "outputs": [],
   "source": [
    "# Frutas\n",
    "maca = {\"vp\":70, \"fp\":(20 + 5 + 5), \"fn\":(10 + 5 + 5), \"vn\":(67 + 55 + 1000)}\n",
    "laranja = {\"vp\":67, \"fp\":(10 + 3 + 20), \"fn\":(20 + 30 + 4), \"vn\":(70 + 55 + 1000)}\n",
    "limao = {\"vp\":55, \"fp\":(5 + 30 + 10), \"fn\":(5 + 3 + 2), \"vn\":(70 + 67 + 1000)}\n",
    "manga = {\"vp\":1000, \"fp\":(5 + 4 + 2), \"fn\":(5 + 20 + 10 ), \"vn\":(70 + 67 + 55)}"
   ]
  },
  {
   "cell_type": "code",
   "execution_count": 18,
   "id": "e12901d4",
   "metadata": {},
   "outputs": [],
   "source": [
    "# Métricas\n",
    "sensibilidade = (sensibilidade(maca) + sensibilidade(laranja) + sensibilidade(limao) + sensibilidade(manga)) / 4\n",
    "especificidade = (especificidade(maca) + especificidade(laranja) + especificidade(limao) + especificidade(manga)) / 4\n",
    "precisao = (precisao(maca) + precisao(laranja) + precisao(limao) + precisao(manga)) / 4 \n",
    "f1 = f1(precisao, sensibilidade)\n",
    "acuracia = (acuracia(maca) + acuracia(laranja) + acuracia(limao) + acuracia(manga)) / 4 \n",
    "phi = (phi(maca) + phi(laranja) + phi(limao) + phi(manga)) / 4 \n",
    "\n",
    "# ROC - AUC\n",
    "tpr = (tpr(maca) + tpr(laranja) + tpr(limao) + tpr(manga)) / 4 \n",
    "fpr = (fpr(maca) + fpr(laranja) + fpr(limao) + fpr(manga)) / 4 "
   ]
  },
  {
   "cell_type": "markdown",
   "id": "def5bfc0",
   "metadata": {},
   "source": [
    "> **[#] Métricas - Matriz de Confusão** "
   ]
  },
  {
   "cell_type": "code",
   "execution_count": 19,
   "id": "81fc8173",
   "metadata": {},
   "outputs": [
    {
     "name": "stdout",
     "output_type": "stream",
     "text": [
      "Sensibilidade = 0.79\n",
      "Especificidade = 0.96\n",
      "Precisão = 0.73\n",
      "Medida F1 = 0.76\n",
      "Acurácia = 0.95\n",
      "Coeficiente de Matthews = 0.71\n"
     ]
    }
   ],
   "source": [
    "print(f'Sensibilidade = {sensibilidade:.2f}')\n",
    "print(f'Especificidade = {especificidade:.2f}')\n",
    "print(f'Precisão = {precisao:.2f}')\n",
    "print(f'Medida F1 = {f1:.2f}')\n",
    "print(f'Acurácia = {acuracia:.2f}')\n",
    "print(f'Coeficiente de Matthews = {phi:.2f}')"
   ]
  },
  {
   "cell_type": "markdown",
   "id": "b911e25d",
   "metadata": {},
   "source": [
    "> **[*] AUC**"
   ]
  },
  {
   "cell_type": "code",
   "execution_count": 20,
   "id": "a3e7fa44",
   "metadata": {},
   "outputs": [
    {
     "name": "stdout",
     "output_type": "stream",
     "text": [
      "Taxa de verdadeiro positivo = 0.79\n",
      "Taxa de falso positivo = 0.04\n"
     ]
    }
   ],
   "source": [
    "print(f'Taxa de verdadeiro positivo = {tpr:.2f}')\n",
    "print(f'Taxa de falso positivo = {fpr:.2f}')"
   ]
  },
  {
   "cell_type": "code",
   "execution_count": 21,
   "metadata": {},
   "outputs": [
    {
     "name": "stdout",
     "output_type": "stream",
     "text": [
      "Area Under The Curve - AUC = 0.87\n"
     ]
    }
   ],
   "source": [
    "x = (0, tpr, 1)\n",
    "y = (0, fpr, 1)\n",
    "\n",
    "auc = trapz(x, y)\n",
    "\n",
    "print(f'Area Under The Curve - AUC = {auc:.2f}')"
   ]
  },
  {
   "cell_type": "markdown",
   "id": "8424c043",
   "metadata": {},
   "source": [
    "> **[*] Como você resolveria o problema dessa base de dados observando as métricas de avaliação?**\n",
    "\n",
    "Ao analisar os dados da matriz, é possível aferir que há um desbalanceamento entre as classes limão e manga com, respectivamente, 65 e 1.035 instâncias. À vista disso, é interessante o uso de um nivelador, balanceador de classes, para que haja uma coleta de dados menos tendenciosa. Como há uma quantidade elevada apenas da classe manga, o uso do método **undersampling** seria o mais interessante para o contexto, este que exclui observações da classe para balancear o conjunto de dados."
   ]
  },
  {
   "cell_type": "markdown",
   "id": "4bc7e9fc",
   "metadata": {},
   "source": [
    "**5* - (Extra ++)** Elabore uma pergunta e responda sobre \"Preconceito e Inteligência Artificial\", refletindo aspectos importantes do método que uma pessoa engenheiro de dados/cientista de dados deve conhecer e se preocupar garantindo ética nos modelos criados."
   ]
  },
  {
   "cell_type": "markdown",
   "id": "be5aaa51",
   "metadata": {},
   "source": [
    "***"
   ]
  },
  {
   "cell_type": "code",
   "execution_count": 22,
   "id": "e9f3bf81",
   "metadata": {},
   "outputs": [],
   "source": [
    "#!pip3 install math\n",
    "#!pip3 install matplotlib\n",
    "#!pip3 install pandas\n",
    "#!pip3 install seaborn\n",
    "#!pip3 install statistics \n",
    "#!pip3 install sklearn"
   ]
  }
 ],
 "metadata": {
  "kernelspec": {
   "display_name": "Python 3 (ipykernel)",
   "language": "python",
   "name": "python3"
  },
  "language_info": {
   "codemirror_mode": {
    "name": "ipython",
    "version": 3
   },
   "file_extension": ".py",
   "mimetype": "text/x-python",
   "name": "python",
   "nbconvert_exporter": "python",
   "pygments_lexer": "ipython3",
   "version": "3.9.5"
  }
 },
 "nbformat": 4,
 "nbformat_minor": 5
}
